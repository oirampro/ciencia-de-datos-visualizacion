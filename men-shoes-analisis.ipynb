{
 "cells": [
  {
   "cell_type": "markdown",
   "metadata": {},
   "source": [
    "# Exploracion de los datos del dataset shoes-men"
   ]
  },
  {
   "cell_type": "code",
   "execution_count": 1,
   "metadata": {},
   "outputs": [
    {
     "name": "stdout",
     "output_type": "stream",
     "text": [
      "Defaulting to user installation because normal site-packages is not writeable\n",
      "Requirement already satisfied: seaborn in /home/mario/.local/lib/python3.13/site-packages (0.13.2)\n",
      "Requirement already satisfied: numpy!=1.24.0,>=1.20 in /home/mario/.local/lib/python3.13/site-packages (from seaborn) (2.2.1)\n",
      "Requirement already satisfied: pandas>=1.2 in /home/mario/.local/lib/python3.13/site-packages (from seaborn) (2.2.3)\n",
      "Requirement already satisfied: matplotlib!=3.6.1,>=3.4 in /home/mario/.local/lib/python3.13/site-packages (from seaborn) (3.10.0)\n",
      "Requirement already satisfied: contourpy>=1.0.1 in /home/mario/.local/lib/python3.13/site-packages (from matplotlib!=3.6.1,>=3.4->seaborn) (1.3.1)\n",
      "Requirement already satisfied: cycler>=0.10 in /home/mario/.local/lib/python3.13/site-packages (from matplotlib!=3.6.1,>=3.4->seaborn) (0.12.1)\n",
      "Requirement already satisfied: fonttools>=4.22.0 in /home/mario/.local/lib/python3.13/site-packages (from matplotlib!=3.6.1,>=3.4->seaborn) (4.55.8)\n",
      "Requirement already satisfied: kiwisolver>=1.3.1 in /home/mario/.local/lib/python3.13/site-packages (from matplotlib!=3.6.1,>=3.4->seaborn) (1.4.8)\n",
      "Requirement already satisfied: packaging>=20.0 in /usr/lib/python3.13/site-packages (from matplotlib!=3.6.1,>=3.4->seaborn) (24.2)\n",
      "Requirement already satisfied: pillow>=8 in /usr/lib64/python3.13/site-packages (from matplotlib!=3.6.1,>=3.4->seaborn) (11.0.0)\n",
      "Requirement already satisfied: pyparsing>=2.3.1 in /home/mario/.local/lib/python3.13/site-packages (from matplotlib!=3.6.1,>=3.4->seaborn) (3.2.1)\n",
      "Requirement already satisfied: python-dateutil>=2.7 in /usr/lib/python3.13/site-packages (from matplotlib!=3.6.1,>=3.4->seaborn) (2.8.2)\n",
      "Requirement already satisfied: pytz>=2020.1 in /home/mario/.local/lib/python3.13/site-packages (from pandas>=1.2->seaborn) (2024.2)\n",
      "Requirement already satisfied: tzdata>=2022.7 in /home/mario/.local/lib/python3.13/site-packages (from pandas>=1.2->seaborn) (2024.2)\n",
      "Requirement already satisfied: six>=1.5 in /usr/lib/python3.13/site-packages (from python-dateutil>=2.7->matplotlib!=3.6.1,>=3.4->seaborn) (1.16.0)\n",
      "Note: you may need to restart the kernel to use updated packages.\n",
      "Defaulting to user installation because normal site-packages is not writeable\n",
      "Requirement already satisfied: pandas in /home/mario/.local/lib/python3.13/site-packages (2.2.3)\n",
      "Requirement already satisfied: numpy>=1.26.0 in /home/mario/.local/lib/python3.13/site-packages (from pandas) (2.2.1)\n",
      "Requirement already satisfied: python-dateutil>=2.8.2 in /usr/lib/python3.13/site-packages (from pandas) (2.8.2)\n",
      "Requirement already satisfied: pytz>=2020.1 in /home/mario/.local/lib/python3.13/site-packages (from pandas) (2024.2)\n",
      "Requirement already satisfied: tzdata>=2022.7 in /home/mario/.local/lib/python3.13/site-packages (from pandas) (2024.2)\n",
      "Requirement already satisfied: six>=1.5 in /usr/lib/python3.13/site-packages (from python-dateutil>=2.8.2->pandas) (1.16.0)\n",
      "Note: you may need to restart the kernel to use updated packages.\n",
      "Defaulting to user installation because normal site-packages is not writeable\n",
      "Requirement already satisfied: plotly in /home/mario/.local/lib/python3.13/site-packages (6.0.0)\n",
      "Requirement already satisfied: narwhals>=1.15.1 in /home/mario/.local/lib/python3.13/site-packages (from plotly) (1.24.1)\n",
      "Requirement already satisfied: packaging in /usr/lib/python3.13/site-packages (from plotly) (24.2)\n",
      "Note: you may need to restart the kernel to use updated packages.\n",
      "Defaulting to user installation because normal site-packages is not writeable\n",
      "Requirement already satisfied: prettytable in /home/mario/.local/lib/python3.13/site-packages (3.13.0)\n",
      "Requirement already satisfied: wcwidth in /home/mario/.local/lib/python3.13/site-packages (from prettytable) (0.2.13)\n",
      "Note: you may need to restart the kernel to use updated packages.\n",
      "Defaulting to user installation because normal site-packages is not writeable\n",
      "Requirement already satisfied: nbformat in /home/mario/.local/lib/python3.13/site-packages (5.10.4)\n",
      "Requirement already satisfied: fastjsonschema>=2.15 in /home/mario/.local/lib/python3.13/site-packages (from nbformat) (2.21.1)\n",
      "Requirement already satisfied: jsonschema>=2.6 in /home/mario/.local/lib/python3.13/site-packages (from nbformat) (4.23.0)\n",
      "Requirement already satisfied: jupyter-core!=5.0.*,>=4.12 in /home/mario/.local/lib/python3.13/site-packages (from nbformat) (5.7.2)\n",
      "Requirement already satisfied: traitlets>=5.1 in /home/mario/.local/lib/python3.13/site-packages (from nbformat) (5.14.3)\n",
      "Requirement already satisfied: attrs>=22.2.0 in /home/mario/.local/lib/python3.13/site-packages (from jsonschema>=2.6->nbformat) (25.1.0)\n",
      "Requirement already satisfied: jsonschema-specifications>=2023.03.6 in /home/mario/.local/lib/python3.13/site-packages (from jsonschema>=2.6->nbformat) (2024.10.1)\n",
      "Requirement already satisfied: referencing>=0.28.4 in /home/mario/.local/lib/python3.13/site-packages (from jsonschema>=2.6->nbformat) (0.36.2)\n",
      "Requirement already satisfied: rpds-py>=0.7.1 in /home/mario/.local/lib/python3.13/site-packages (from jsonschema>=2.6->nbformat) (0.22.3)\n",
      "Requirement already satisfied: platformdirs>=2.5 in /home/mario/.local/lib/python3.13/site-packages (from jupyter-core!=5.0.*,>=4.12->nbformat) (4.3.6)\n",
      "Note: you may need to restart the kernel to use updated packages.\n"
     ]
    }
   ],
   "source": [
    "%pip install seaborn\n",
    "%pip install pandas\n",
    "%pip install plotly --upgrade \n",
    "%pip install prettytable\n",
    "%pip install nbformat --upgrade \n",
    "\n",
    "import matplotlib.pyplot as plt\n",
    "import seaborn as sns\n",
    "import pandas as pd\n",
    "import plotly.express as px\n",
    "import plotly.graph_objects as go\n",
    "\n",
    "import prettytable\n",
    "\n",
    "prettytable.DEFAULT = 'DEFAULT'\n",
    "\n",
    "# Cargar el dataset\n",
    "df = pd.read_csv(\"iris.csv\")"
   ]
  },
  {
   "cell_type": "code",
   "execution_count": 2,
   "metadata": {},
   "outputs": [
    {
     "data": {
      "text/html": [
       "<div>\n",
       "<style scoped>\n",
       "    .dataframe tbody tr th:only-of-type {\n",
       "        vertical-align: middle;\n",
       "    }\n",
       "\n",
       "    .dataframe tbody tr th {\n",
       "        vertical-align: top;\n",
       "    }\n",
       "\n",
       "    .dataframe thead th {\n",
       "        text-align: right;\n",
       "    }\n",
       "</style>\n",
       "<table border=\"1\" class=\"dataframe\">\n",
       "  <thead>\n",
       "    <tr style=\"text-align: right;\">\n",
       "      <th></th>\n",
       "      <th>Brand_Name</th>\n",
       "      <th>How_Many_Sold</th>\n",
       "      <th>Current_Price</th>\n",
       "      <th>Product_details</th>\n",
       "      <th>RATING</th>\n",
       "    </tr>\n",
       "  </thead>\n",
       "  <tbody>\n",
       "    <tr>\n",
       "      <th>0</th>\n",
       "      <td>ASIAN</td>\n",
       "      <td>2,242</td>\n",
       "      <td>₹1,098</td>\n",
       "      <td>Oxygen-01 Sports Running,Walking &amp; Gym Shoes w...</td>\n",
       "      <td>3.8</td>\n",
       "    </tr>\n",
       "    <tr>\n",
       "      <th>1</th>\n",
       "      <td>ASIAN</td>\n",
       "      <td>240</td>\n",
       "      <td>₹674</td>\n",
       "      <td>Men's Express-08 Sports Running,Walking,Gym,Tr...</td>\n",
       "      <td>4.0</td>\n",
       "    </tr>\n",
       "    <tr>\n",
       "      <th>2</th>\n",
       "      <td>ASIAN</td>\n",
       "      <td>16,662</td>\n",
       "      <td>₹588</td>\n",
       "      <td>Men's Cosko Sports Running,Walking,Gym,Trainin...</td>\n",
       "      <td>3.8</td>\n",
       "    </tr>\n",
       "    <tr>\n",
       "      <th>3</th>\n",
       "      <td>ASIAN</td>\n",
       "      <td>135</td>\n",
       "      <td>₹599</td>\n",
       "      <td>Wind-03 Sports Running,Walking &amp; Gym Shoes wit...</td>\n",
       "      <td>4.0</td>\n",
       "    </tr>\n",
       "    <tr>\n",
       "      <th>4</th>\n",
       "      <td>Reebok</td>\n",
       "      <td>240</td>\n",
       "      <td>₹982</td>\n",
       "      <td>Men's Velocity Runner Lp Running Shoe</td>\n",
       "      <td>4.0</td>\n",
       "    </tr>\n",
       "  </tbody>\n",
       "</table>\n",
       "</div>"
      ],
      "text/plain": [
       "  Brand_Name How_Many_Sold Current_Price  \\\n",
       "0      ASIAN         2,242        ₹1,098   \n",
       "1      ASIAN           240          ₹674   \n",
       "2      ASIAN        16,662          ₹588   \n",
       "3      ASIAN           135          ₹599   \n",
       "4     Reebok           240          ₹982   \n",
       "\n",
       "                                     Product_details  RATING  \n",
       "0  Oxygen-01 Sports Running,Walking & Gym Shoes w...     3.8  \n",
       "1  Men's Express-08 Sports Running,Walking,Gym,Tr...     4.0  \n",
       "2  Men's Cosko Sports Running,Walking,Gym,Trainin...     3.8  \n",
       "3  Wind-03 Sports Running,Walking & Gym Shoes wit...     4.0  \n",
       "4            Men's Velocity Runner Lp Running Shoe       4.0  "
      ]
     },
     "execution_count": 2,
     "metadata": {},
     "output_type": "execute_result"
    }
   ],
   "source": [
    "men_shoes_data = pd.read_csv(\"MEN_SHOES.csv\")\n",
    "men_shoes_data.head()"
   ]
  },
  {
   "cell_type": "code",
   "execution_count": 3,
   "metadata": {},
   "outputs": [
    {
     "name": "stdout",
     "output_type": "stream",
     "text": [
      "<class 'pandas.core.frame.DataFrame'>\n",
      "RangeIndex: 23940 entries, 0 to 23939\n",
      "Data columns (total 5 columns):\n",
      " #   Column           Non-Null Count  Dtype  \n",
      "---  ------           --------------  -----  \n",
      " 0   Brand_Name       23940 non-null  object \n",
      " 1   How_Many_Sold    23940 non-null  object \n",
      " 2   Current_Price    23142 non-null  object \n",
      " 3   Product_details  23940 non-null  object \n",
      " 4   RATING           23940 non-null  float64\n",
      "dtypes: float64(1), object(4)\n",
      "memory usage: 935.3+ KB\n"
     ]
    }
   ],
   "source": [
    "men_shoes_data.info()"
   ]
  },
  {
   "cell_type": "code",
   "execution_count": 4,
   "metadata": {},
   "outputs": [
    {
     "name": "stdout",
     "output_type": "stream",
     "text": [
      "<class 'pandas.core.frame.DataFrame'>\n",
      "RangeIndex: 23940 entries, 0 to 23939\n",
      "Data columns (total 5 columns):\n",
      " #   Column           Non-Null Count  Dtype  \n",
      "---  ------           --------------  -----  \n",
      " 0   Brand_Name       23940 non-null  object \n",
      " 1   How_Many_Sold    23940 non-null  Int64  \n",
      " 2   Current_Price    23142 non-null  object \n",
      " 3   Product_details  23940 non-null  object \n",
      " 4   RATING           23940 non-null  float64\n",
      "dtypes: Int64(1), float64(1), object(3)\n",
      "memory usage: 958.7+ KB\n"
     ]
    }
   ],
   "source": [
    "# Codigo para convertir la columna de numero de pares vendidos a un valor numerico.\n",
    "men_shoes_data['How_Many_Sold'] = men_shoes_data['How_Many_Sold'].apply(lambda cantidad: cantidad.replace(',', ''))\n",
    "men_shoes_data['How_Many_Sold'] = pd.to_numeric(men_shoes_data['How_Many_Sold'], errors='coerce').astype('Int64')\n",
    "men_shoes_data.info()"
   ]
  },
  {
   "cell_type": "code",
   "execution_count": 5,
   "metadata": {},
   "outputs": [],
   "source": [
    "# Codigo para convertir la columna de precio actual a un valor numerico.\n",
    "\n",
    "# Eliminar de la columna cualquier caracter no-numerico menos el punto.\n",
    "import re\n",
    "men_shoes_data['Current_Price'] = men_shoes_data['Current_Price'].apply(lambda precio: re.sub(r\"[^\\d.]\", \"\", str(precio)))\n",
    "# Paso 1: Convertir a numérico (los strings vacíos o no numéricos serán NaN)\n",
    "men_shoes_data['Current_Price'] = pd.to_numeric(men_shoes_data['Current_Price'], errors='coerce')\n",
    "# Paso 2: Verificar si hay valores con decimales no cero\n",
    "tiene_decimales = (men_shoes_data['Current_Price'].dropna() % 1 != 0).any()\n",
    "# Paso 3: Convertir a Int64 si no hay decimales, de lo contrario queda float\n",
    "if not tiene_decimales:\n",
    "    men_shoes_data['Current_Price'] = men_shoes_data['Current_Price'].astype('Int64')"
   ]
  },
  {
   "cell_type": "code",
   "execution_count": 6,
   "metadata": {},
   "outputs": [
    {
     "name": "stdout",
     "output_type": "stream",
     "text": [
      "<class 'pandas.core.frame.DataFrame'>\n",
      "RangeIndex: 23940 entries, 0 to 23939\n",
      "Data columns (total 5 columns):\n",
      " #   Column           Non-Null Count  Dtype  \n",
      "---  ------           --------------  -----  \n",
      " 0   Brand_Name       23940 non-null  object \n",
      " 1   How_Many_Sold    23940 non-null  Int64  \n",
      " 2   Current_Price    23142 non-null  Int64  \n",
      " 3   Product_details  23940 non-null  object \n",
      " 4   RATING           23940 non-null  float64\n",
      "dtypes: Int64(2), float64(1), object(2)\n",
      "memory usage: 982.0+ KB\n"
     ]
    }
   ],
   "source": [
    "men_shoes_data.info()"
   ]
  },
  {
   "cell_type": "code",
   "execution_count": 7,
   "metadata": {},
   "outputs": [
    {
     "name": "stdout",
     "output_type": "stream",
     "text": [
      "<class 'pandas.core.frame.DataFrame'>\n",
      "Index: 23142 entries, 0 to 23939\n",
      "Data columns (total 5 columns):\n",
      " #   Column           Non-Null Count  Dtype  \n",
      "---  ------           --------------  -----  \n",
      " 0   Brand_Name       23142 non-null  object \n",
      " 1   How_Many_Sold    23142 non-null  Int64  \n",
      " 2   Current_Price    23142 non-null  Int64  \n",
      " 3   Product_details  23142 non-null  object \n",
      " 4   RATING           23142 non-null  float64\n",
      "dtypes: Int64(2), float64(1), object(2)\n",
      "memory usage: 1.1+ MB\n"
     ]
    }
   ],
   "source": [
    "men_shoes_data = men_shoes_data.dropna(subset=['How_Many_Sold', 'Current_Price'])\n",
    "men_shoes_data.info()"
   ]
  },
  {
   "cell_type": "code",
   "execution_count": 8,
   "metadata": {},
   "outputs": [
    {
     "data": {
      "text/html": [
       "<div>\n",
       "<style scoped>\n",
       "    .dataframe tbody tr th:only-of-type {\n",
       "        vertical-align: middle;\n",
       "    }\n",
       "\n",
       "    .dataframe tbody tr th {\n",
       "        vertical-align: top;\n",
       "    }\n",
       "\n",
       "    .dataframe thead th {\n",
       "        text-align: right;\n",
       "    }\n",
       "</style>\n",
       "<table border=\"1\" class=\"dataframe\">\n",
       "  <thead>\n",
       "    <tr style=\"text-align: right;\">\n",
       "      <th></th>\n",
       "      <th>How_Many_Sold</th>\n",
       "      <th>Current_Price</th>\n",
       "      <th>RATING</th>\n",
       "    </tr>\n",
       "  </thead>\n",
       "  <tbody>\n",
       "    <tr>\n",
       "      <th>count</th>\n",
       "      <td>23142.0</td>\n",
       "      <td>23142.0</td>\n",
       "      <td>23142.00000</td>\n",
       "    </tr>\n",
       "    <tr>\n",
       "      <th>mean</th>\n",
       "      <td>3607.896552</td>\n",
       "      <td>842.258621</td>\n",
       "      <td>3.82069</td>\n",
       "    </tr>\n",
       "    <tr>\n",
       "      <th>std</th>\n",
       "      <td>10896.836132</td>\n",
       "      <td>387.523381</td>\n",
       "      <td>0.40462</td>\n",
       "    </tr>\n",
       "    <tr>\n",
       "      <th>min</th>\n",
       "      <td>2.0</td>\n",
       "      <td>231.0</td>\n",
       "      <td>2.40000</td>\n",
       "    </tr>\n",
       "    <tr>\n",
       "      <th>25%</th>\n",
       "      <td>173.0</td>\n",
       "      <td>588.0</td>\n",
       "      <td>3.60000</td>\n",
       "    </tr>\n",
       "    <tr>\n",
       "      <th>50%</th>\n",
       "      <td>406.5</td>\n",
       "      <td>776.5</td>\n",
       "      <td>4.00000</td>\n",
       "    </tr>\n",
       "    <tr>\n",
       "      <th>75%</th>\n",
       "      <td>1795.0</td>\n",
       "      <td>1080.0</td>\n",
       "      <td>4.00000</td>\n",
       "    </tr>\n",
       "    <tr>\n",
       "      <th>max</th>\n",
       "      <td>72611.0</td>\n",
       "      <td>2159.0</td>\n",
       "      <td>4.40000</td>\n",
       "    </tr>\n",
       "  </tbody>\n",
       "</table>\n",
       "</div>"
      ],
      "text/plain": [
       "       How_Many_Sold  Current_Price       RATING\n",
       "count        23142.0        23142.0  23142.00000\n",
       "mean     3607.896552     842.258621      3.82069\n",
       "std     10896.836132     387.523381      0.40462\n",
       "min              2.0          231.0      2.40000\n",
       "25%            173.0          588.0      3.60000\n",
       "50%            406.5          776.5      4.00000\n",
       "75%           1795.0         1080.0      4.00000\n",
       "max          72611.0         2159.0      4.40000"
      ]
     },
     "execution_count": 8,
     "metadata": {},
     "output_type": "execute_result"
    }
   ],
   "source": [
    "men_shoes_data.describe()"
   ]
  },
  {
   "cell_type": "code",
   "execution_count": 9,
   "metadata": {},
   "outputs": [
    {
     "data": {
      "image/png": "[encoded data removed]",
      "text/plain": [
       "<Figure size 1500x600 with 2 Axes>"
      ]
     },
     "metadata": {},
     "output_type": "display_data"
    }
   ],
   "source": [
    "plt.figure(figsize=(15, 6))\n",
    "\n",
    "# Primer gráfico\n",
    "plt.subplot(1, 2, 1)\n",
    "sns.regplot(data=men_shoes_data, \n",
    "            x='RATING', \n",
    "            y='How_Many_Sold',\n",
    "            scatter_kws={'alpha':0.3, 'color':'blue'},\n",
    "            line_kws={'color':'darkred'})\n",
    "plt.title('Relación entre Cantidad Vendida y Rating')\n",
    "\n",
    "# Segundo gráfico\n",
    "plt.subplot(1, 2, 2)\n",
    "sns.regplot(data=men_shoes_data, \n",
    "            x='Current_Price', \n",
    "            y='How_Many_Sold',\n",
    "            scatter_kws={'alpha':0.3, 'color':'green'},\n",
    "            line_kws={'color':'darkred'})\n",
    "plt.title('Relación entre Cantidad Vendida y Precio')\n",
    "\n",
    "plt.tight_layout()\n",
    "plt.show()"
   ]
  },
  {
   "cell_type": "code",
   "execution_count": 10,
   "metadata": {},
   "outputs": [
    {
     "data": {
      "application/vnd.plotly.v1+json": {
       "config": {
        "plotlyServerURL": "https://plot.ly"
       },
       "data": [
        {
         "branchvalues": "total",
         "customdata": {
          "bdata": "AAAAAECM2EAAAAAAQP3WQAAAAABA/dZAAAAAAEDB0EAAAAAAACXBQAAAAAAAJcFAAAAAAADStUAAAAAAANK1QAAAAAAAtLJAAAAAAADwqEAAAAAAAPCoQAAAAAAA8KhAAAAAAADSpUAAAAAAANKlQAAAAAAA0qVAAAAAAAC0okAAAAAAALSiQAAAAAAA8JhAAAAAAADwmEAAAAAAAPCYQAAAAAAA8JhAAAAAAAC0kkAAAAAAALSSQAAAAAAAtJJAAAAAAAC0kkAAAAAAAPCIQAAAAAAA8IhAAAAAAADwiEAAAAAAAPCIQAAAAAAA8IhAAAAAAADwiEAAAAAAAPCIQAAAAAAA8IhAAAAAAADwiEAAAAAAAPCIQAAAAAAA8IhAAAAAAADwiEAAAAAAAPB4QAAAAAAA8HhAAAAAAADweEAAAAAAAPB4QAAAAAAA8HhAAAAAAADweEAAAAAAAPB4QAAAAAAA8HhAAAAAAADweEAAAAAAAPB4QAAAAAAA8HhAAAAAAADweEAAAAAAAPB4QA==",
          "dtype": "f8",
          "shape": "50, 1"
         },
         "domain": {
          "x": [
           0,
           1
          ],
          "y": [
           0,
           1
          ]
         },
         "hovertemplate": "labels=%{label}<br>Frecuencia_sum=%{value}<br>parent=%{parent}<br>id=%{id}<br>Frecuencia=%{color}<extra></extra>",
         "ids": [
          "men",
          "shoes",
          "s",
          "running",
          "sports",
          "for",
          "casual",
          "walking",
          "gym",
          "lightweight",
          "lace",
          "boy",
          "up",
          "shoe",
          "sneaker",
          "sneakers",
          "pro",
          "sm",
          "with",
          "mens",
          "training",
          "formal",
          "eva",
          "08",
          "stylish",
          "oxygen",
          "stride",
          "on",
          "light",
          "runner",
          "sole",
          "slip",
          "express",
          "top",
          "canvas",
          "technology",
          "grey",
          "01",
          "03",
          "lp",
          "b",
          "677",
          "fashion",
          "ups",
          "13",
          "mesh",
          "wonder",
          "k",
          "weight",
          "harrow"
         ],
         "labels": [
          "men",
          "shoes",
          "s",
          "running",
          "sports",
          "for",
          "casual",
          "walking",
          "gym",
          "lightweight",
          "lace",
          "boy",
          "up",
          "shoe",
          "sneaker",
          "sneakers",
          "pro",
          "sm",
          "with",
          "mens",
          "training",
          "formal",
          "eva",
          "08",
          "stylish",
          "oxygen",
          "stride",
          "on",
          "light",
          "runner",
          "sole",
          "slip",
          "express",
          "top",
          "canvas",
          "technology",
          "grey",
          "01",
          "03",
          "lp",
          "b",
          "677",
          "fashion",
          "ups",
          "13",
          "mesh",
          "wonder",
          "k",
          "weight",
          "harrow"
         ],
         "marker": {
          "coloraxis": "coloraxis",
          "colors": {
           "bdata": "AAAAAECM2EAAAAAAQP3WQAAAAABA/dZAAAAAAEDB0EAAAAAAACXBQAAAAAAAJcFAAAAAAADStUAAAAAAANK1QAAAAAAAtLJAAAAAAADwqEAAAAAAAPCoQAAAAAAA8KhAAAAAAADSpUAAAAAAANKlQAAAAAAA0qVAAAAAAAC0okAAAAAAALSiQAAAAAAA8JhAAAAAAADwmEAAAAAAAPCYQAAAAAAA8JhAAAAAAAC0kkAAAAAAALSSQAAAAAAAtJJAAAAAAAC0kkAAAAAAAPCIQAAAAAAA8IhAAAAAAADwiEAAAAAAAPCIQAAAAAAA8IhAAAAAAADwiEAAAAAAAPCIQAAAAAAA8IhAAAAAAADwiEAAAAAAAPCIQAAAAAAA8IhAAAAAAADwiEAAAAAAAPB4QAAAAAAA8HhAAAAAAADweEAAAAAAAPB4QAAAAAAA8HhAAAAAAADweEAAAAAAAPB4QAAAAAAA8HhAAAAAAADweEAAAAAAAPB4QAAAAAAA8HhAAAAAAADweEAAAAAAAPB4QA==",
           "dtype": "f8"
          },
          "cornerradius": 5
         },
         "name": "",
         "parents": [
          "",
          "",
          "",
          "",
          "",
          "",
          "",
          "",
          "",
          "",
          "",
          "",
          "",
          "",
          "",
          "",
          "",
          "",
          "",
          "",
          "",
          "",
          "",
          "",
          "",
          "",
          "",
          "",
          "",
          "",
          "",
          "",
          "",
          "",
          "",
          "",
          "",
          "",
          "",
          "",
          "",
          "",
          "",
          "",
          "",
          "",
          "",
          "",
          "",
          ""
         ],
         "textfont": {
          "size": 14
         },
         "textinfo": "label+value",
         "type": "treemap",
         "values": {
          "bdata": "AAAAAECM2EAAAAAAQP3WQAAAAABA/dZAAAAAAEDB0EAAAAAAACXBQAAAAAAAJcFAAAAAAADStUAAAAAAANK1QAAAAAAAtLJAAAAAAADwqEAAAAAAAPCoQAAAAAAA8KhAAAAAAADSpUAAAAAAANKlQAAAAAAA0qVAAAAAAAC0okAAAAAAALSiQAAAAAAA8JhAAAAAAADwmEAAAAAAAPCYQAAAAAAA8JhAAAAAAAC0kkAAAAAAALSSQAAAAAAAtJJAAAAAAAC0kkAAAAAAAPCIQAAAAAAA8IhAAAAAAADwiEAAAAAAAPCIQAAAAAAA8IhAAAAAAADwiEAAAAAAAPCIQAAAAAAA8IhAAAAAAADwiEAAAAAAAPCIQAAAAAAA8IhAAAAAAADwiEAAAAAAAPB4QAAAAAAA8HhAAAAAAADweEAAAAAAAPB4QAAAAAAA8HhAAAAAAADweEAAAAAAAPB4QAAAAAAA8HhAAAAAAADweEAAAAAAAPB4QAAAAAAA8HhAAAAAAADweEAAAAAAAPB4QA==",
          "dtype": "f8"
         }
        }
       ],
       "layout": {
        "coloraxis": {
         "colorbar": {
          "title": {
           "text": "Frecuencia"
          }
         },
         "colorscale": [
          [
           0,
           "rgb(150,0,90)"
          ],
          [
           0.125,
           "rgb(0,0,200)"
          ],
          [
           0.25,
           "rgb(0,25,255)"
          ],
          [
           0.375,
           "rgb(0,152,255)"
          ],
          [
           0.5,
           "rgb(44,255,150)"
          ],
          [
           0.625,
           "rgb(151,255,0)"
          ],
          [
           0.75,
           "rgb(255,234,0)"
          ],
          [
           0.875,
           "rgb(255,111,0)"
          ],
          [
           1,
           "rgb(255,0,0)"
          ]
         ]
        },
        "hoverlabel": {
         "bgcolor": "white"
        },
        "legend": {
         "tracegroupgap": 0
        },
        "margin": {
         "b": 25,
         "l": 25,
         "r": 25,
         "t": 50
        },
        "template": {
         "data": {
          "bar": [
           {
            "error_x": {
             "color": "#2a3f5f"
            },
            "error_y": {
             "color": "#2a3f5f"
            },
            "marker": {
             "line": {
              "color": "#E5ECF6",
              "width": 0.5
             },
             "pattern": {
              "fillmode": "overlay",
              "size": 10,
              "solidity": 0.2
             }
            },
            "type": "bar"
           }
          ],
          "barpolar": [
           {
            "marker": {
             "line": {
              "color": "#E5ECF6",
              "width": 0.5
             },
             "pattern": {
              "fillmode": "overlay",
              "size": 10,
              "solidity": 0.2
             }
            },
            "type": "barpolar"
           }
          ],
          "carpet": [
           {
            "aaxis": {
             "endlinecolor": "#2a3f5f",
             "gridcolor": "white",
             "linecolor": "white",
             "minorgridcolor": "white",
             "startlinecolor": "#2a3f5f"
            },
            "baxis": {
             "endlinecolor": "#2a3f5f",
             "gridcolor": "white",
             "linecolor": "white",
             "minorgridcolor": "white",
             "startlinecolor": "#2a3f5f"
            },
            "type": "carpet"
           }
          ],
          "choropleth": [
           {
            "colorbar": {
             "outlinewidth": 0,
             "ticks": ""
            },
            "type": "choropleth"
           }
          ],
          "contour": [
           {
            "colorbar": {
             "outlinewidth": 0,
             "ticks": ""
            },
            "colorscale": [
             [
              0,
              "#0d0887"
             ],
             [
              0.1111111111111111,
              "#46039f"
             ],
             [
              0.2222222222222222,
              "#7201a8"
             ],
             [
              0.3333333333333333,
              "#9c179e"
             ],
             [
              0.4444444444444444,
              "#bd3786"
             ],
             [
              0.5555555555555556,
              "#d8576b"
             ],
             [
              0.6666666666666666,
              "#ed7953"
             ],
             [
              0.7777777777777778,
              "#fb9f3a"
             ],
             [
              0.8888888888888888,
              "#fdca26"
             ],
             [
              1,
              "#f0f921"
             ]
            ],
            "type": "contour"
           }
          ],
          "contourcarpet": [
           {
            "colorbar": {
             "outlinewidth": 0,
             "ticks": ""
            },
            "type": "contourcarpet"
           }
          ],
          "heatmap": [
           {
            "colorbar": {
             "outlinewidth": 0,
             "ticks": ""
            },
            "colorscale": [
             [
              0,
              "#0d0887"
             ],
             [
              0.1111111111111111,
              "#46039f"
             ],
             [
              0.2222222222222222,
              "#7201a8"
             ],
             [
              0.3333333333333333,
              "#9c179e"
             ],
             [
              0.4444444444444444,
              "#bd3786"
             ],
             [
              0.5555555555555556,
              "#d8576b"
             ],
             [
              0.6666666666666666,
              "#ed7953"
             ],
             [
              0.7777777777777778,
              "#fb9f3a"
             ],
             [
              0.8888888888888888,
              "#fdca26"
             ],
             [
              1,
              "#f0f921"
             ]
            ],
            "type": "heatmap"
           }
          ],
          "histogram": [
           {
            "marker": {
             "pattern": {
              "fillmode": "overlay",
              "size": 10,
              "solidity": 0.2
             }
            },
            "type": "histogram"
           }
          ],
          "histogram2d": [
           {
            "colorbar": {
             "outlinewidth": 0,
             "ticks": ""
            },
            "colorscale": [
             [
              0,
              "#0d0887"
             ],
             [
              0.1111111111111111,
              "#46039f"
             ],
             [
              0.2222222222222222,
              "#7201a8"
             ],
             [
              0.3333333333333333,
              "#9c179e"
             ],
             [
              0.4444444444444444,
              "#bd3786"
             ],
             [
              0.5555555555555556,
              "#d8576b"
             ],
             [
              0.6666666666666666,
              "#ed7953"
             ],
             [
              0.7777777777777778,
              "#fb9f3a"
             ],
             [
              0.8888888888888888,
              "#fdca26"
             ],
             [
              1,
              "#f0f921"
             ]
            ],
            "type": "histogram2d"
           }
          ],
          "histogram2dcontour": [
           {
            "colorbar": {
             "outlinewidth": 0,
             "ticks": ""
            },
            "colorscale": [
             [
              0,
              "#0d0887"
             ],
             [
              0.1111111111111111,
              "#46039f"
             ],
             [
              0.2222222222222222,
              "#7201a8"
             ],
             [
              0.3333333333333333,
              "#9c179e"
             ],
             [
              0.4444444444444444,
              "#bd3786"
             ],
             [
              0.5555555555555556,
              "#d8576b"
             ],
             [
              0.6666666666666666,
              "#ed7953"
             ],
             [
              0.7777777777777778,
              "#fb9f3a"
             ],
             [
              0.8888888888888888,
              "#fdca26"
             ],
             [
              1,
              "#f0f921"
             ]
            ],
            "type": "histogram2dcontour"
           }
          ],
          "mesh3d": [
           {
            "colorbar": {
             "outlinewidth": 0,
             "ticks": ""
            },
            "type": "mesh3d"
           }
          ],
          "parcoords": [
           {
            "line": {
             "colorbar": {
              "outlinewidth": 0,
              "ticks": ""
             }
            },
            "type": "parcoords"
           }
          ],
          "pie": [
           {
            "automargin": true,
            "type": "pie"
           }
          ],
          "scatter": [
           {
            "fillpattern": {
             "fillmode": "overlay",
             "size": 10,
             "solidity": 0.2
            },
            "type": "scatter"
           }
          ],
          "scatter3d": [
           {
            "line": {
             "colorbar": {
              "outlinewidth": 0,
              "ticks": ""
             }
            },
            "marker": {
             "colorbar": {
              "outlinewidth": 0,
              "ticks": ""
             }
            },
            "type": "scatter3d"
           }
          ],
          "scattercarpet": [
           {
            "marker": {
             "colorbar": {
              "outlinewidth": 0,
              "ticks": ""
             }
            },
            "type": "scattercarpet"
           }
          ],
          "scattergeo": [
           {
            "marker": {
             "colorbar": {
              "outlinewidth": 0,
              "ticks": ""
             }
            },
            "type": "scattergeo"
           }
          ],
          "scattergl": [
           {
            "marker": {
             "colorbar": {
              "outlinewidth": 0,
              "ticks": ""
             }
            },
            "type": "scattergl"
           }
          ],
          "scattermap": [
           {
            "marker": {
             "colorbar": {
              "outlinewidth": 0,
              "ticks": ""
             }
            },
            "type": "scattermap"
           }
          ],
          "scattermapbox": [
           {
            "marker": {
             "colorbar": {
              "outlinewidth": 0,
              "ticks": ""
             }
            },
            "type": "scattermapbox"
           }
          ],
          "scatterpolar": [
           {
            "marker": {
             "colorbar": {
              "outlinewidth": 0,
              "ticks": ""
             }
            },
            "type": "scatterpolar"
           }
          ],
          "scatterpolargl": [
           {
            "marker": {
             "colorbar": {
              "outlinewidth": 0,
              "ticks": ""
             }
            },
            "type": "scatterpolargl"
           }
          ],
          "scatterternary": [
           {
            "marker": {
             "colorbar": {
              "outlinewidth": 0,
              "ticks": ""
             }
            },
            "type": "scatterternary"
           }
          ],
          "surface": [
           {
            "colorbar": {
             "outlinewidth": 0,
             "ticks": ""
            },
            "colorscale": [
             [
              0,
              "#0d0887"
             ],
             [
              0.1111111111111111,
              "#46039f"
             ],
             [
              0.2222222222222222,
              "#7201a8"
             ],
             [
              0.3333333333333333,
              "#9c179e"
             ],
             [
              0.4444444444444444,
              "#bd3786"
             ],
             [
              0.5555555555555556,
              "#d8576b"
             ],
             [
              0.6666666666666666,
              "#ed7953"
             ],
             [
              0.7777777777777778,
              "#fb9f3a"
             ],
             [
              0.8888888888888888,
              "#fdca26"
             ],
             [
              1,
              "#f0f921"
             ]
            ],
            "type": "surface"
           }
          ],
          "table": [
           {
            "cells": {
             "fill": {
              "color": "#EBF0F8"
             },
             "line": {
              "color": "white"
             }
            },
            "header": {
             "fill": {
              "color": "#C8D4E3"
             },
             "line": {
              "color": "white"
             }
            },
            "type": "table"
           }
          ]
         },
         "layout": {
          "annotationdefaults": {
           "arrowcolor": "#2a3f5f",
           "arrowhead": 0,
           "arrowwidth": 1
          },
          "autotypenumbers": "strict",
          "coloraxis": {
           "colorbar": {
            "outlinewidth": 0,
            "ticks": ""
           }
          },
          "colorscale": {
           "diverging": [
            [
             0,
             "#8e0152"
            ],
            [
             0.1,
             "#c51b7d"
            ],
            [
             0.2,
             "#de77ae"
            ],
            [
             0.3,
             "#f1b6da"
            ],
            [
             0.4,
             "#fde0ef"
            ],
            [
             0.5,
             "#f7f7f7"
            ],
            [
             0.6,
             "#e6f5d0"
            ],
            [
             0.7,
             "#b8e186"
            ],
            [
             0.8,
             "#7fbc41"
            ],
            [
             0.9,
             "#4d9221"
            ],
            [
             1,
             "#276419"
            ]
           ],
           "sequential": [
            [
             0,
             "#0d0887"
            ],
            [
             0.1111111111111111,
             "#46039f"
            ],
            [
             0.2222222222222222,
             "#7201a8"
            ],
            [
             0.3333333333333333,
             "#9c179e"
            ],
            [
             0.4444444444444444,
             "#bd3786"
            ],
            [
             0.5555555555555556,
             "#d8576b"
            ],
            [
             0.6666666666666666,
             "#ed7953"
            ],
            [
             0.7777777777777778,
             "#fb9f3a"
            ],
            [
             0.8888888888888888,
             "#fdca26"
            ],
            [
             1,
             "#f0f921"
            ]
           ],
           "sequentialminus": [
            [
             0,
             "#0d0887"
            ],
            [
             0.1111111111111111,
             "#46039f"
            ],
            [
             0.2222222222222222,
             "#7201a8"
            ],
            [
             0.3333333333333333,
             "#9c179e"
            ],
            [
             0.4444444444444444,
             "#bd3786"
            ],
            [
             0.5555555555555556,
             "#d8576b"
            ],
            [
             0.6666666666666666,
             "#ed7953"
            ],
            [
             0.7777777777777778,
             "#fb9f3a"
            ],
            [
             0.8888888888888888,
             "#fdca26"
            ],
            [
             1,
             "#f0f921"
            ]
           ]
          },
          "colorway": [
           "#636efa",
           "#EF553B",
           "#00cc96",
           "#ab63fa",
           "#FFA15A",
           "#19d3f3",
           "#FF6692",
           "#B6E880",
           "#FF97FF",
           "#FECB52"
          ],
          "font": {
           "color": "#2a3f5f"
          },
          "geo": {
           "bgcolor": "white",
           "lakecolor": "white",
           "landcolor": "#E5ECF6",
           "showlakes": true,
           "showland": true,
           "subunitcolor": "white"
          },
          "hoverlabel": {
           "align": "left"
          },
          "hovermode": "closest",
          "mapbox": {
           "style": "light"
          },
          "paper_bgcolor": "white",
          "plot_bgcolor": "#E5ECF6",
          "polar": {
           "angularaxis": {
            "gridcolor": "white",
            "linecolor": "white",
            "ticks": ""
           },
           "bgcolor": "#E5ECF6",
           "radialaxis": {
            "gridcolor": "white",
            "linecolor": "white",
            "ticks": ""
           }
          },
          "scene": {
           "xaxis": {
            "backgroundcolor": "#E5ECF6",
            "gridcolor": "white",
            "gridwidth": 2,
            "linecolor": "white",
            "showbackground": true,
            "ticks": "",
            "zerolinecolor": "white"
           },
           "yaxis": {
            "backgroundcolor": "#E5ECF6",
            "gridcolor": "white",
            "gridwidth": 2,
            "linecolor": "white",
            "showbackground": true,
            "ticks": "",
            "zerolinecolor": "white"
           },
           "zaxis": {
            "backgroundcolor": "#E5ECF6",
            "gridcolor": "white",
            "gridwidth": 2,
            "linecolor": "white",
            "showbackground": true,
            "ticks": "",
            "zerolinecolor": "white"
           }
          },
          "shapedefaults": {
           "line": {
            "color": "#2a3f5f"
           }
          },
          "ternary": {
           "aaxis": {
            "gridcolor": "white",
            "linecolor": "white",
            "ticks": ""
           },
           "baxis": {
            "gridcolor": "white",
            "linecolor": "white",
            "ticks": ""
           },
           "bgcolor": "#E5ECF6",
           "caxis": {
            "gridcolor": "white",
            "linecolor": "white",
            "ticks": ""
           }
          },
          "title": {
           "x": 0.05
          },
          "xaxis": {
           "automargin": true,
           "gridcolor": "white",
           "linecolor": "white",
           "ticks": "",
           "title": {
            "standoff": 15
           },
           "zerolinecolor": "white",
           "zerolinewidth": 2
          },
          "yaxis": {
           "automargin": true,
           "gridcolor": "white",
           "linecolor": "white",
           "ticks": "",
           "title": {
            "standoff": 15
           },
           "zerolinecolor": "white",
           "zerolinewidth": 2
          }
         }
        },
        "title": {
         "font": {
          "size": 20
         },
         "text": "Frecuencia de Palabras en Descripciones de Zapatos"
        }
       }
      }
     },
     "metadata": {},
     "output_type": "display_data"
    }
   ],
   "source": [
    "from collections import Counter\n",
    "\n",
    "# Procesamiento del texto\n",
    "texto = ' '.join(men_shoes_data['Product_details'].astype(str)).lower()\n",
    "palabras = re.findall(r'\\b\\w+\\b', texto)  # Extraer palabras eliminando puntuación\n",
    "\n",
    "# Contar frecuencias y crear DataFrame\n",
    "frecuencias = Counter(palabras)\n",
    "df_palabras = pd.DataFrame(frecuencias.items(), columns=['Palabra', 'Frecuencia']).sort_values('Frecuencia', ascending=False)\n",
    "\n",
    "# Filtrar stopwords opcional (descomentar para usar)\n",
    "# from nltk.corpus import stopwords\n",
    "# stop_words = set(stopwords.words('spanish'))  # o 'english' según el idioma\n",
    "# df_palabras = df_palabras[~df_palabras['Palabra'].isin(stop_words)]\n",
    "\n",
    "# Tomar las 50 palabras más comunes\n",
    "top_palabras = df_palabras.head(50)\n",
    "\n",
    "# Crear treemap interactivo\n",
    "fig = px.treemap(top_palabras,\n",
    "                 path=['Palabra'],\n",
    "                 values='Frecuencia',\n",
    "                 title='Frecuencia de Palabras en Descripciones de Zapatos',\n",
    "                 color='Frecuencia',\n",
    "                 color_continuous_scale='Rainbow')\n",
    "\n",
    "# Personalizar diseño\n",
    "fig.update_layout(margin=dict(t=50, l=25, r=25, b=25),\n",
    "                  title_font=dict(size=20),\n",
    "                  hoverlabel=dict(bgcolor=\"white\"))\n",
    "\n",
    "fig.update_traces(textinfo='label+value',\n",
    "                  textfont=dict(size=14),\n",
    "                  marker=dict(cornerradius=5))\n",
    "\n",
    "fig.show()"
   ]
  },
  {
   "cell_type": "code",
   "execution_count": 11,
   "metadata": {},
   "outputs": [
    {
     "data": {
      "application/vnd.plotly.v1+json": {
       "config": {
        "plotlyServerURL": "https://plot.ly"
       },
       "data": [
        {
         "branchvalues": "total",
         "customdata": {
          "bdata": "AAAAAAAsv0AAAAAAAPCoQAAAAAAALJ9AAAAAAADwmEAAAAAAAPCYQAAAAAAA8JhAAAAAAADwmEAAAAAAAPCYQAAAAAAAtJJAAAAAAAC0kkAAAAAAALSSQAAAAAAAtJJAAAAAAAC0kkAAAAAAAPCIQAAAAAAA8IhAAAAAAADwiEAAAAAAAPB4QAAAAAAA8HhAAAAAAADweEAAAAAAAPB4QAAAAAAA8HhAAAAAAADweEAAAAAAAPB4QAAAAAAA8HhAAAAAAADweEAAAAAAAPB4QAAAAAAA8HhAAAAAAADweEAAAAAAAPB4QAAAAAAA8HhAAAAAAADweEAAAAAAAPB4QAAAAAAA8HhAAAAAAADweEAAAAAAAPB4QAAAAAAA8HhAAAAAAADweEAAAAAAAPB4QAAAAAAA8HhAAAAAAADweEAAAAAAAPB4QAAAAAAA8HhAAAAAAADweEAAAAAAAPB4QAAAAAAA8HhAAAAAAADweEAAAAAAAPB4QAAAAAAA8HhAAAAAAADweEAAAAAAAPB4QA==",
          "dtype": "f8",
          "shape": "50, 1"
         },
         "domain": {
          "x": [
           0,
           1
          ],
          "y": [
           0,
           1
          ]
         },
         "hovertemplate": "labels=%{label}<br>Frecuencia_sum=%{value}<br>parent=%{parent}<br>id=%{id}<br>Frecuencia=%{color}<extra></extra>",
         "ids": [
          "running",
          "sports",
          "walking",
          "gym",
          "casual",
          "lace",
          "up",
          "mens",
          "boy",
          "lightweight",
          "sneakers",
          "sneaker",
          "formal",
          "oxygen",
          "sm",
          "shoe",
          "technology",
          "training",
          "01",
          "cosko",
          "13",
          "with",
          "stride",
          "677",
          "runner",
          "socksfit",
          "century",
          "and",
          "12",
          "wonder",
          "first",
          "mike",
          "wells",
          "n",
          "08",
          "sd0323g",
          "tesla",
          "plasma",
          "44",
          "yking",
          "0",
          "2",
          "5631",
          "648",
          "trophy",
          "office",
          "wear",
          "dress",
          "slip",
          "on"
         ],
         "labels": [
          "running",
          "sports",
          "walking",
          "gym",
          "casual",
          "lace",
          "up",
          "mens",
          "boy",
          "lightweight",
          "sneakers",
          "sneaker",
          "formal",
          "oxygen",
          "sm",
          "shoe",
          "technology",
          "training",
          "01",
          "cosko",
          "13",
          "with",
          "stride",
          "677",
          "runner",
          "socksfit",
          "century",
          "and",
          "12",
          "wonder",
          "first",
          "mike",
          "wells",
          "n",
          "08",
          "sd0323g",
          "tesla",
          "plasma",
          "44",
          "yking",
          "0",
          "2",
          "5631",
          "648",
          "trophy",
          "office",
          "wear",
          "dress",
          "slip",
          "on"
         ],
         "marker": {
          "coloraxis": "coloraxis",
          "colors": {
           "bdata": "AAAAAAAsv0AAAAAAAPCoQAAAAAAALJ9AAAAAAADwmEAAAAAAAPCYQAAAAAAA8JhAAAAAAADwmEAAAAAAAPCYQAAAAAAAtJJAAAAAAAC0kkAAAAAAALSSQAAAAAAAtJJAAAAAAAC0kkAAAAAAAPCIQAAAAAAA8IhAAAAAAADwiEAAAAAAAPB4QAAAAAAA8HhAAAAAAADweEAAAAAAAPB4QAAAAAAA8HhAAAAAAADweEAAAAAAAPB4QAAAAAAA8HhAAAAAAADweEAAAAAAAPB4QAAAAAAA8HhAAAAAAADweEAAAAAAAPB4QAAAAAAA8HhAAAAAAADweEAAAAAAAPB4QAAAAAAA8HhAAAAAAADweEAAAAAAAPB4QAAAAAAA8HhAAAAAAADweEAAAAAAAPB4QAAAAAAA8HhAAAAAAADweEAAAAAAAPB4QAAAAAAA8HhAAAAAAADweEAAAAAAAPB4QAAAAAAA8HhAAAAAAADweEAAAAAAAPB4QAAAAAAA8HhAAAAAAADweEAAAAAAAPB4QA==",
           "dtype": "f8"
          },
          "cornerradius": 5
         },
         "name": "",
         "parents": [
          "",
          "",
          "",
          "",
          "",
          "",
          "",
          "",
          "",
          "",
          "",
          "",
          "",
          "",
          "",
          "",
          "",
          "",
          "",
          "",
          "",
          "",
          "",
          "",
          "",
          "",
          "",
          "",
          "",
          "",
          "",
          "",
          "",
          "",
          "",
          "",
          "",
          "",
          "",
          "",
          "",
          "",
          "",
          "",
          "",
          "",
          "",
          "",
          "",
          ""
         ],
         "textfont": {
          "size": 14
         },
         "textinfo": "label+value",
         "type": "treemap",
         "values": {
          "bdata": "AAAAAAAsv0AAAAAAAPCoQAAAAAAALJ9AAAAAAADwmEAAAAAAAPCYQAAAAAAA8JhAAAAAAADwmEAAAAAAAPCYQAAAAAAAtJJAAAAAAAC0kkAAAAAAALSSQAAAAAAAtJJAAAAAAAC0kkAAAAAAAPCIQAAAAAAA8IhAAAAAAADwiEAAAAAAAPB4QAAAAAAA8HhAAAAAAADweEAAAAAAAPB4QAAAAAAA8HhAAAAAAADweEAAAAAAAPB4QAAAAAAA8HhAAAAAAADweEAAAAAAAPB4QAAAAAAA8HhAAAAAAADweEAAAAAAAPB4QAAAAAAA8HhAAAAAAADweEAAAAAAAPB4QAAAAAAA8HhAAAAAAADweEAAAAAAAPB4QAAAAAAA8HhAAAAAAADweEAAAAAAAPB4QAAAAAAA8HhAAAAAAADweEAAAAAAAPB4QAAAAAAA8HhAAAAAAADweEAAAAAAAPB4QAAAAAAA8HhAAAAAAADweEAAAAAAAPB4QAAAAAAA8HhAAAAAAADweEAAAAAAAPB4QA==",
          "dtype": "f8"
         }
        }
       ],
       "layout": {
        "coloraxis": {
         "colorbar": {
          "title": {
           "text": "Frecuencia"
          }
         },
         "colorscale": [
          [
           0,
           "rgb(150,0,90)"
          ],
          [
           0.125,
           "rgb(0,0,200)"
          ],
          [
           0.25,
           "rgb(0,25,255)"
          ],
          [
           0.375,
           "rgb(0,152,255)"
          ],
          [
           0.5,
           "rgb(44,255,150)"
          ],
          [
           0.625,
           "rgb(151,255,0)"
          ],
          [
           0.75,
           "rgb(255,234,0)"
          ],
          [
           0.875,
           "rgb(255,111,0)"
          ],
          [
           1,
           "rgb(255,0,0)"
          ]
         ]
        },
        "hoverlabel": {
         "bgcolor": "white"
        },
        "legend": {
         "tracegroupgap": 0
        },
        "margin": {
         "b": 25,
         "l": 25,
         "r": 25,
         "t": 50
        },
        "template": {
         "data": {
          "bar": [
           {
            "error_x": {
             "color": "#2a3f5f"
            },
            "error_y": {
             "color": "#2a3f5f"
            },
            "marker": {
             "line": {
              "color": "#E5ECF6",
              "width": 0.5
             },
             "pattern": {
              "fillmode": "overlay",
              "size": 10,
              "solidity": 0.2
             }
            },
            "type": "bar"
           }
          ],
          "barpolar": [
           {
            "marker": {
             "line": {
              "color": "#E5ECF6",
              "width": 0.5
             },
             "pattern": {
              "fillmode": "overlay",
              "size": 10,
              "solidity": 0.2
             }
            },
            "type": "barpolar"
           }
          ],
          "carpet": [
           {
            "aaxis": {
             "endlinecolor": "#2a3f5f",
             "gridcolor": "white",
             "linecolor": "white",
             "minorgridcolor": "white",
             "startlinecolor": "#2a3f5f"
            },
            "baxis": {
             "endlinecolor": "#2a3f5f",
             "gridcolor": "white",
             "linecolor": "white",
             "minorgridcolor": "white",
             "startlinecolor": "#2a3f5f"
            },
            "type": "carpet"
           }
          ],
          "choropleth": [
           {
            "colorbar": {
             "outlinewidth": 0,
             "ticks": ""
            },
            "type": "choropleth"
           }
          ],
          "contour": [
           {
            "colorbar": {
             "outlinewidth": 0,
             "ticks": ""
            },
            "colorscale": [
             [
              0,
              "#0d0887"
             ],
             [
              0.1111111111111111,
              "#46039f"
             ],
             [
              0.2222222222222222,
              "#7201a8"
             ],
             [
              0.3333333333333333,
              "#9c179e"
             ],
             [
              0.4444444444444444,
              "#bd3786"
             ],
             [
              0.5555555555555556,
              "#d8576b"
             ],
             [
              0.6666666666666666,
              "#ed7953"
             ],
             [
              0.7777777777777778,
              "#fb9f3a"
             ],
             [
              0.8888888888888888,
              "#fdca26"
             ],
             [
              1,
              "#f0f921"
             ]
            ],
            "type": "contour"
           }
          ],
          "contourcarpet": [
           {
            "colorbar": {
             "outlinewidth": 0,
             "ticks": ""
            },
            "type": "contourcarpet"
           }
          ],
          "heatmap": [
           {
            "colorbar": {
             "outlinewidth": 0,
             "ticks": ""
            },
            "colorscale": [
             [
              0,
              "#0d0887"
             ],
             [
              0.1111111111111111,
              "#46039f"
             ],
             [
              0.2222222222222222,
              "#7201a8"
             ],
             [
              0.3333333333333333,
              "#9c179e"
             ],
             [
              0.4444444444444444,
              "#bd3786"
             ],
             [
              0.5555555555555556,
              "#d8576b"
             ],
             [
              0.6666666666666666,
              "#ed7953"
             ],
             [
              0.7777777777777778,
              "#fb9f3a"
             ],
             [
              0.8888888888888888,
              "#fdca26"
             ],
             [
              1,
              "#f0f921"
             ]
            ],
            "type": "heatmap"
           }
          ],
          "histogram": [
           {
            "marker": {
             "pattern": {
              "fillmode": "overlay",
              "size": 10,
              "solidity": 0.2
             }
            },
            "type": "histogram"
           }
          ],
          "histogram2d": [
           {
            "colorbar": {
             "outlinewidth": 0,
             "ticks": ""
            },
            "colorscale": [
             [
              0,
              "#0d0887"
             ],
             [
              0.1111111111111111,
              "#46039f"
             ],
             [
              0.2222222222222222,
              "#7201a8"
             ],
             [
              0.3333333333333333,
              "#9c179e"
             ],
             [
              0.4444444444444444,
              "#bd3786"
             ],
             [
              0.5555555555555556,
              "#d8576b"
             ],
             [
              0.6666666666666666,
              "#ed7953"
             ],
             [
              0.7777777777777778,
              "#fb9f3a"
             ],
             [
              0.8888888888888888,
              "#fdca26"
             ],
             [
              1,
              "#f0f921"
             ]
            ],
            "type": "histogram2d"
           }
          ],
          "histogram2dcontour": [
           {
            "colorbar": {
             "outlinewidth": 0,
             "ticks": ""
            },
            "colorscale": [
             [
              0,
              "#0d0887"
             ],
             [
              0.1111111111111111,
              "#46039f"
             ],
             [
              0.2222222222222222,
              "#7201a8"
             ],
             [
              0.3333333333333333,
              "#9c179e"
             ],
             [
              0.4444444444444444,
              "#bd3786"
             ],
             [
              0.5555555555555556,
              "#d8576b"
             ],
             [
              0.6666666666666666,
              "#ed7953"
             ],
             [
              0.7777777777777778,
              "#fb9f3a"
             ],
             [
              0.8888888888888888,
              "#fdca26"
             ],
             [
              1,
              "#f0f921"
             ]
            ],
            "type": "histogram2dcontour"
           }
          ],
          "mesh3d": [
           {
            "colorbar": {
             "outlinewidth": 0,
             "ticks": ""
            },
            "type": "mesh3d"
           }
          ],
          "parcoords": [
           {
            "line": {
             "colorbar": {
              "outlinewidth": 0,
              "ticks": ""
             }
            },
            "type": "parcoords"
           }
          ],
          "pie": [
           {
            "automargin": true,
            "type": "pie"
           }
          ],
          "scatter": [
           {
            "fillpattern": {
             "fillmode": "overlay",
             "size": 10,
             "solidity": 0.2
            },
            "type": "scatter"
           }
          ],
          "scatter3d": [
           {
            "line": {
             "colorbar": {
              "outlinewidth": 0,
              "ticks": ""
             }
            },
            "marker": {
             "colorbar": {
              "outlinewidth": 0,
              "ticks": ""
             }
            },
            "type": "scatter3d"
           }
          ],
          "scattercarpet": [
           {
            "marker": {
             "colorbar": {
              "outlinewidth": 0,
              "ticks": ""
             }
            },
            "type": "scattercarpet"
           }
          ],
          "scattergeo": [
           {
            "marker": {
             "colorbar": {
              "outlinewidth": 0,
              "ticks": ""
             }
            },
            "type": "scattergeo"
           }
          ],
          "scattergl": [
           {
            "marker": {
             "colorbar": {
              "outlinewidth": 0,
              "ticks": ""
             }
            },
            "type": "scattergl"
           }
          ],
          "scattermap": [
           {
            "marker": {
             "colorbar": {
              "outlinewidth": 0,
              "ticks": ""
             }
            },
            "type": "scattermap"
           }
          ],
          "scattermapbox": [
           {
            "marker": {
             "colorbar": {
              "outlinewidth": 0,
              "ticks": ""
             }
            },
            "type": "scattermapbox"
           }
          ],
          "scatterpolar": [
           {
            "marker": {
             "colorbar": {
              "outlinewidth": 0,
              "ticks": ""
             }
            },
            "type": "scatterpolar"
           }
          ],
          "scatterpolargl": [
           {
            "marker": {
             "colorbar": {
              "outlinewidth": 0,
              "ticks": ""
             }
            },
            "type": "scatterpolargl"
           }
          ],
          "scatterternary": [
           {
            "marker": {
             "colorbar": {
              "outlinewidth": 0,
              "ticks": ""
             }
            },
            "type": "scatterternary"
           }
          ],
          "surface": [
           {
            "colorbar": {
             "outlinewidth": 0,
             "ticks": ""
            },
            "colorscale": [
             [
              0,
              "#0d0887"
             ],
             [
              0.1111111111111111,
              "#46039f"
             ],
             [
              0.2222222222222222,
              "#7201a8"
             ],
             [
              0.3333333333333333,
              "#9c179e"
             ],
             [
              0.4444444444444444,
              "#bd3786"
             ],
             [
              0.5555555555555556,
              "#d8576b"
             ],
             [
              0.6666666666666666,
              "#ed7953"
             ],
             [
              0.7777777777777778,
              "#fb9f3a"
             ],
             [
              0.8888888888888888,
              "#fdca26"
             ],
             [
              1,
              "#f0f921"
             ]
            ],
            "type": "surface"
           }
          ],
          "table": [
           {
            "cells": {
             "fill": {
              "color": "#EBF0F8"
             },
             "line": {
              "color": "white"
             }
            },
            "header": {
             "fill": {
              "color": "#C8D4E3"
             },
             "line": {
              "color": "white"
             }
            },
            "type": "table"
           }
          ]
         },
         "layout": {
          "annotationdefaults": {
           "arrowcolor": "#2a3f5f",
           "arrowhead": 0,
           "arrowwidth": 1
          },
          "autotypenumbers": "strict",
          "coloraxis": {
           "colorbar": {
            "outlinewidth": 0,
            "ticks": ""
           }
          },
          "colorscale": {
           "diverging": [
            [
             0,
             "#8e0152"
            ],
            [
             0.1,
             "#c51b7d"
            ],
            [
             0.2,
             "#de77ae"
            ],
            [
             0.3,
             "#f1b6da"
            ],
            [
             0.4,
             "#fde0ef"
            ],
            [
             0.5,
             "#f7f7f7"
            ],
            [
             0.6,
             "#e6f5d0"
            ],
            [
             0.7,
             "#b8e186"
            ],
            [
             0.8,
             "#7fbc41"
            ],
            [
             0.9,
             "#4d9221"
            ],
            [
             1,
             "#276419"
            ]
           ],
           "sequential": [
            [
             0,
             "#0d0887"
            ],
            [
             0.1111111111111111,
             "#46039f"
            ],
            [
             0.2222222222222222,
             "#7201a8"
            ],
            [
             0.3333333333333333,
             "#9c179e"
            ],
            [
             0.4444444444444444,
             "#bd3786"
            ],
            [
             0.5555555555555556,
             "#d8576b"
            ],
            [
             0.6666666666666666,
             "#ed7953"
            ],
            [
             0.7777777777777778,
             "#fb9f3a"
            ],
            [
             0.8888888888888888,
             "#fdca26"
            ],
            [
             1,
             "#f0f921"
            ]
           ],
           "sequentialminus": [
            [
             0,
             "#0d0887"
            ],
            [
             0.1111111111111111,
             "#46039f"
            ],
            [
             0.2222222222222222,
             "#7201a8"
            ],
            [
             0.3333333333333333,
             "#9c179e"
            ],
            [
             0.4444444444444444,
             "#bd3786"
            ],
            [
             0.5555555555555556,
             "#d8576b"
            ],
            [
             0.6666666666666666,
             "#ed7953"
            ],
            [
             0.7777777777777778,
             "#fb9f3a"
            ],
            [
             0.8888888888888888,
             "#fdca26"
            ],
            [
             1,
             "#f0f921"
            ]
           ]
          },
          "colorway": [
           "#636efa",
           "#EF553B",
           "#00cc96",
           "#ab63fa",
           "#FFA15A",
           "#19d3f3",
           "#FF6692",
           "#B6E880",
           "#FF97FF",
           "#FECB52"
          ],
          "font": {
           "color": "#2a3f5f"
          },
          "geo": {
           "bgcolor": "white",
           "lakecolor": "white",
           "landcolor": "#E5ECF6",
           "showlakes": true,
           "showland": true,
           "subunitcolor": "white"
          },
          "hoverlabel": {
           "align": "left"
          },
          "hovermode": "closest",
          "mapbox": {
           "style": "light"
          },
          "paper_bgcolor": "white",
          "plot_bgcolor": "#E5ECF6",
          "polar": {
           "angularaxis": {
            "gridcolor": "white",
            "linecolor": "white",
            "ticks": ""
           },
           "bgcolor": "#E5ECF6",
           "radialaxis": {
            "gridcolor": "white",
            "linecolor": "white",
            "ticks": ""
           }
          },
          "scene": {
           "xaxis": {
            "backgroundcolor": "#E5ECF6",
            "gridcolor": "white",
            "gridwidth": 2,
            "linecolor": "white",
            "showbackground": true,
            "ticks": "",
            "zerolinecolor": "white"
           },
           "yaxis": {
            "backgroundcolor": "#E5ECF6",
            "gridcolor": "white",
            "gridwidth": 2,
            "linecolor": "white",
            "showbackground": true,
            "ticks": "",
            "zerolinecolor": "white"
           },
           "zaxis": {
            "backgroundcolor": "#E5ECF6",
            "gridcolor": "white",
            "gridwidth": 2,
            "linecolor": "white",
            "showbackground": true,
            "ticks": "",
            "zerolinecolor": "white"
           }
          },
          "shapedefaults": {
           "line": {
            "color": "#2a3f5f"
           }
          },
          "ternary": {
           "aaxis": {
            "gridcolor": "white",
            "linecolor": "white",
            "ticks": ""
           },
           "baxis": {
            "gridcolor": "white",
            "linecolor": "white",
            "ticks": ""
           },
           "bgcolor": "#E5ECF6",
           "caxis": {
            "gridcolor": "white",
            "linecolor": "white",
            "ticks": ""
           }
          },
          "title": {
           "x": 0.05
          },
          "xaxis": {
           "automargin": true,
           "gridcolor": "white",
           "linecolor": "white",
           "ticks": "",
           "title": {
            "standoff": 15
           },
           "zerolinecolor": "white",
           "zerolinewidth": 2
          },
          "yaxis": {
           "automargin": true,
           "gridcolor": "white",
           "linecolor": "white",
           "ticks": "",
           "title": {
            "standoff": 15
           },
           "zerolinecolor": "white",
           "zerolinewidth": 2
          }
         }
        },
        "title": {
         "font": {
          "size": 20
         },
         "text": "Frecuencia de Palabras en Descripciones de la mitad de zapatos mas vendida"
        }
       }
      }
     },
     "metadata": {},
     "output_type": "display_data"
    }
   ],
   "source": [
    "from collections import Counter\n",
    "\n",
    "# Procesamiento del texto\n",
    "# Calcular la mediana de la columna 'How_Many_Sold'\n",
    "mediana = men_shoes_data['How_Many_Sold'].median()\n",
    "\n",
    "# Filtrar las filas donde 'How_Many_Sold' es mayor que la mediana\n",
    "filtrado = men_shoes_data[men_shoes_data['How_Many_Sold'] > mediana]\n",
    "\n",
    "# Unir las palabras de 'Product_details' de las filas filtradas y convertir a minúsculas\n",
    "texto = ' '.join(filtrado['Product_details'].astype(str)).lower()\n",
    "palabras = re.findall(r'\\b\\w+\\b', texto)  # Extraer palabras eliminando puntuación\n",
    "palabras = [palabra for palabra in palabras if palabra not in ['men', 'shoes', 's', 'for']]  # Eliminar palabras específicas\n",
    "\n",
    "\n",
    "# Contar frecuencias y crear DataFrame\n",
    "frecuencias = Counter(palabras)\n",
    "df_palabras = pd.DataFrame(frecuencias.items(), columns=['Palabra', 'Frecuencia']).sort_values('Frecuencia', ascending=False)\n",
    "\n",
    "# Filtrar stopwords opcional (descomentar para usar)\n",
    "# from nltk.corpus import stopwords\n",
    "# stop_words = set(stopwords.words('spanish'))  # o 'english' según el idioma\n",
    "# df_palabras = df_palabras[~df_palabras['Palabra'].isin(stop_words)]\n",
    "\n",
    "# Tomar las 50 palabras más comunes\n",
    "top_palabras = df_palabras.head(50)\n",
    "\n",
    "# Crear treemap interactivo\n",
    "fig = px.treemap(top_palabras,\n",
    "                 path=['Palabra'],\n",
    "                 values='Frecuencia',\n",
    "                 title='Frecuencia de Palabras en Descripciones de la mitad de zapatos mas vendida',\n",
    "                 color='Frecuencia',\n",
    "                 color_continuous_scale='Rainbow')\n",
    "\n",
    "# Personalizar diseño\n",
    "fig.update_layout(margin=dict(t=50, l=25, r=25, b=25),\n",
    "                  title_font=dict(size=20),\n",
    "                  hoverlabel=dict(bgcolor=\"white\"))\n",
    "\n",
    "fig.update_traces(textinfo='label+value',\n",
    "                  textfont=dict(size=14),\n",
    "                  marker=dict(cornerradius=5))\n",
    "\n",
    "fig.show()"
   ]
  },
  {
   "cell_type": "code",
   "execution_count": 12,
   "metadata": {},
   "outputs": [
    {
     "data": {
      "application/vnd.plotly.v1+json": {
       "config": {
        "plotlyServerURL": "https://plot.ly"
       },
       "data": [
        {
         "branchvalues": "total",
         "customdata": {
          "bdata": "AAAAAIDswUAAAAAAANK1QAAAAAAALK9AAAAAAAAOrEAAAAAAAPCoQAAAAAAALJ9AAAAAAAAsn0AAAAAAACyfQAAAAAAALJ9AAAAAAADwmEAAAAAAAPCYQAAAAAAAtJJAAAAAAAC0kkAAAAAAALSSQAAAAAAAtJJAAAAAAAC0kkAAAAAAAPCIQAAAAAAA8IhAAAAAAADwiEAAAAAAAPCIQAAAAAAA8IhAAAAAAADwiEAAAAAAAPCIQAAAAAAA8IhAAAAAAADwiEAAAAAAAPB4QAAAAAAA8HhAAAAAAADweEAAAAAAAPB4QAAAAAAA8HhAAAAAAADweEAAAAAAAPB4QAAAAAAA8HhAAAAAAADweEAAAAAAAPB4QAAAAAAA8HhAAAAAAADweEAAAAAAAPB4QAAAAAAA8HhAAAAAAADweEAAAAAAAPB4QAAAAAAA8HhAAAAAAADweEAAAAAAAPB4QAAAAAAA8HhAAAAAAADweEAAAAAAAPB4QAAAAAAA8HhAAAAAAADweEAAAAAAAPB4QA==",
          "dtype": "f8",
          "shape": "50, 1"
         },
         "domain": {
          "x": [
           0,
           1
          ],
          "y": [
           0,
           1
          ]
         },
         "hovertemplate": "labels=%{label}<br>Frecuencia_sum=%{value}<br>parent=%{parent}<br>id=%{id}<br>Frecuencia=%{color}<extra></extra>",
         "ids": [
          "running",
          "sports",
          "casual",
          "walking",
          "gym",
          "lightweight",
          "boy",
          "shoe",
          "pro",
          "sneaker",
          "lace",
          "eva",
          "training",
          "with",
          "up",
          "sneakers",
          "08",
          "light",
          "canvas",
          "express",
          "sole",
          "stylish",
          "grey",
          "top",
          "sm",
          "wind",
          "slip",
          "on",
          "03",
          "r",
          "b",
          "fashion",
          "ups",
          "mesh",
          "lp",
          "runner",
          "velocity",
          "outdoors",
          "weight",
          "denim",
          "gyming",
          "brazil",
          "661",
          "680",
          "harrow",
          "speed",
          "xtreme",
          "tormentor",
          "cross",
          "20"
         ],
         "labels": [
          "running",
          "sports",
          "casual",
          "walking",
          "gym",
          "lightweight",
          "boy",
          "shoe",
          "pro",
          "sneaker",
          "lace",
          "eva",
          "training",
          "with",
          "up",
          "sneakers",
          "08",
          "light",
          "canvas",
          "express",
          "sole",
          "stylish",
          "grey",
          "top",
          "sm",
          "wind",
          "slip",
          "on",
          "03",
          "r",
          "b",
          "fashion",
          "ups",
          "mesh",
          "lp",
          "runner",
          "velocity",
          "outdoors",
          "weight",
          "denim",
          "gyming",
          "brazil",
          "661",
          "680",
          "harrow",
          "speed",
          "xtreme",
          "tormentor",
          "cross",
          "20"
         ],
         "marker": {
          "coloraxis": "coloraxis",
          "colors": {
           "bdata": "AAAAAIDswUAAAAAAANK1QAAAAAAALK9AAAAAAAAOrEAAAAAAAPCoQAAAAAAALJ9AAAAAAAAsn0AAAAAAACyfQAAAAAAALJ9AAAAAAADwmEAAAAAAAPCYQAAAAAAAtJJAAAAAAAC0kkAAAAAAALSSQAAAAAAAtJJAAAAAAAC0kkAAAAAAAPCIQAAAAAAA8IhAAAAAAADwiEAAAAAAAPCIQAAAAAAA8IhAAAAAAADwiEAAAAAAAPCIQAAAAAAA8IhAAAAAAADwiEAAAAAAAPB4QAAAAAAA8HhAAAAAAADweEAAAAAAAPB4QAAAAAAA8HhAAAAAAADweEAAAAAAAPB4QAAAAAAA8HhAAAAAAADweEAAAAAAAPB4QAAAAAAA8HhAAAAAAADweEAAAAAAAPB4QAAAAAAA8HhAAAAAAADweEAAAAAAAPB4QAAAAAAA8HhAAAAAAADweEAAAAAAAPB4QAAAAAAA8HhAAAAAAADweEAAAAAAAPB4QAAAAAAA8HhAAAAAAADweEAAAAAAAPB4QA==",
           "dtype": "f8"
          },
          "cornerradius": 5
         },
         "name": "",
         "parents": [
          "",
          "",
          "",
          "",
          "",
          "",
          "",
          "",
          "",
          "",
          "",
          "",
          "",
          "",
          "",
          "",
          "",
          "",
          "",
          "",
          "",
          "",
          "",
          "",
          "",
          "",
          "",
          "",
          "",
          "",
          "",
          "",
          "",
          "",
          "",
          "",
          "",
          "",
          "",
          "",
          "",
          "",
          "",
          "",
          "",
          "",
          "",
          "",
          "",
          ""
         ],
         "textfont": {
          "size": 14
         },
         "textinfo": "label+value",
         "type": "treemap",
         "values": {
          "bdata": "AAAAAIDswUAAAAAAANK1QAAAAAAALK9AAAAAAAAOrEAAAAAAAPCoQAAAAAAALJ9AAAAAAAAsn0AAAAAAACyfQAAAAAAALJ9AAAAAAADwmEAAAAAAAPCYQAAAAAAAtJJAAAAAAAC0kkAAAAAAALSSQAAAAAAAtJJAAAAAAAC0kkAAAAAAAPCIQAAAAAAA8IhAAAAAAADwiEAAAAAAAPCIQAAAAAAA8IhAAAAAAADwiEAAAAAAAPCIQAAAAAAA8IhAAAAAAADwiEAAAAAAAPB4QAAAAAAA8HhAAAAAAADweEAAAAAAAPB4QAAAAAAA8HhAAAAAAADweEAAAAAAAPB4QAAAAAAA8HhAAAAAAADweEAAAAAAAPB4QAAAAAAA8HhAAAAAAADweEAAAAAAAPB4QAAAAAAA8HhAAAAAAADweEAAAAAAAPB4QAAAAAAA8HhAAAAAAADweEAAAAAAAPB4QAAAAAAA8HhAAAAAAADweEAAAAAAAPB4QAAAAAAA8HhAAAAAAADweEAAAAAAAPB4QA==",
          "dtype": "f8"
         }
        }
       ],
       "layout": {
        "coloraxis": {
         "colorbar": {
          "title": {
           "text": "Frecuencia"
          }
         },
         "colorscale": [
          [
           0,
           "rgb(150,0,90)"
          ],
          [
           0.125,
           "rgb(0,0,200)"
          ],
          [
           0.25,
           "rgb(0,25,255)"
          ],
          [
           0.375,
           "rgb(0,152,255)"
          ],
          [
           0.5,
           "rgb(44,255,150)"
          ],
          [
           0.625,
           "rgb(151,255,0)"
          ],
          [
           0.75,
           "rgb(255,234,0)"
          ],
          [
           0.875,
           "rgb(255,111,0)"
          ],
          [
           1,
           "rgb(255,0,0)"
          ]
         ]
        },
        "hoverlabel": {
         "bgcolor": "white"
        },
        "legend": {
         "tracegroupgap": 0
        },
        "margin": {
         "b": 25,
         "l": 25,
         "r": 25,
         "t": 50
        },
        "template": {
         "data": {
          "bar": [
           {
            "error_x": {
             "color": "#2a3f5f"
            },
            "error_y": {
             "color": "#2a3f5f"
            },
            "marker": {
             "line": {
              "color": "#E5ECF6",
              "width": 0.5
             },
             "pattern": {
              "fillmode": "overlay",
              "size": 10,
              "solidity": 0.2
             }
            },
            "type": "bar"
           }
          ],
          "barpolar": [
           {
            "marker": {
             "line": {
              "color": "#E5ECF6",
              "width": 0.5
             },
             "pattern": {
              "fillmode": "overlay",
              "size": 10,
              "solidity": 0.2
             }
            },
            "type": "barpolar"
           }
          ],
          "carpet": [
           {
            "aaxis": {
             "endlinecolor": "#2a3f5f",
             "gridcolor": "white",
             "linecolor": "white",
             "minorgridcolor": "white",
             "startlinecolor": "#2a3f5f"
            },
            "baxis": {
             "endlinecolor": "#2a3f5f",
             "gridcolor": "white",
             "linecolor": "white",
             "minorgridcolor": "white",
             "startlinecolor": "#2a3f5f"
            },
            "type": "carpet"
           }
          ],
          "choropleth": [
           {
            "colorbar": {
             "outlinewidth": 0,
             "ticks": ""
            },
            "type": "choropleth"
           }
          ],
          "contour": [
           {
            "colorbar": {
             "outlinewidth": 0,
             "ticks": ""
            },
            "colorscale": [
             [
              0,
              "#0d0887"
             ],
             [
              0.1111111111111111,
              "#46039f"
             ],
             [
              0.2222222222222222,
              "#7201a8"
             ],
             [
              0.3333333333333333,
              "#9c179e"
             ],
             [
              0.4444444444444444,
              "#bd3786"
             ],
             [
              0.5555555555555556,
              "#d8576b"
             ],
             [
              0.6666666666666666,
              "#ed7953"
             ],
             [
              0.7777777777777778,
              "#fb9f3a"
             ],
             [
              0.8888888888888888,
              "#fdca26"
             ],
             [
              1,
              "#f0f921"
             ]
            ],
            "type": "contour"
           }
          ],
          "contourcarpet": [
           {
            "colorbar": {
             "outlinewidth": 0,
             "ticks": ""
            },
            "type": "contourcarpet"
           }
          ],
          "heatmap": [
           {
            "colorbar": {
             "outlinewidth": 0,
             "ticks": ""
            },
            "colorscale": [
             [
              0,
              "#0d0887"
             ],
             [
              0.1111111111111111,
              "#46039f"
             ],
             [
              0.2222222222222222,
              "#7201a8"
             ],
             [
              0.3333333333333333,
              "#9c179e"
             ],
             [
              0.4444444444444444,
              "#bd3786"
             ],
             [
              0.5555555555555556,
              "#d8576b"
             ],
             [
              0.6666666666666666,
              "#ed7953"
             ],
             [
              0.7777777777777778,
              "#fb9f3a"
             ],
             [
              0.8888888888888888,
              "#fdca26"
             ],
             [
              1,
              "#f0f921"
             ]
            ],
            "type": "heatmap"
           }
          ],
          "histogram": [
           {
            "marker": {
             "pattern": {
              "fillmode": "overlay",
              "size": 10,
              "solidity": 0.2
             }
            },
            "type": "histogram"
           }
          ],
          "histogram2d": [
           {
            "colorbar": {
             "outlinewidth": 0,
             "ticks": ""
            },
            "colorscale": [
             [
              0,
              "#0d0887"
             ],
             [
              0.1111111111111111,
              "#46039f"
             ],
             [
              0.2222222222222222,
              "#7201a8"
             ],
             [
              0.3333333333333333,
              "#9c179e"
             ],
             [
              0.4444444444444444,
              "#bd3786"
             ],
             [
              0.5555555555555556,
              "#d8576b"
             ],
             [
              0.6666666666666666,
              "#ed7953"
             ],
             [
              0.7777777777777778,
              "#fb9f3a"
             ],
             [
              0.8888888888888888,
              "#fdca26"
             ],
             [
              1,
              "#f0f921"
             ]
            ],
            "type": "histogram2d"
           }
          ],
          "histogram2dcontour": [
           {
            "colorbar": {
             "outlinewidth": 0,
             "ticks": ""
            },
            "colorscale": [
             [
              0,
              "#0d0887"
             ],
             [
              0.1111111111111111,
              "#46039f"
             ],
             [
              0.2222222222222222,
              "#7201a8"
             ],
             [
              0.3333333333333333,
              "#9c179e"
             ],
             [
              0.4444444444444444,
              "#bd3786"
             ],
             [
              0.5555555555555556,
              "#d8576b"
             ],
             [
              0.6666666666666666,
              "#ed7953"
             ],
             [
              0.7777777777777778,
              "#fb9f3a"
             ],
             [
              0.8888888888888888,
              "#fdca26"
             ],
             [
              1,
              "#f0f921"
             ]
            ],
            "type": "histogram2dcontour"
           }
          ],
          "mesh3d": [
           {
            "colorbar": {
             "outlinewidth": 0,
             "ticks": ""
            },
            "type": "mesh3d"
           }
          ],
          "parcoords": [
           {
            "line": {
             "colorbar": {
              "outlinewidth": 0,
              "ticks": ""
             }
            },
            "type": "parcoords"
           }
          ],
          "pie": [
           {
            "automargin": true,
            "type": "pie"
           }
          ],
          "scatter": [
           {
            "fillpattern": {
             "fillmode": "overlay",
             "size": 10,
             "solidity": 0.2
            },
            "type": "scatter"
           }
          ],
          "scatter3d": [
           {
            "line": {
             "colorbar": {
              "outlinewidth": 0,
              "ticks": ""
             }
            },
            "marker": {
             "colorbar": {
              "outlinewidth": 0,
              "ticks": ""
             }
            },
            "type": "scatter3d"
           }
          ],
          "scattercarpet": [
           {
            "marker": {
             "colorbar": {
              "outlinewidth": 0,
              "ticks": ""
             }
            },
            "type": "scattercarpet"
           }
          ],
          "scattergeo": [
           {
            "marker": {
             "colorbar": {
              "outlinewidth": 0,
              "ticks": ""
             }
            },
            "type": "scattergeo"
           }
          ],
          "scattergl": [
           {
            "marker": {
             "colorbar": {
              "outlinewidth": 0,
              "ticks": ""
             }
            },
            "type": "scattergl"
           }
          ],
          "scattermap": [
           {
            "marker": {
             "colorbar": {
              "outlinewidth": 0,
              "ticks": ""
             }
            },
            "type": "scattermap"
           }
          ],
          "scattermapbox": [
           {
            "marker": {
             "colorbar": {
              "outlinewidth": 0,
              "ticks": ""
             }
            },
            "type": "scattermapbox"
           }
          ],
          "scatterpolar": [
           {
            "marker": {
             "colorbar": {
              "outlinewidth": 0,
              "ticks": ""
             }
            },
            "type": "scatterpolar"
           }
          ],
          "scatterpolargl": [
           {
            "marker": {
             "colorbar": {
              "outlinewidth": 0,
              "ticks": ""
             }
            },
            "type": "scatterpolargl"
           }
          ],
          "scatterternary": [
           {
            "marker": {
             "colorbar": {
              "outlinewidth": 0,
              "ticks": ""
             }
            },
            "type": "scatterternary"
           }
          ],
          "surface": [
           {
            "colorbar": {
             "outlinewidth": 0,
             "ticks": ""
            },
            "colorscale": [
             [
              0,
              "#0d0887"
             ],
             [
              0.1111111111111111,
              "#46039f"
             ],
             [
              0.2222222222222222,
              "#7201a8"
             ],
             [
              0.3333333333333333,
              "#9c179e"
             ],
             [
              0.4444444444444444,
              "#bd3786"
             ],
             [
              0.5555555555555556,
              "#d8576b"
             ],
             [
              0.6666666666666666,
              "#ed7953"
             ],
             [
              0.7777777777777778,
              "#fb9f3a"
             ],
             [
              0.8888888888888888,
              "#fdca26"
             ],
             [
              1,
              "#f0f921"
             ]
            ],
            "type": "surface"
           }
          ],
          "table": [
           {
            "cells": {
             "fill": {
              "color": "#EBF0F8"
             },
             "line": {
              "color": "white"
             }
            },
            "header": {
             "fill": {
              "color": "#C8D4E3"
             },
             "line": {
              "color": "white"
             }
            },
            "type": "table"
           }
          ]
         },
         "layout": {
          "annotationdefaults": {
           "arrowcolor": "#2a3f5f",
           "arrowhead": 0,
           "arrowwidth": 1
          },
          "autotypenumbers": "strict",
          "coloraxis": {
           "colorbar": {
            "outlinewidth": 0,
            "ticks": ""
           }
          },
          "colorscale": {
           "diverging": [
            [
             0,
             "#8e0152"
            ],
            [
             0.1,
             "#c51b7d"
            ],
            [
             0.2,
             "#de77ae"
            ],
            [
             0.3,
             "#f1b6da"
            ],
            [
             0.4,
             "#fde0ef"
            ],
            [
             0.5,
             "#f7f7f7"
            ],
            [
             0.6,
             "#e6f5d0"
            ],
            [
             0.7,
             "#b8e186"
            ],
            [
             0.8,
             "#7fbc41"
            ],
            [
             0.9,
             "#4d9221"
            ],
            [
             1,
             "#276419"
            ]
           ],
           "sequential": [
            [
             0,
             "#0d0887"
            ],
            [
             0.1111111111111111,
             "#46039f"
            ],
            [
             0.2222222222222222,
             "#7201a8"
            ],
            [
             0.3333333333333333,
             "#9c179e"
            ],
            [
             0.4444444444444444,
             "#bd3786"
            ],
            [
             0.5555555555555556,
             "#d8576b"
            ],
            [
             0.6666666666666666,
             "#ed7953"
            ],
            [
             0.7777777777777778,
             "#fb9f3a"
            ],
            [
             0.8888888888888888,
             "#fdca26"
            ],
            [
             1,
             "#f0f921"
            ]
           ],
           "sequentialminus": [
            [
             0,
             "#0d0887"
            ],
            [
             0.1111111111111111,
             "#46039f"
            ],
            [
             0.2222222222222222,
             "#7201a8"
            ],
            [
             0.3333333333333333,
             "#9c179e"
            ],
            [
             0.4444444444444444,
             "#bd3786"
            ],
            [
             0.5555555555555556,
             "#d8576b"
            ],
            [
             0.6666666666666666,
             "#ed7953"
            ],
            [
             0.7777777777777778,
             "#fb9f3a"
            ],
            [
             0.8888888888888888,
             "#fdca26"
            ],
            [
             1,
             "#f0f921"
            ]
           ]
          },
          "colorway": [
           "#636efa",
           "#EF553B",
           "#00cc96",
           "#ab63fa",
           "#FFA15A",
           "#19d3f3",
           "#FF6692",
           "#B6E880",
           "#FF97FF",
           "#FECB52"
          ],
          "font": {
           "color": "#2a3f5f"
          },
          "geo": {
           "bgcolor": "white",
           "lakecolor": "white",
           "landcolor": "#E5ECF6",
           "showlakes": true,
           "showland": true,
           "subunitcolor": "white"
          },
          "hoverlabel": {
           "align": "left"
          },
          "hovermode": "closest",
          "mapbox": {
           "style": "light"
          },
          "paper_bgcolor": "white",
          "plot_bgcolor": "#E5ECF6",
          "polar": {
           "angularaxis": {
            "gridcolor": "white",
            "linecolor": "white",
            "ticks": ""
           },
           "bgcolor": "#E5ECF6",
           "radialaxis": {
            "gridcolor": "white",
            "linecolor": "white",
            "ticks": ""
           }
          },
          "scene": {
           "xaxis": {
            "backgroundcolor": "#E5ECF6",
            "gridcolor": "white",
            "gridwidth": 2,
            "linecolor": "white",
            "showbackground": true,
            "ticks": "",
            "zerolinecolor": "white"
           },
           "yaxis": {
            "backgroundcolor": "#E5ECF6",
            "gridcolor": "white",
            "gridwidth": 2,
            "linecolor": "white",
            "showbackground": true,
            "ticks": "",
            "zerolinecolor": "white"
           },
           "zaxis": {
            "backgroundcolor": "#E5ECF6",
            "gridcolor": "white",
            "gridwidth": 2,
            "linecolor": "white",
            "showbackground": true,
            "ticks": "",
            "zerolinecolor": "white"
           }
          },
          "shapedefaults": {
           "line": {
            "color": "#2a3f5f"
           }
          },
          "ternary": {
           "aaxis": {
            "gridcolor": "white",
            "linecolor": "white",
            "ticks": ""
           },
           "baxis": {
            "gridcolor": "white",
            "linecolor": "white",
            "ticks": ""
           },
           "bgcolor": "#E5ECF6",
           "caxis": {
            "gridcolor": "white",
            "linecolor": "white",
            "ticks": ""
           }
          },
          "title": {
           "x": 0.05
          },
          "xaxis": {
           "automargin": true,
           "gridcolor": "white",
           "linecolor": "white",
           "ticks": "",
           "title": {
            "standoff": 15
           },
           "zerolinecolor": "white",
           "zerolinewidth": 2
          },
          "yaxis": {
           "automargin": true,
           "gridcolor": "white",
           "linecolor": "white",
           "ticks": "",
           "title": {
            "standoff": 15
           },
           "zerolinecolor": "white",
           "zerolinewidth": 2
          }
         }
        },
        "title": {
         "font": {
          "size": 20
         },
         "text": "Frecuencia de Palabras en Descripciones de la mitad de zapatos menos vendida"
        }
       }
      }
     },
     "metadata": {},
     "output_type": "display_data"
    }
   ],
   "source": [
    "from collections import Counter\n",
    "\n",
    "# Procesamiento del texto\n",
    "# Calcular la mediana de la columna 'How_Many_Sold'\n",
    "mediana = men_shoes_data['How_Many_Sold'].median()\n",
    "\n",
    "# Filtrar las filas donde 'How_Many_Sold' es mayor que la mediana\n",
    "filtrado = men_shoes_data[men_shoes_data['How_Many_Sold'] < mediana]\n",
    "\n",
    "# Unir las palabras de 'Product_details' de las filas filtradas y convertir a minúsculas\n",
    "texto = ' '.join(filtrado['Product_details'].astype(str)).lower()\n",
    "palabras = re.findall(r'\\b\\w+\\b', texto)  # Extraer palabras eliminando puntuación\n",
    "palabras = [palabra for palabra in palabras if palabra not in ['men', 'shoes', 's', 'for']]  # Eliminar palabras específicas\n",
    "\n",
    "# Contar frecuencias y crear DataFrame\n",
    "frecuencias = Counter(palabras)\n",
    "df_palabras = pd.DataFrame(frecuencias.items(), columns=['Palabra', 'Frecuencia']).sort_values('Frecuencia', ascending=False)\n",
    "\n",
    "# Filtrar stopwords opcional (descomentar para usar)\n",
    "# from nltk.corpus import stopwords\n",
    "# stop_words = set(stopwords.words('spanish'))  # o 'english' según el idioma\n",
    "# df_palabras = df_palabras[~df_palabras['Palabra'].isin(stop_words)]\n",
    "\n",
    "# Tomar las 50 palabras más comunes\n",
    "top_palabras = df_palabras.head(50)\n",
    "\n",
    "# Crear treemap interactivo\n",
    "fig = px.treemap(top_palabras,\n",
    "                 path=['Palabra'],\n",
    "                 values='Frecuencia',\n",
    "                 title='Frecuencia de Palabras en Descripciones de la mitad de zapatos menos vendida',\n",
    "                 color='Frecuencia',\n",
    "                 color_continuous_scale='Rainbow')\n",
    "\n",
    "# Personalizar diseño\n",
    "fig.update_layout(margin=dict(t=50, l=25, r=25, b=25),\n",
    "                  title_font=dict(size=20),\n",
    "                  hoverlabel=dict(bgcolor=\"white\"))\n",
    "\n",
    "fig.update_traces(textinfo='label+value',\n",
    "                  textfont=dict(size=14),\n",
    "                  marker=dict(cornerradius=5))\n",
    "\n",
    "fig.show()"
   ]
  },
  {
   "cell_type": "code",
   "execution_count": 13,
   "metadata": {},
   "outputs": [
    {
     "data": {
      "text/plain": [
       "<seaborn.axisgrid.PairGrid at 0x7f1ea6620440>"
      ]
     },
     "execution_count": 13,
     "metadata": {},
     "output_type": "execute_result"
    },
    {
     "data": {
      "image/png": "[encoded data removed]",
      "text/plain": [
       "<Figure size 750x750 with 12 Axes>"
      ]
     },
     "metadata": {},
     "output_type": "display_data"
    }
   ],
   "source": [
    "sns.set_theme(style=\"ticks\")\n",
    "\n",
    "sns.pairplot(men_shoes_data)"
   ]
  },
  {
   "cell_type": "code",
   "execution_count": null,
   "metadata": {},
   "outputs": [],
   "source": []
  }
 ],
 "metadata": {
  "kernelspec": {
   "display_name": "Python 3",
   "language": "python",
   "name": "python3"
  },
  "language_info": {
   "codemirror_mode": {
    "name": "ipython",
    "version": 3
   },
   "file_extension": ".py",
   "mimetype": "text/x-python",
   "name": "python",
   "nbconvert_exporter": "python",
   "pygments_lexer": "ipython3",
   "version": "3.13.1"
  }
 },
 "nbformat": 4,
 "nbformat_minor": 2
}
