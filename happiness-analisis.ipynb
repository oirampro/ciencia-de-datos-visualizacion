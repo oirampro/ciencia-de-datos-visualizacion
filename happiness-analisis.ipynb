{
 "cells": [
  {
   "cell_type": "markdown",
   "metadata": {},
   "source": [
    "# Exploracion de los datos del dataset sobre felicidad."
   ]
  },
  {
   "cell_type": "code",
   "execution_count": 1,
   "metadata": {},
   "outputs": [
    {
     "name": "stdout",
     "output_type": "stream",
     "text": [
      "Defaulting to user installation because normal site-packages is not writeable\n",
      "Requirement already satisfied: seaborn in /home/mario/.local/lib/python3.13/site-packages (0.13.2)\n",
      "Requirement already satisfied: numpy!=1.24.0,>=1.20 in /home/mario/.local/lib/python3.13/site-packages (from seaborn) (2.2.1)\n",
      "Requirement already satisfied: pandas>=1.2 in /home/mario/.local/lib/python3.13/site-packages (from seaborn) (2.2.3)\n",
      "Requirement already satisfied: matplotlib!=3.6.1,>=3.4 in /home/mario/.local/lib/python3.13/site-packages (from seaborn) (3.10.0)\n",
      "Requirement already satisfied: contourpy>=1.0.1 in /home/mario/.local/lib/python3.13/site-packages (from matplotlib!=3.6.1,>=3.4->seaborn) (1.3.1)\n",
      "Requirement already satisfied: cycler>=0.10 in /home/mario/.local/lib/python3.13/site-packages (from matplotlib!=3.6.1,>=3.4->seaborn) (0.12.1)\n",
      "Requirement already satisfied: fonttools>=4.22.0 in /home/mario/.local/lib/python3.13/site-packages (from matplotlib!=3.6.1,>=3.4->seaborn) (4.55.8)\n",
      "Requirement already satisfied: kiwisolver>=1.3.1 in /home/mario/.local/lib/python3.13/site-packages (from matplotlib!=3.6.1,>=3.4->seaborn) (1.4.8)\n",
      "Requirement already satisfied: packaging>=20.0 in /usr/lib/python3.13/site-packages (from matplotlib!=3.6.1,>=3.4->seaborn) (24.2)\n",
      "Requirement already satisfied: pillow>=8 in /usr/lib64/python3.13/site-packages (from matplotlib!=3.6.1,>=3.4->seaborn) (11.0.0)\n",
      "Requirement already satisfied: pyparsing>=2.3.1 in /home/mario/.local/lib/python3.13/site-packages (from matplotlib!=3.6.1,>=3.4->seaborn) (3.2.1)\n",
      "Requirement already satisfied: python-dateutil>=2.7 in /usr/lib/python3.13/site-packages (from matplotlib!=3.6.1,>=3.4->seaborn) (2.8.2)\n",
      "Requirement already satisfied: pytz>=2020.1 in /home/mario/.local/lib/python3.13/site-packages (from pandas>=1.2->seaborn) (2024.2)\n",
      "Requirement already satisfied: tzdata>=2022.7 in /home/mario/.local/lib/python3.13/site-packages (from pandas>=1.2->seaborn) (2024.2)\n",
      "Requirement already satisfied: six>=1.5 in /usr/lib/python3.13/site-packages (from python-dateutil>=2.7->matplotlib!=3.6.1,>=3.4->seaborn) (1.16.0)\n",
      "Note: you may need to restart the kernel to use updated packages.\n",
      "Defaulting to user installation because normal site-packages is not writeable\n",
      "Requirement already satisfied: pandas in /home/mario/.local/lib/python3.13/site-packages (2.2.3)\n",
      "Requirement already satisfied: numpy>=1.26.0 in /home/mario/.local/lib/python3.13/site-packages (from pandas) (2.2.1)\n",
      "Requirement already satisfied: python-dateutil>=2.8.2 in /usr/lib/python3.13/site-packages (from pandas) (2.8.2)\n",
      "Requirement already satisfied: pytz>=2020.1 in /home/mario/.local/lib/python3.13/site-packages (from pandas) (2024.2)\n",
      "Requirement already satisfied: tzdata>=2022.7 in /home/mario/.local/lib/python3.13/site-packages (from pandas) (2024.2)\n",
      "Requirement already satisfied: six>=1.5 in /usr/lib/python3.13/site-packages (from python-dateutil>=2.8.2->pandas) (1.16.0)\n",
      "Note: you may need to restart the kernel to use updated packages.\n",
      "Defaulting to user installation because normal site-packages is not writeable\n",
      "Requirement already satisfied: plotly in /home/mario/.local/lib/python3.13/site-packages (6.0.0)\n",
      "Requirement already satisfied: narwhals>=1.15.1 in /home/mario/.local/lib/python3.13/site-packages (from plotly) (1.24.1)\n",
      "Requirement already satisfied: packaging in /usr/lib/python3.13/site-packages (from plotly) (24.2)\n",
      "Note: you may need to restart the kernel to use updated packages.\n",
      "Defaulting to user installation because normal site-packages is not writeable\n",
      "Requirement already satisfied: prettytable in /home/mario/.local/lib/python3.13/site-packages (3.13.0)\n",
      "Requirement already satisfied: wcwidth in /home/mario/.local/lib/python3.13/site-packages (from prettytable) (0.2.13)\n",
      "Note: you may need to restart the kernel to use updated packages.\n",
      "Defaulting to user installation because normal site-packages is not writeable\n",
      "Requirement already satisfied: nbformat in /home/mario/.local/lib/python3.13/site-packages (5.10.4)\n",
      "Requirement already satisfied: fastjsonschema>=2.15 in /home/mario/.local/lib/python3.13/site-packages (from nbformat) (2.21.1)\n",
      "Requirement already satisfied: jsonschema>=2.6 in /home/mario/.local/lib/python3.13/site-packages (from nbformat) (4.23.0)\n",
      "Requirement already satisfied: jupyter-core!=5.0.*,>=4.12 in /home/mario/.local/lib/python3.13/site-packages (from nbformat) (5.7.2)\n",
      "Requirement already satisfied: traitlets>=5.1 in /home/mario/.local/lib/python3.13/site-packages (from nbformat) (5.14.3)\n",
      "Requirement already satisfied: attrs>=22.2.0 in /home/mario/.local/lib/python3.13/site-packages (from jsonschema>=2.6->nbformat) (25.1.0)\n",
      "Requirement already satisfied: jsonschema-specifications>=2023.03.6 in /home/mario/.local/lib/python3.13/site-packages (from jsonschema>=2.6->nbformat) (2024.10.1)\n",
      "Requirement already satisfied: referencing>=0.28.4 in /home/mario/.local/lib/python3.13/site-packages (from jsonschema>=2.6->nbformat) (0.36.2)\n",
      "Requirement already satisfied: rpds-py>=0.7.1 in /home/mario/.local/lib/python3.13/site-packages (from jsonschema>=2.6->nbformat) (0.22.3)\n",
      "Requirement already satisfied: platformdirs>=2.5 in /home/mario/.local/lib/python3.13/site-packages (from jupyter-core!=5.0.*,>=4.12->nbformat) (4.3.6)\n",
      "Note: you may need to restart the kernel to use updated packages.\n"
     ]
    }
   ],
   "source": [
    "%pip install seaborn\n",
    "%pip install pandas\n",
    "%pip install plotly --upgrade \n",
    "%pip install prettytable\n",
    "%pip install nbformat --upgrade \n",
    "\n",
    "import matplotlib.pyplot as plt\n",
    "import seaborn as sns\n",
    "import pandas as pd\n",
    "import plotly.express as px\n",
    "import plotly.graph_objects as go\n",
    "\n",
    "import prettytable\n",
    "\n",
    "prettytable.DEFAULT = 'DEFAULT'\n",
    "\n",
    "# Cargar el dataset\n",
    "df = pd.read_csv(\"iris.csv\")"
   ]
  },
  {
   "cell_type": "code",
   "execution_count": 2,
   "metadata": {},
   "outputs": [
    {
     "name": "stdout",
     "output_type": "stream",
     "text": [
      "Defaulting to user installation because normal site-packages is not writeable\n",
      "Requirement already satisfied: xlrd in /home/mario/.local/lib/python3.13/site-packages (2.0.1)\n",
      "Requirement already satisfied: openpyxl in /home/mario/.local/lib/python3.13/site-packages (3.1.5)\n",
      "Requirement already satisfied: et-xmlfile in /home/mario/.local/lib/python3.13/site-packages (from openpyxl) (2.0.0)\n",
      "Note: you may need to restart the kernel to use updated packages.\n"
     ]
    }
   ],
   "source": [
    "%pip install xlrd openpyxl\n",
    "world_happiness_data = pd.read_excel('DataForTable2.1.xls', engine='xlrd')"
   ]
  },
  {
   "cell_type": "code",
   "execution_count": 3,
   "metadata": {},
   "outputs": [
    {
     "data": {
      "text/html": [
       "<div>\n",
       "<style scoped>\n",
       "    .dataframe tbody tr th:only-of-type {\n",
       "        vertical-align: middle;\n",
       "    }\n",
       "\n",
       "    .dataframe tbody tr th {\n",
       "        vertical-align: top;\n",
       "    }\n",
       "\n",
       "    .dataframe thead th {\n",
       "        text-align: right;\n",
       "    }\n",
       "</style>\n",
       "<table border=\"1\" class=\"dataframe\">\n",
       "  <thead>\n",
       "    <tr style=\"text-align: right;\">\n",
       "      <th></th>\n",
       "      <th>Country name</th>\n",
       "      <th>year</th>\n",
       "      <th>Life Ladder</th>\n",
       "      <th>Log GDP per capita</th>\n",
       "      <th>Social support</th>\n",
       "      <th>Healthy life expectancy at birth</th>\n",
       "      <th>Freedom to make life choices</th>\n",
       "      <th>Generosity</th>\n",
       "      <th>Perceptions of corruption</th>\n",
       "      <th>Positive affect</th>\n",
       "      <th>Negative affect</th>\n",
       "    </tr>\n",
       "  </thead>\n",
       "  <tbody>\n",
       "    <tr>\n",
       "      <th>0</th>\n",
       "      <td>Afghanistan</td>\n",
       "      <td>2008</td>\n",
       "      <td>3.723590</td>\n",
       "      <td>7.350416</td>\n",
       "      <td>0.450662</td>\n",
       "      <td>50.500000</td>\n",
       "      <td>0.718114</td>\n",
       "      <td>0.164055</td>\n",
       "      <td>0.881686</td>\n",
       "      <td>0.414297</td>\n",
       "      <td>0.258195</td>\n",
       "    </tr>\n",
       "    <tr>\n",
       "      <th>1</th>\n",
       "      <td>Afghanistan</td>\n",
       "      <td>2009</td>\n",
       "      <td>4.401778</td>\n",
       "      <td>7.508646</td>\n",
       "      <td>0.552308</td>\n",
       "      <td>50.799999</td>\n",
       "      <td>0.678896</td>\n",
       "      <td>0.187297</td>\n",
       "      <td>0.850035</td>\n",
       "      <td>0.481421</td>\n",
       "      <td>0.237092</td>\n",
       "    </tr>\n",
       "    <tr>\n",
       "      <th>2</th>\n",
       "      <td>Afghanistan</td>\n",
       "      <td>2010</td>\n",
       "      <td>4.758381</td>\n",
       "      <td>7.613900</td>\n",
       "      <td>0.539075</td>\n",
       "      <td>51.099998</td>\n",
       "      <td>0.600127</td>\n",
       "      <td>0.117861</td>\n",
       "      <td>0.706766</td>\n",
       "      <td>0.516907</td>\n",
       "      <td>0.275324</td>\n",
       "    </tr>\n",
       "    <tr>\n",
       "      <th>3</th>\n",
       "      <td>Afghanistan</td>\n",
       "      <td>2011</td>\n",
       "      <td>3.831719</td>\n",
       "      <td>7.581259</td>\n",
       "      <td>0.521104</td>\n",
       "      <td>51.400002</td>\n",
       "      <td>0.495901</td>\n",
       "      <td>0.160098</td>\n",
       "      <td>0.731109</td>\n",
       "      <td>0.479835</td>\n",
       "      <td>0.267175</td>\n",
       "    </tr>\n",
       "    <tr>\n",
       "      <th>4</th>\n",
       "      <td>Afghanistan</td>\n",
       "      <td>2012</td>\n",
       "      <td>3.782938</td>\n",
       "      <td>7.660506</td>\n",
       "      <td>0.520637</td>\n",
       "      <td>51.700001</td>\n",
       "      <td>0.530935</td>\n",
       "      <td>0.234157</td>\n",
       "      <td>0.775620</td>\n",
       "      <td>0.613513</td>\n",
       "      <td>0.267919</td>\n",
       "    </tr>\n",
       "  </tbody>\n",
       "</table>\n",
       "</div>"
      ],
      "text/plain": [
       "  Country name  year  Life Ladder  Log GDP per capita  Social support  \\\n",
       "0  Afghanistan  2008     3.723590            7.350416        0.450662   \n",
       "1  Afghanistan  2009     4.401778            7.508646        0.552308   \n",
       "2  Afghanistan  2010     4.758381            7.613900        0.539075   \n",
       "3  Afghanistan  2011     3.831719            7.581259        0.521104   \n",
       "4  Afghanistan  2012     3.782938            7.660506        0.520637   \n",
       "\n",
       "   Healthy life expectancy at birth  Freedom to make life choices  Generosity  \\\n",
       "0                         50.500000                      0.718114    0.164055   \n",
       "1                         50.799999                      0.678896    0.187297   \n",
       "2                         51.099998                      0.600127    0.117861   \n",
       "3                         51.400002                      0.495901    0.160098   \n",
       "4                         51.700001                      0.530935    0.234157   \n",
       "\n",
       "   Perceptions of corruption  Positive affect  Negative affect  \n",
       "0                   0.881686         0.414297         0.258195  \n",
       "1                   0.850035         0.481421         0.237092  \n",
       "2                   0.706766         0.516907         0.275324  \n",
       "3                   0.731109         0.479835         0.267175  \n",
       "4                   0.775620         0.613513         0.267919  "
      ]
     },
     "execution_count": 3,
     "metadata": {},
     "output_type": "execute_result"
    }
   ],
   "source": [
    "world_happiness_data.head()"
   ]
  },
  {
   "cell_type": "code",
   "execution_count": 4,
   "metadata": {},
   "outputs": [
    {
     "data": {
      "text/html": [
       "<div>\n",
       "<style scoped>\n",
       "    .dataframe tbody tr th:only-of-type {\n",
       "        vertical-align: middle;\n",
       "    }\n",
       "\n",
       "    .dataframe tbody tr th {\n",
       "        vertical-align: top;\n",
       "    }\n",
       "\n",
       "    .dataframe thead th {\n",
       "        text-align: right;\n",
       "    }\n",
       "</style>\n",
       "<table border=\"1\" class=\"dataframe\">\n",
       "  <thead>\n",
       "    <tr style=\"text-align: right;\">\n",
       "      <th></th>\n",
       "      <th>year</th>\n",
       "      <th>Life Ladder</th>\n",
       "      <th>Log GDP per capita</th>\n",
       "      <th>Social support</th>\n",
       "      <th>Healthy life expectancy at birth</th>\n",
       "      <th>Freedom to make life choices</th>\n",
       "      <th>Generosity</th>\n",
       "      <th>Perceptions of corruption</th>\n",
       "      <th>Positive affect</th>\n",
       "      <th>Negative affect</th>\n",
       "    </tr>\n",
       "  </thead>\n",
       "  <tbody>\n",
       "    <tr>\n",
       "      <th>count</th>\n",
       "      <td>2363.000000</td>\n",
       "      <td>2363.000000</td>\n",
       "      <td>2335.000000</td>\n",
       "      <td>2350.000000</td>\n",
       "      <td>2300.000000</td>\n",
       "      <td>2327.000000</td>\n",
       "      <td>2282.000000</td>\n",
       "      <td>2238.000000</td>\n",
       "      <td>2339.000000</td>\n",
       "      <td>2347.000000</td>\n",
       "    </tr>\n",
       "    <tr>\n",
       "      <th>mean</th>\n",
       "      <td>2014.763860</td>\n",
       "      <td>5.483562</td>\n",
       "      <td>9.399673</td>\n",
       "      <td>0.809369</td>\n",
       "      <td>63.401828</td>\n",
       "      <td>0.750290</td>\n",
       "      <td>0.000096</td>\n",
       "      <td>0.743959</td>\n",
       "      <td>0.651878</td>\n",
       "      <td>0.273160</td>\n",
       "    </tr>\n",
       "    <tr>\n",
       "      <th>std</th>\n",
       "      <td>5.059436</td>\n",
       "      <td>1.125523</td>\n",
       "      <td>1.152062</td>\n",
       "      <td>0.121211</td>\n",
       "      <td>6.842644</td>\n",
       "      <td>0.139366</td>\n",
       "      <td>0.161386</td>\n",
       "      <td>0.184871</td>\n",
       "      <td>0.106249</td>\n",
       "      <td>0.087133</td>\n",
       "    </tr>\n",
       "    <tr>\n",
       "      <th>min</th>\n",
       "      <td>2005.000000</td>\n",
       "      <td>1.281271</td>\n",
       "      <td>5.526723</td>\n",
       "      <td>0.228217</td>\n",
       "      <td>6.720000</td>\n",
       "      <td>0.228301</td>\n",
       "      <td>-0.339547</td>\n",
       "      <td>0.035198</td>\n",
       "      <td>0.178886</td>\n",
       "      <td>0.082737</td>\n",
       "    </tr>\n",
       "    <tr>\n",
       "      <th>25%</th>\n",
       "      <td>2011.000000</td>\n",
       "      <td>4.646750</td>\n",
       "      <td>8.506165</td>\n",
       "      <td>0.743811</td>\n",
       "      <td>59.195001</td>\n",
       "      <td>0.660706</td>\n",
       "      <td>-0.111940</td>\n",
       "      <td>0.686784</td>\n",
       "      <td>0.571977</td>\n",
       "      <td>0.208559</td>\n",
       "    </tr>\n",
       "    <tr>\n",
       "      <th>50%</th>\n",
       "      <td>2015.000000</td>\n",
       "      <td>5.448725</td>\n",
       "      <td>9.502946</td>\n",
       "      <td>0.834395</td>\n",
       "      <td>65.099998</td>\n",
       "      <td>0.771122</td>\n",
       "      <td>-0.021613</td>\n",
       "      <td>0.798497</td>\n",
       "      <td>0.663420</td>\n",
       "      <td>0.262175</td>\n",
       "    </tr>\n",
       "    <tr>\n",
       "      <th>75%</th>\n",
       "      <td>2019.000000</td>\n",
       "      <td>6.323592</td>\n",
       "      <td>10.392974</td>\n",
       "      <td>0.903779</td>\n",
       "      <td>68.552502</td>\n",
       "      <td>0.861740</td>\n",
       "      <td>0.093569</td>\n",
       "      <td>0.867557</td>\n",
       "      <td>0.737262</td>\n",
       "      <td>0.326211</td>\n",
       "    </tr>\n",
       "    <tr>\n",
       "      <th>max</th>\n",
       "      <td>2023.000000</td>\n",
       "      <td>8.018934</td>\n",
       "      <td>11.675588</td>\n",
       "      <td>0.987343</td>\n",
       "      <td>74.599998</td>\n",
       "      <td>0.985178</td>\n",
       "      <td>0.699570</td>\n",
       "      <td>0.983276</td>\n",
       "      <td>0.883586</td>\n",
       "      <td>0.704590</td>\n",
       "    </tr>\n",
       "  </tbody>\n",
       "</table>\n",
       "</div>"
      ],
      "text/plain": [
       "              year  Life Ladder  Log GDP per capita  Social support  \\\n",
       "count  2363.000000  2363.000000         2335.000000     2350.000000   \n",
       "mean   2014.763860     5.483562            9.399673        0.809369   \n",
       "std       5.059436     1.125523            1.152062        0.121211   \n",
       "min    2005.000000     1.281271            5.526723        0.228217   \n",
       "25%    2011.000000     4.646750            8.506165        0.743811   \n",
       "50%    2015.000000     5.448725            9.502946        0.834395   \n",
       "75%    2019.000000     6.323592           10.392974        0.903779   \n",
       "max    2023.000000     8.018934           11.675588        0.987343   \n",
       "\n",
       "       Healthy life expectancy at birth  Freedom to make life choices  \\\n",
       "count                       2300.000000                   2327.000000   \n",
       "mean                          63.401828                      0.750290   \n",
       "std                            6.842644                      0.139366   \n",
       "min                            6.720000                      0.228301   \n",
       "25%                           59.195001                      0.660706   \n",
       "50%                           65.099998                      0.771122   \n",
       "75%                           68.552502                      0.861740   \n",
       "max                           74.599998                      0.985178   \n",
       "\n",
       "        Generosity  Perceptions of corruption  Positive affect  \\\n",
       "count  2282.000000                2238.000000      2339.000000   \n",
       "mean      0.000096                   0.743959         0.651878   \n",
       "std       0.161386                   0.184871         0.106249   \n",
       "min      -0.339547                   0.035198         0.178886   \n",
       "25%      -0.111940                   0.686784         0.571977   \n",
       "50%      -0.021613                   0.798497         0.663420   \n",
       "75%       0.093569                   0.867557         0.737262   \n",
       "max       0.699570                   0.983276         0.883586   \n",
       "\n",
       "       Negative affect  \n",
       "count      2347.000000  \n",
       "mean          0.273160  \n",
       "std           0.087133  \n",
       "min           0.082737  \n",
       "25%           0.208559  \n",
       "50%           0.262175  \n",
       "75%           0.326211  \n",
       "max           0.704590  "
      ]
     },
     "execution_count": 4,
     "metadata": {},
     "output_type": "execute_result"
    }
   ],
   "source": [
    "world_happiness_data.describe()"
   ]
  },
  {
   "cell_type": "code",
   "execution_count": 5,
   "metadata": {},
   "outputs": [],
   "source": [
    "# Calcular el promedio de la felicidad de todos los paises para cada año\n",
    "happiness_data_per_year = world_happiness_data.groupby(\"year\")[[\"Life Ladder\",\n",
    "                                                                \"Log GDP per capita\",\n",
    "                                                                \"Social support\",\n",
    "                                                                \"Healthy life expectancy at birth\",\n",
    "                                                                \"Freedom to make life choices\",\n",
    "                                                                \"Generosity\", \"Perceptions of corruption\",\n",
    "                                                                \"Positive affect\",\n",
    "                                                                \"Negative affect\"]].mean().reset_index()"
   ]
  },
  {
   "cell_type": "code",
   "execution_count": null,
   "metadata": {},
   "outputs": [
    {
     "data": {
      "image/png": "[encoded data removed]",
      "text/plain": [
       "<Figure size 1200x600 with 1 Axes>"
      ]
     },
     "metadata": {},
     "output_type": "display_data"
    }
   ],
   "source": [
    "# Ordenamos por año para mejor visualización\n",
    "happiness_data_per_year = happiness_data_per_year.sort_values('year')\n",
    "\n",
    "# Configuramos el estilo del gráfico\n",
    "plt.figure(figsize=(12, 6))\n",
    "plt.plot(happiness_data_per_year['year'], happiness_data_per_year['Life Ladder'], \n",
    "         marker='o', \n",
    "         linestyle='-', \n",
    "         color='tab:blue',\n",
    "         linewidth=2,\n",
    "         markersize=8)\n",
    "\n",
    "# Personalizamos el gráfico\n",
    "plt.title('Evolución del Índice de Felicidad (Life Ladder) por Año', \n",
    "          fontsize=14, pad=20)\n",
    "plt.xlabel('Año', fontsize=12)\n",
    "plt.ylabel('Life Ladder (Índice de Felicidad)', fontsize=12)\n",
    "plt.grid(True, linestyle='--', alpha=0.7)\n",
    "plt.xticks(happiness_data_per_year['year'], rotation=45)\n",
    "plt.tight_layout()\n",
    "\n",
    "# Mostramos el gráfico\n",
    "plt.show()"
   ]
  },
  {
   "cell_type": "code",
   "execution_count": 7,
   "metadata": {},
   "outputs": [
    {
     "data": {
      "text/html": [
       "<div>\n",
       "<style scoped>\n",
       "    .dataframe tbody tr th:only-of-type {\n",
       "        vertical-align: middle;\n",
       "    }\n",
       "\n",
       "    .dataframe tbody tr th {\n",
       "        vertical-align: top;\n",
       "    }\n",
       "\n",
       "    .dataframe thead th {\n",
       "        text-align: right;\n",
       "    }\n",
       "</style>\n",
       "<table border=\"1\" class=\"dataframe\">\n",
       "  <thead>\n",
       "    <tr style=\"text-align: right;\">\n",
       "      <th></th>\n",
       "      <th>Country name</th>\n",
       "      <th>Life Ladder</th>\n",
       "      <th>Log GDP per capita</th>\n",
       "      <th>Social support</th>\n",
       "      <th>Healthy life expectancy at birth</th>\n",
       "      <th>Freedom to make life choices</th>\n",
       "      <th>Generosity</th>\n",
       "      <th>Perceptions of corruption</th>\n",
       "      <th>Positive affect</th>\n",
       "      <th>Negative affect</th>\n",
       "    </tr>\n",
       "  </thead>\n",
       "  <tbody>\n",
       "    <tr>\n",
       "      <th>0</th>\n",
       "      <td>Afghanistan</td>\n",
       "      <td>1.445909</td>\n",
       "      <td>NaN</td>\n",
       "      <td>0.368478</td>\n",
       "      <td>55.200001</td>\n",
       "      <td>0.228301</td>\n",
       "      <td>NaN</td>\n",
       "      <td>0.738471</td>\n",
       "      <td>0.260513</td>\n",
       "      <td>0.460167</td>\n",
       "    </tr>\n",
       "    <tr>\n",
       "      <th>1</th>\n",
       "      <td>Albania</td>\n",
       "      <td>5.444691</td>\n",
       "      <td>9.688706</td>\n",
       "      <td>0.690753</td>\n",
       "      <td>69.199997</td>\n",
       "      <td>0.871545</td>\n",
       "      <td>0.067885</td>\n",
       "      <td>0.855425</td>\n",
       "      <td>0.597349</td>\n",
       "      <td>0.314227</td>\n",
       "    </tr>\n",
       "    <tr>\n",
       "      <th>2</th>\n",
       "      <td>Argentina</td>\n",
       "      <td>6.393229</td>\n",
       "      <td>9.993596</td>\n",
       "      <td>0.892118</td>\n",
       "      <td>67.300003</td>\n",
       "      <td>0.831684</td>\n",
       "      <td>-0.129061</td>\n",
       "      <td>0.846094</td>\n",
       "      <td>0.720122</td>\n",
       "      <td>0.301162</td>\n",
       "    </tr>\n",
       "    <tr>\n",
       "      <th>3</th>\n",
       "      <td>Armenia</td>\n",
       "      <td>5.679090</td>\n",
       "      <td>9.729613</td>\n",
       "      <td>0.819338</td>\n",
       "      <td>68.199997</td>\n",
       "      <td>0.819376</td>\n",
       "      <td>-0.179444</td>\n",
       "      <td>0.680709</td>\n",
       "      <td>0.574717</td>\n",
       "      <td>0.422631</td>\n",
       "    </tr>\n",
       "    <tr>\n",
       "      <th>4</th>\n",
       "      <td>Australia</td>\n",
       "      <td>7.024582</td>\n",
       "      <td>10.846434</td>\n",
       "      <td>0.896460</td>\n",
       "      <td>71.199997</td>\n",
       "      <td>0.875769</td>\n",
       "      <td>0.187309</td>\n",
       "      <td>0.481580</td>\n",
       "      <td>0.731053</td>\n",
       "      <td>0.248163</td>\n",
       "    </tr>\n",
       "  </tbody>\n",
       "</table>\n",
       "</div>"
      ],
      "text/plain": [
       "  Country name  Life Ladder  Log GDP per capita  Social support  \\\n",
       "0  Afghanistan     1.445909                 NaN        0.368478   \n",
       "1      Albania     5.444691            9.688706        0.690753   \n",
       "2    Argentina     6.393229            9.993596        0.892118   \n",
       "3      Armenia     5.679090            9.729613        0.819338   \n",
       "4    Australia     7.024582           10.846434        0.896460   \n",
       "\n",
       "   Healthy life expectancy at birth  Freedom to make life choices  Generosity  \\\n",
       "0                         55.200001                      0.228301         NaN   \n",
       "1                         69.199997                      0.871545    0.067885   \n",
       "2                         67.300003                      0.831684   -0.129061   \n",
       "3                         68.199997                      0.819376   -0.179444   \n",
       "4                         71.199997                      0.875769    0.187309   \n",
       "\n",
       "   Perceptions of corruption  Positive affect  Negative affect  \n",
       "0                   0.738471         0.260513         0.460167  \n",
       "1                   0.855425         0.597349         0.314227  \n",
       "2                   0.846094         0.720122         0.301162  \n",
       "3                   0.680709         0.574717         0.422631  \n",
       "4                   0.481580         0.731053         0.248163  "
      ]
     },
     "execution_count": 7,
     "metadata": {},
     "output_type": "execute_result"
    }
   ],
   "source": [
    "# Datos de felicidad del año 2023\n",
    "happynes_2023_data = world_happiness_data[world_happiness_data['year'] == 2023].drop(columns='year').reset_index(drop=True)\n",
    "happynes_2023_data.head()"
   ]
  },
  {
   "cell_type": "code",
   "execution_count": 8,
   "metadata": {},
   "outputs": [
    {
     "name": "stdout",
     "output_type": "stream",
     "text": [
      "<class 'pandas.core.frame.DataFrame'>\n",
      "Index: 17 entries, 1 to 17\n",
      "Data columns (total 10 columns):\n",
      " #   Column                            Non-Null Count  Dtype  \n",
      "---  ------                            --------------  -----  \n",
      " 0   year                              17 non-null     int64  \n",
      " 1   Life Ladder                       17 non-null     float64\n",
      " 2   Log GDP per capita                17 non-null     float64\n",
      " 3   Social support                    17 non-null     float64\n",
      " 4   Healthy life expectancy at birth  17 non-null     float64\n",
      " 5   Freedom to make life choices      17 non-null     float64\n",
      " 6   Generosity                        17 non-null     float64\n",
      " 7   Perceptions of corruption         17 non-null     float64\n",
      " 8   Positive affect                   17 non-null     float64\n",
      " 9   Negative affect                   17 non-null     float64\n",
      "dtypes: float64(9), int64(1)\n",
      "memory usage: 1.5 KB\n"
     ]
    }
   ],
   "source": [
    "felicidad_mexico = world_happiness_data[world_happiness_data['Country name'] == 'Mexico'].drop(columns='Country name').reset_index(drop=True)\n",
    "felicidad_mexico = felicidad_mexico[felicidad_mexico['year'] != 2005]\n",
    "felicidad_mexico.info()"
   ]
  },
  {
   "cell_type": "code",
   "execution_count": 9,
   "metadata": {},
   "outputs": [
    {
     "data": {
      "image/png": "[encoded data removed]",
      "text/plain": [
       "<Figure size 2000x1500 with 9 Axes>"
      ]
     },
     "metadata": {},
     "output_type": "display_data"
    }
   ],
   "source": [
    "# Obtener la lista de atributos (excluyendo 'year')\n",
    "columnas = [col for col in felicidad_mexico.columns if col != 'year']\n",
    "\n",
    "# Crear una cuadrícula de subgráficos 3x3 (para 9 atributos)\n",
    "fig, axes = plt.subplots(3, 3, figsize=(20, 15))  # Ajusta el tamaño según necesites\n",
    "axes = axes.flatten()  # Convertir a array 1D para fácil iteración\n",
    "\n",
    "# Generar un gráfico por cada atributo\n",
    "for i, columna in enumerate(columnas):\n",
    "    sns.lineplot(\n",
    "        x=felicidad_mexico['year'],\n",
    "        y=felicidad_mexico[columna],\n",
    "        ax=axes[i],\n",
    "        marker='o',\n",
    "        color='darkorange'  # Opcional: color consistente\n",
    "    )\n",
    "    axes[i].set_title(columna, fontsize=12)\n",
    "    axes[i].set_xlabel('Año', fontsize=10)\n",
    "    axes[i].set_ylabel('Valor', fontsize=10)\n",
    "    axes[i].grid(True)\n",
    "\n",
    "# Ajustes finales\n",
    "plt.suptitle('Tendencias de indicadores por año', fontsize=16, y=1.02)\n",
    "plt.tight_layout()\n",
    "plt.show()"
   ]
  },
  {
   "cell_type": "code",
   "execution_count": 10,
   "metadata": {},
   "outputs": [
    {
     "name": "stdout",
     "output_type": "stream",
     "text": [
      "<class 'pandas.core.frame.DataFrame'>\n",
      "RangeIndex: 2363 entries, 0 to 2362\n",
      "Data columns (total 11 columns):\n",
      " #   Column                            Non-Null Count  Dtype  \n",
      "---  ------                            --------------  -----  \n",
      " 0   Country name                      2363 non-null   object \n",
      " 1   year                              2363 non-null   int64  \n",
      " 2   Life Ladder                       2363 non-null   float64\n",
      " 3   Log GDP per capita                2335 non-null   float64\n",
      " 4   Social support                    2350 non-null   float64\n",
      " 5   Healthy life expectancy at birth  2300 non-null   float64\n",
      " 6   Freedom to make life choices      2327 non-null   float64\n",
      " 7   Generosity                        2282 non-null   float64\n",
      " 8   Perceptions of corruption         2238 non-null   float64\n",
      " 9   Positive affect                   2339 non-null   float64\n",
      " 10  Negative affect                   2347 non-null   float64\n",
      "dtypes: float64(9), int64(1), object(1)\n",
      "memory usage: 203.2+ KB\n"
     ]
    }
   ],
   "source": [
    "world_happiness_data.info()"
   ]
  },
  {
   "cell_type": "code",
   "execution_count": 11,
   "metadata": {},
   "outputs": [
    {
     "data": {
      "application/vnd.plotly.v1+json": {
       "config": {
        "plotlyServerURL": "https://plot.ly"
       },
       "data": [
        {
         "coloraxis": "coloraxis",
         "geo": "geo",
         "hovertemplate": "<b>%{hovertext}</b><br><br>year=2005<br>Country name=%{location}<br>Life Ladder=%{z}<extra></extra>",
         "hovertext": [
          "Saudi Arabia",
          "Australia",
          "Venezuela",
          "Czechia",
          "Pakistan",
          "Iran",
          "Denmark",
          "Germany",
          "Lebanon",
          "Belgium",
          "Greece",
          "Netherlands",
          "Mexico",
          "Türkiye",
          "Sweden",
          "Canada",
          "Romania",
          "Italy",
          "Brazil",
          "Hungary",
          "France",
          "Spain",
          "Jordan",
          "Japan",
          "Poland",
          "Egypt",
          "United Kingdom"
         ],
         "locationmode": "country names",
         "locations": [
          "Saudi Arabia",
          "Australia",
          "Venezuela",
          "Czechia",
          "Pakistan",
          "Iran",
          "Denmark",
          "Germany",
          "Lebanon",
          "Belgium",
          "Greece",
          "Netherlands",
          "Mexico",
          "Türkiye",
          "Sweden",
          "Canada",
          "Romania",
          "Italy",
          "Brazil",
          "Hungary",
          "France",
          "Spain",
          "Jordan",
          "Japan",
          "Poland",
          "Egypt",
          "United Kingdom"
         ],
         "name": "",
         "type": "choropleth",
         "z": {
          "bdata": "AAAAQI5RHEAAAABg3VwdQAAAACCxrRxAAAAAgMzBGUAAAACgDOYUQAAAAECWOxVAAAAAwLEJIEAAAABAa3oaQAAAAAAJ9xVAAAAA4JUMHUAAAAAgdgYYQAAAAGAd2x1AAAAAAJhSGkAAAADA+98SQAAAAOBYgR1AAAAA4BSsHUAAAADg0DEUQAAAAEBGahtAAAAAwA2MGkAAAACAlsYUQAAAAGCiXxxAAAAA4HOcHEAAAABguy0ZQAAAAGAyEBpAAAAAYE1ZFkAAAADAx6sUQAAAAIAp7xtA",
          "dtype": "f8"
         }
        }
       ],
       "frames": [
        {
         "data": [
          {
           "coloraxis": "coloraxis",
           "geo": "geo",
           "hovertemplate": "<b>%{hovertext}</b><br><br>year=2005<br>Country name=%{location}<br>Life Ladder=%{z}<extra></extra>",
           "hovertext": [
            "Saudi Arabia",
            "Australia",
            "Venezuela",
            "Czechia",
            "Pakistan",
            "Iran",
            "Denmark",
            "Germany",
            "Lebanon",
            "Belgium",
            "Greece",
            "Netherlands",
            "Mexico",
            "Türkiye",
            "Sweden",
            "Canada",
            "Romania",
            "Italy",
            "Brazil",
            "Hungary",
            "France",
            "Spain",
            "Jordan",
            "Japan",
            "Poland",
            "Egypt",
            "United Kingdom"
           ],
           "locationmode": "country names",
           "locations": [
            "Saudi Arabia",
            "Australia",
            "Venezuela",
            "Czechia",
            "Pakistan",
            "Iran",
            "Denmark",
            "Germany",
            "Lebanon",
            "Belgium",
            "Greece",
            "Netherlands",
            "Mexico",
            "Türkiye",
            "Sweden",
            "Canada",
            "Romania",
            "Italy",
            "Brazil",
            "Hungary",
            "France",
            "Spain",
            "Jordan",
            "Japan",
            "Poland",
            "Egypt",
            "United Kingdom"
           ],
           "name": "",
           "type": "choropleth",
           "z": {
            "bdata": "AAAAQI5RHEAAAABg3VwdQAAAACCxrRxAAAAAgMzBGUAAAACgDOYUQAAAAECWOxVAAAAAwLEJIEAAAABAa3oaQAAAAAAJ9xVAAAAA4JUMHUAAAAAgdgYYQAAAAGAd2x1AAAAAAJhSGkAAAADA+98SQAAAAOBYgR1AAAAA4BSsHUAAAADg0DEUQAAAAEBGahtAAAAAwA2MGkAAAACAlsYUQAAAAGCiXxxAAAAA4HOcHEAAAABguy0ZQAAAAGAyEBpAAAAAYE1ZFkAAAADAx6sUQAAAAIAp7xtA",
            "dtype": "f8"
           }
          }
         ],
         "name": "2005"
        },
        {
         "data": [
          {
           "coloraxis": "coloraxis",
           "geo": "geo",
           "hovertemplate": "<b>%{hovertext}</b><br><br>year=2006<br>Country name=%{location}<br>Life Ladder=%{z}<extra></extra>",
           "hovertext": [
            "Austria",
            "Latvia",
            "India",
            "Zimbabwe",
            "Panama",
            "Haiti",
            "Bangladesh",
            "Slovakia",
            "Lebanon",
            "New Zealand",
            "Ghana",
            "Trinidad and Tobago",
            "Philippines",
            "Uruguay",
            "Benin",
            "South Africa",
            "Georgia",
            "Cameroon",
            "Dominican Republic",
            "Chile",
            "Ecuador",
            "Togo",
            "Rwanda",
            "Azerbaijan",
            "Vietnam",
            "Guatemala",
            "Venezuela",
            "Cuba",
            "Argentina",
            "Honduras",
            "Sierra Leone",
            "Moldova",
            "Nepal",
            "Costa Rica",
            "Kuwait",
            "Senegal",
            "Tanzania",
            "Switzerland",
            "Chad",
            "China",
            "El Salvador",
            "Israel",
            "Sri Lanka",
            "Nigeria",
            "Lithuania",
            "Botswana",
            "Jamaica",
            "United Arab Emirates",
            "Niger",
            "Malaysia",
            "Nicaragua",
            "Uganda",
            "Hong Kong S.A.R. of China",
            "Norway",
            "United States",
            "Ireland",
            "Kazakhstan",
            "Portugal",
            "Armenia",
            "Ukraine",
            "Finland",
            "Mozambique",
            "Paraguay",
            "Tajikistan",
            "Zambia",
            "Estonia",
            "Burkina Faso",
            "Malawi",
            "Madagascar",
            "Bolivia",
            "Mali",
            "France",
            "Belarus",
            "Russia",
            "Slovenia",
            "Uzbekistan",
            "Peru",
            "Kyrgyzstan",
            "Thailand",
            "Cyprus",
            "Colombia",
            "Taiwan Province of China",
            "Laos",
            "Singapore",
            "State of Palestine",
            "Cambodia",
            "South Korea",
            "Kenya",
            "Indonesia"
           ],
           "locationmode": "country names",
           "locations": [
            "Austria",
            "Latvia",
            "India",
            "Zimbabwe",
            "Panama",
            "Haiti",
            "Bangladesh",
            "Slovakia",
            "Lebanon",
            "New Zealand",
            "Ghana",
            "Trinidad and Tobago",
            "Philippines",
            "Uruguay",
            "Benin",
            "South Africa",
            "Georgia",
            "Cameroon",
            "Dominican Republic",
            "Chile",
            "Ecuador",
            "Togo",
            "Rwanda",
            "Azerbaijan",
            "Vietnam",
            "Guatemala",
            "Venezuela",
            "Cuba",
            "Argentina",
            "Honduras",
            "Sierra Leone",
            "Moldova",
            "Nepal",
            "Costa Rica",
            "Kuwait",
            "Senegal",
            "Tanzania",
            "Switzerland",
            "Chad",
            "China",
            "El Salvador",
            "Israel",
            "Sri Lanka",
            "Nigeria",
            "Lithuania",
            "Botswana",
            "Jamaica",
            "United Arab Emirates",
            "Niger",
            "Malaysia",
            "Nicaragua",
            "Uganda",
            "Hong Kong S.A.R. of China",
            "Norway",
            "United States",
            "Ireland",
            "Kazakhstan",
            "Portugal",
            "Armenia",
            "Ukraine",
            "Finland",
            "Mozambique",
            "Paraguay",
            "Tajikistan",
            "Zambia",
            "Estonia",
            "Burkina Faso",
            "Malawi",
            "Madagascar",
            "Bolivia",
            "Mali",
            "France",
            "Belarus",
            "Russia",
            "Slovenia",
            "Uzbekistan",
            "Peru",
            "Kyrgyzstan",
            "Thailand",
            "Cyprus",
            "Colombia",
            "Taiwan Province of China",
            "Laos",
            "Singapore",
            "State of Palestine",
            "Cambodia",
            "South Korea",
            "Kenya",
            "Indonesia"
           ],
           "name": "",
           "type": "choropleth",
           "z": {
            "bdata": "AAAAACV9HEAAAADAh9YSQAAAAACeZBVAAAAAoDKcDkAAAABgD4MYQAAAAACDCA5AAAAAIJBGEUAAAABgBw8VQAAAAEDHnBJAAAAAoFU4HUAAAABA3CMSQAAAAEApVBdAAAAAQAauEkAAAACguiQXQAAAAABvowpAAAAAoABWFEAAAABAn2YNQAAAAOD+zg5AAAAAQBRaFEAAAABAXEAYQAAAAKDFGBRAAAAAQJOeCUAAAABA29sQQAAAAABX6RJAAAAAILUsFUAAAABAEJsXQAAAAOC/GRpAAAAAwOWrFUAAAACAb0AZQAAAAEAJlhVAAAAA4IUGDUAAAABghWgUQAAAAGAxRBJAAAAAwHFUHEAAAABAXE0YQAAAAIBeqxFAAAAAYD9hD0AAAABgnOQdQAAAAMB4egtAAAAAgPI9EkAAAACAwM0WQAAAAECUsRxAAAAAoOFgEUAAAACgx9YSQAAAAIBZ0RdAAAAAoBz1EkAAAAAA39QYQAAAAODX7xpAAAAAAEflDUAAAACA/wsYQAAAAMAz1xFAAAAAQGHeDUAAAACgdAsWQAAAAKCoqR1AAAAAICi6HEAAAABgtZMcQAAAAABf5xVAAAAA4PieFUAAAAAgQSgRQAAAAMA/NxNAAAAAgJawHkAAAAAgKGESQAAAAKCa6xJAAAAAQNBzEkAAAADgPUwTQAAAAMD1exVAAAAAAHRpDkAAAADgkaMOQAAAAOCH1g9AAAAAQPZ+FUAAAADgaQ4QQAAAAGCvVBpAAAAAAG+hFkAAAABg39oTQAAAACC8PhdAAAAA4OXtFEAAAABATj4TQAAAAODKkBJAAAAA4K6KF0AAAABgq/MYQAAAAKCKGRhAAAAAYJbBGEAAAAAgDk4UQAAAAMDO2RlAAAAAwJTdEkAAAAAAyowMQAAAAGAmVBVAAAAAgJfkEEAAAACgtMkTQA==",
            "dtype": "f8"
           }
          }
         ],
         "name": "2006"
        },
        {
         "data": [
          {
           "coloraxis": "coloraxis",
           "geo": "geo",
           "hovertemplate": "<b>%{hovertext}</b><br><br>year=2007<br>Country name=%{location}<br>Life Ladder=%{z}<extra></extra>",
           "hovertext": [
            "Azerbaijan",
            "Mexico",
            "Singapore",
            "Namibia",
            "Colombia",
            "Thailand",
            "Kyrgyzstan",
            "Laos",
            "Czechia",
            "Mozambique",
            "Senegal",
            "Guyana",
            "Georgia",
            "Belize",
            "Uruguay",
            "Liberia",
            "Central African Republic",
            "North Macedonia",
            "Chad",
            "Dominican Republic",
            "Mauritania",
            "Greece",
            "Philippines",
            "Ecuador",
            "New Zealand",
            "Belgium",
            "Germany",
            "Ghana",
            "Iran",
            "Kazakhstan",
            "Nepal",
            "Bangladesh",
            "Chile",
            "Denmark",
            "China",
            "Panama",
            "Kenya",
            "Belarus",
            "Pakistan",
            "Latvia",
            "Netherlands",
            "Russia",
            "Guatemala",
            "Indonesia",
            "Serbia",
            "Moldova",
            "Kosovo",
            "Vietnam",
            "Sierra Leone",
            "Tajikistan",
            "Costa Rica",
            "Saudi Arabia",
            "Tanzania",
            "Croatia",
            "Argentina",
            "Albania",
            "Zimbabwe",
            "Mongolia",
            "Australia",
            "India",
            "Peru",
            "El Salvador",
            "South Korea",
            "Cambodia",
            "Poland",
            "Egypt",
            "Bosnia and Herzegovina",
            "Türkiye",
            "South Africa",
            "Sweden",
            "Cameroon",
            "Canada",
            "United States",
            "Bolivia",
            "Israel",
            "Lithuania",
            "Ukraine",
            "Jordan",
            "United Kingdom",
            "Niger",
            "Malaysia",
            "Nigeria",
            "Romania",
            "Nicaragua",
            "Burkina Faso",
            "Sri Lanka",
            "Japan",
            "State of Palestine",
            "Uganda",
            "Brazil",
            "Italy",
            "Malawi",
            "Hungary",
            "Armenia",
            "Bulgaria",
            "Estonia",
            "Spain",
            "Honduras",
            "Yemen",
            "Paraguay",
            "Montenegro",
            "Zambia"
           ],
           "locationmode": "country names",
           "locations": [
            "Azerbaijan",
            "Mexico",
            "Singapore",
            "Namibia",
            "Colombia",
            "Thailand",
            "Kyrgyzstan",
            "Laos",
            "Czechia",
            "Mozambique",
            "Senegal",
            "Guyana",
            "Georgia",
            "Belize",
            "Uruguay",
            "Liberia",
            "Central African Republic",
            "North Macedonia",
            "Chad",
            "Dominican Republic",
            "Mauritania",
            "Greece",
            "Philippines",
            "Ecuador",
            "New Zealand",
            "Belgium",
            "Germany",
            "Ghana",
            "Iran",
            "Kazakhstan",
            "Nepal",
            "Bangladesh",
            "Chile",
            "Denmark",
            "China",
            "Panama",
            "Kenya",
            "Belarus",
            "Pakistan",
            "Latvia",
            "Netherlands",
            "Russia",
            "Guatemala",
            "Indonesia",
            "Serbia",
            "Moldova",
            "Kosovo",
            "Vietnam",
            "Sierra Leone",
            "Tajikistan",
            "Costa Rica",
            "Saudi Arabia",
            "Tanzania",
            "Croatia",
            "Argentina",
            "Albania",
            "Zimbabwe",
            "Mongolia",
            "Australia",
            "India",
            "Peru",
            "El Salvador",
            "South Korea",
            "Cambodia",
            "Poland",
            "Egypt",
            "Bosnia and Herzegovina",
            "Türkiye",
            "South Africa",
            "Sweden",
            "Cameroon",
            "Canada",
            "United States",
            "Bolivia",
            "Israel",
            "Lithuania",
            "Ukraine",
            "Jordan",
            "United Kingdom",
            "Niger",
            "Malaysia",
            "Nigeria",
            "Romania",
            "Nicaragua",
            "Burkina Faso",
            "Sri Lanka",
            "Japan",
            "State of Palestine",
            "Uganda",
            "Brazil",
            "Italy",
            "Malawi",
            "Hungary",
            "Armenia",
            "Bulgaria",
            "Estonia",
            "Spain",
            "Honduras",
            "Yemen",
            "Paraguay",
            "Montenegro",
            "Zambia"
           ],
           "name": "",
           "type": "choropleth",
           "z": {
            "bdata": "AAAAoMtFEkAAAADA/BkaQAAAAMDDVRtAAAAAYNeKE0AAAADAu40YQAAAAGC0IhdAAAAAAILKEkAAAABglnQVQAAAAOAyABpAAAAAQJ5UE0AAAACATrgSQAAAAICn+BdAAAAAoFWoDUAAAADAdc0ZQAAAAMCZxhZAAAAAQHicDUAAAAAA+aMQQAAAAOBx+RFAAAAAALiQEEAAAADgQVMUQAAAAMCemBBAAAAAAH2WGkAAAADgU0sUQAAAAMDG+xNAAAAAYKxqHkAAAACAF+AcQAAAAMDSqhlAAAAAgG7hFEAAAADAcVgVQAAAAIDM3xZAAAAAQD7+EkAAAADg5W0SQAAAACCuyhZAAAAAQEFWH0AAAAAgknMTQAAAAGCZkxtAAAAAQHlNEkAAAACgyHcWQAAAAGCTrxZAAAAAoPqqEkAAAACAuc4dQAAAAGA35BRAAAAAwH1RGUAAAACgpGcUQAAAAKBkABNAAAAAIIQZE0AAAABgZmoUQAAAAODOrxVAAAAAQFeuDEAAAACg97kRQAAAAOCAuh1AAAAAQBgRHUAAAACglEURQAAAAACcSBdAAAAAAOpKGEAAAABAeYkSQAAAAADyPQpAAAAAQK1vEkAAAACAPSQdQAAAAMBvGxRAAAAA4BjbFEAAAADAoC4VQAAAAMCwERdAAAAA4LafEEAAAACgZ4sXQAAAAKB7KRZAAAAAAGeZE0AAAABgb34WQAAAAIBc0RRAAAAAwCf3HEAAAACAVmYRQAAAAKBQ7R1AAAAAAP4MHkAAAABggIMWQAAAAEBNXRtAAAAAAK87F0AAAADgOwIVQAAAACBpZBZAAAAAYC01G0AAAABgDxwRQAAAAGCj9BhAAAAAIMqPE0AAAABgLJMVQAAAAMC/xhNAAAAAoIoREEAAAADAwqgRQAAAACDq8xhAAAAA4K2aEEAAAABgx9IRQAAAAIBeSBlAAAAAwDJMGkAAAADga5ATQAAAAKDP0BNAAAAAAKyGE0AAAAAgGcAOQAAAAGADVBVAAAAAQHz6G0AAAABgfGMUQAAAAICV6BFAAAAAIAAXFUAAAADgBskUQAAAACCB/A9A",
            "dtype": "f8"
           }
          }
         ],
         "name": "2007"
        },
        {
         "data": [
          {
           "coloraxis": "coloraxis",
           "geo": "geo",
           "hovertemplate": "<b>%{hovertext}</b><br><br>year=2008<br>Country name=%{location}<br>Life Ladder=%{z}<extra></extra>",
           "hovertext": [
            "Zambia",
            "Paraguay",
            "Costa Rica",
            "Honduras",
            "Iceland",
            "Armenia",
            "Portugal",
            "Estonia",
            "Finland",
            "Spain",
            "Israel",
            "Italy",
            "Brazil",
            "Ukraine",
            "Jordan",
            "Madagascar",
            "Burkina Faso",
            "Uganda",
            "Nigeria",
            "Sri Lanka",
            "State of Palestine",
            "Cambodia",
            "El Salvador",
            "Nicaragua",
            "Niger",
            "Botswana",
            "Malaysia",
            "United Kingdom",
            "Japan",
            "Mali",
            "France",
            "Burundi",
            "Norway",
            "Lithuania",
            "Georgia",
            "Canada",
            "Ghana",
            "Dominican Republic",
            "New Zealand",
            "Cameroon",
            "Belgium",
            "Mauritania",
            "Trinidad and Tobago",
            "Philippines",
            "Liberia",
            "Germany",
            "Djibouti",
            "Uruguay",
            "Türkiye",
            "South Korea",
            "Russia",
            "Ecuador",
            "Sweden",
            "South Africa",
            "Benin",
            "Bolivia",
            "United States",
            "Ireland",
            "Egypt",
            "Uzbekistan",
            "Kenya",
            "Iraq",
            "Lebanon",
            "Chad",
            "Togo",
            "China",
            "Chile",
            "Denmark",
            "Venezuela",
            "Mexico",
            "Indonesia",
            "Guatemala",
            "Haiti",
            "Taiwan Province of China",
            "Congo (Brazzaville)",
            "Kosovo",
            "Austria",
            "Thailand",
            "Colombia",
            "Tanzania",
            "Afghanistan",
            "Senegal",
            "Moldova",
            "Peru",
            "Saudi Arabia",
            "Sierra Leone",
            "Vietnam",
            "Mozambique",
            "Tajikistan",
            "Hong Kong S.A.R. of China",
            "Argentina",
            "Zimbabwe",
            "India",
            "Australia",
            "Mongolia",
            "Kyrgyzstan",
            "Latvia",
            "Pakistan",
            "Iran",
            "Kazakhstan",
            "Nepal",
            "Panama",
            "Bangladesh",
            "Rwanda",
            "Netherlands",
            "Belarus",
            "Syria",
            "Singapore",
            "Azerbaijan",
            "Laos"
           ],
           "locationmode": "country names",
           "locations": [
            "Zambia",
            "Paraguay",
            "Costa Rica",
            "Honduras",
            "Iceland",
            "Armenia",
            "Portugal",
            "Estonia",
            "Finland",
            "Spain",
            "Israel",
            "Italy",
            "Brazil",
            "Ukraine",
            "Jordan",
            "Madagascar",
            "Burkina Faso",
            "Uganda",
            "Nigeria",
            "Sri Lanka",
            "State of Palestine",
            "Cambodia",
            "El Salvador",
            "Nicaragua",
            "Niger",
            "Botswana",
            "Malaysia",
            "United Kingdom",
            "Japan",
            "Mali",
            "France",
            "Burundi",
            "Norway",
            "Lithuania",
            "Georgia",
            "Canada",
            "Ghana",
            "Dominican Republic",
            "New Zealand",
            "Cameroon",
            "Belgium",
            "Mauritania",
            "Trinidad and Tobago",
            "Philippines",
            "Liberia",
            "Germany",
            "Djibouti",
            "Uruguay",
            "Türkiye",
            "South Korea",
            "Russia",
            "Ecuador",
            "Sweden",
            "South Africa",
            "Benin",
            "Bolivia",
            "United States",
            "Ireland",
            "Egypt",
            "Uzbekistan",
            "Kenya",
            "Iraq",
            "Lebanon",
            "Chad",
            "Togo",
            "China",
            "Chile",
            "Denmark",
            "Venezuela",
            "Mexico",
            "Indonesia",
            "Guatemala",
            "Haiti",
            "Taiwan Province of China",
            "Congo (Brazzaville)",
            "Kosovo",
            "Austria",
            "Thailand",
            "Colombia",
            "Tanzania",
            "Afghanistan",
            "Senegal",
            "Moldova",
            "Peru",
            "Saudi Arabia",
            "Sierra Leone",
            "Vietnam",
            "Mozambique",
            "Tajikistan",
            "Hong Kong S.A.R. of China",
            "Argentina",
            "Zimbabwe",
            "India",
            "Australia",
            "Mongolia",
            "Kyrgyzstan",
            "Latvia",
            "Pakistan",
            "Iran",
            "Kazakhstan",
            "Nepal",
            "Panama",
            "Bangladesh",
            "Rwanda",
            "Netherlands",
            "Belarus",
            "Syria",
            "Singapore",
            "Azerbaijan",
            "Laos"
           ],
           "name": "",
           "type": "choropleth",
           "z": {
            "bdata": "AAAAIMrrEkAAAABAvkcWQAAAAKAYZxtAAAAAQGuuFUAAAABgmo0bQAAAAKCemxJAAAAAgCzeFkAAAADAyM4VQAAAAMC4rh5AAAAAQIotHUAAAAAgiAsdQAAAACB9HhtAAAAA4ATEGkAAAACAhLAUQAAAACBhuBNAAAAA4HCPEkAAAADAgcUOQAAAACBERhJAAAAAABbBE0AAAADAL7kRQAAAAKDbihFAAAAAgEHZEUAAAAAAF8QUQAAAAMBRahRAAAAAIFDxEEAAAACA+c0VQAAAAAAlOhdAAAAAgCPyG0AAAAAgiaQXQAAAAIBqdRBAAAAAIEIIHEAAAACAfYEMQAAAAGB2hx5AAAAAYDg3FkAAAAAg1p8QQAAAACBC8R1AAAAAQEzcE0AAAABghV4TQAAAAKBRhh1AAAAAwM0qEUAAAACgY3ccQAAAAGAH/hBAAAAAoCjJGkAAAADgM1sSQAAAAKCq4hBAAAAAIFAWGkAAAADgjQkUQAAAAIDNpxZAAAAAwBF5FEAAAADA+Y4VQAAAAKCaeRZAAAAAIKEvFUAAAACgYRAeQAAAAECeYhVAAAAAQE1WDUAAAACABTEVQAAAAIAdHx1AAAAAoKlFHkAAAAAg54YSQAAAAGDXPhVAAAAAIKQPEEAAAABAAFwSQAAAAKAgYRJAAAAAwKWHEkAAAADAfHYGQAAAACCbYhNAAAAAoGIoF0AAAACAMeIfQAAAAED1BxlAAAAA4O5QG0AAAACA4EITQAAAAEBxqBlAAAAAQEjFDkAAAACg0zAWQAAAAEDvjg5AAAAAAC4WFkAAAAAATLkcQAAAACC/ixZAAAAAwG+sGEAAAADA+YkRQAAAAIDpyQ1AAAAAYOe7EkAAAACA0gIWQAAAACBVhBRAAAAA4Nc+G0AAAADAXvoHQAAAAKD06xVAAAAA4ESdEkAAAADAhUEUQAAAAGCOjBRAAAAAYBnYF0AAAABg5GQJQAAAAEBVlRRAAAAAANkDHUAAAACg1/gRQAAAACBE8hJAAAAAQN2UFEAAAABg2qcRQAAAAIAVhBRAAAAAoLGLF0AAAABgGcMRQAAAAMA+uRtAAAAAgIg1FEAAAABgs3MRQAAAAAAohh5AAAAAwHPaFUAAAACgF0sVQAAAACBdkRpAAAAAQM1EE0AAAABAKC0UQA==",
            "dtype": "f8"
           }
          }
         ],
         "name": "2008"
        },
        {
         "data": [
          {
           "coloraxis": "coloraxis",
           "geo": "geo",
           "hovertemplate": "<b>%{hovertext}</b><br><br>year=2009<br>Country name=%{location}<br>Life Ladder=%{z}<extra></extra>",
           "hovertext": [
            "Niger",
            "Japan",
            "Burundi",
            "Cambodia",
            "El Salvador",
            "State of Palestine",
            "Romania",
            "Luxembourg",
            "Nigeria",
            "Sri Lanka",
            "Uganda",
            "Ukraine",
            "United Arab Emirates",
            "Italy",
            "Israel",
            "Costa Rica",
            "Yemen",
            "Zambia",
            "Tunisia",
            "Philippines",
            "Mauritania",
            "Greece",
            "North Macedonia",
            "Turkmenistan",
            "Sweden",
            "Germany",
            "Switzerland",
            "Somaliland region",
            "Canada",
            "Cameroon",
            "Malta",
            "Uruguay",
            "Ghana",
            "Djibouti",
            "Georgia",
            "Jordan",
            "Egypt",
            "Ireland",
            "South Korea",
            "France",
            "United States",
            "Mali",
            "Bolivia",
            "Malaysia",
            "Russia",
            "Lithuania",
            "Türkiye",
            "South Africa",
            "Sudan",
            "Ecuador",
            "Bosnia and Herzegovina",
            "Poland",
            "Ivory Coast",
            "Spain",
            "Argentina",
            "Brazil",
            "Malawi",
            "Qatar",
            "Albania",
            "Paraguay",
            "Montenegro",
            "Honduras",
            "Serbia",
            "Hungary",
            "Senegal",
            "Armenia",
            "Nicaragua",
            "United Kingdom",
            "Estonia",
            "Nepal",
            "Pakistan",
            "Latvia",
            "Bangladesh",
            "Bahrain",
            "Iraq",
            "Slovenia",
            "Dominican Republic",
            "Lebanon",
            "Chad",
            "Belarus",
            "Kazakhstan",
            "Rwanda",
            "Colombia",
            "Comoros",
            "Panama",
            "Kosovo",
            "Azerbaijan",
            "Singapore",
            "Venezuela",
            "Cyprus",
            "Guatemala",
            "Syria",
            "Denmark",
            "Chile",
            "Saudi Arabia",
            "Indonesia",
            "Mexico",
            "China",
            "Kenya",
            "Uzbekistan",
            "Congo (Kinshasa)",
            "Croatia",
            "Peru",
            "Thailand",
            "Vietnam",
            "Moldova",
            "Tajikistan",
            "Kuwait",
            "Tanzania",
            "Kyrgyzstan",
            "India",
            "Hong Kong S.A.R. of China",
            "Afghanistan",
            "Zimbabwe"
           ],
           "locationmode": "country names",
           "locations": [
            "Niger",
            "Japan",
            "Burundi",
            "Cambodia",
            "El Salvador",
            "State of Palestine",
            "Romania",
            "Luxembourg",
            "Nigeria",
            "Sri Lanka",
            "Uganda",
            "Ukraine",
            "United Arab Emirates",
            "Italy",
            "Israel",
            "Costa Rica",
            "Yemen",
            "Zambia",
            "Tunisia",
            "Philippines",
            "Mauritania",
            "Greece",
            "North Macedonia",
            "Turkmenistan",
            "Sweden",
            "Germany",
            "Switzerland",
            "Somaliland region",
            "Canada",
            "Cameroon",
            "Malta",
            "Uruguay",
            "Ghana",
            "Djibouti",
            "Georgia",
            "Jordan",
            "Egypt",
            "Ireland",
            "South Korea",
            "France",
            "United States",
            "Mali",
            "Bolivia",
            "Malaysia",
            "Russia",
            "Lithuania",
            "Türkiye",
            "South Africa",
            "Sudan",
            "Ecuador",
            "Bosnia and Herzegovina",
            "Poland",
            "Ivory Coast",
            "Spain",
            "Argentina",
            "Brazil",
            "Malawi",
            "Qatar",
            "Albania",
            "Paraguay",
            "Montenegro",
            "Honduras",
            "Serbia",
            "Hungary",
            "Senegal",
            "Armenia",
            "Nicaragua",
            "United Kingdom",
            "Estonia",
            "Nepal",
            "Pakistan",
            "Latvia",
            "Bangladesh",
            "Bahrain",
            "Iraq",
            "Slovenia",
            "Dominican Republic",
            "Lebanon",
            "Chad",
            "Belarus",
            "Kazakhstan",
            "Rwanda",
            "Colombia",
            "Comoros",
            "Panama",
            "Kosovo",
            "Azerbaijan",
            "Singapore",
            "Venezuela",
            "Cyprus",
            "Guatemala",
            "Syria",
            "Denmark",
            "Chile",
            "Saudi Arabia",
            "Indonesia",
            "Mexico",
            "China",
            "Kenya",
            "Uzbekistan",
            "Congo (Kinshasa)",
            "Croatia",
            "Peru",
            "Thailand",
            "Vietnam",
            "Moldova",
            "Tajikistan",
            "Kuwait",
            "Tanzania",
            "Kyrgyzstan",
            "India",
            "Hong Kong S.A.R. of China",
            "Afghanistan",
            "Zimbabwe"
           ],
           "name": "",
           "type": "choropleth",
           "z": {
            "bdata": "AAAAAJUREUAAAACAR2EXQAAAAMBcVQ5AAAAA4EdxEEAAAACgOVsbQAAAAOB54RFAAAAAAGN4FUAAAAAA6dQbQAAAAOC+6xNAAAAAgB3ZEEAAAABgrHISQAAAAGCdqRRAAAAAINl2G0AAAADAz1UZQAAAAGBzaR1AAAAA4K91HkAAAABgrjwTQAAAAACcChVAAAAA4BQaFEAAAABgB4UTQAAAACBxABJAAAAAIIAnGEAAAABgS7YRQAAAAKBWRRpAAAAAYFwQHUAAAACg45AaQAAAAAAcGR5AAAAAgDH3E0AAAABAiPMdQAAAAMAz9xJAAAAAwIBPGUAAAAAAVS8ZQAAAAMBwyhBAAAAA4KqfE0AAAACAtWcOQAAAACDb/xdAAAAAoMBDFEAAAABgAy8cQAAAAAA8lxZAAAAAYE0iGUAAAABA06EcQAAAAOAS0A9AAAAAIKJXGEAAAABA74kVQAAAAIAGohRAAAAAgCDeFUAAAAAg89kUQAAAAGCs3xRAAAAA4NXREUAAAACgUxYYQAAAAMCZ2hNAAAAAYI4WF0AAAAAA6skQQAAAACBeyxhAAAAAAFCyGUAAAAAA2gAcQAAAACDMlxRAAAAAINqrGUAAAAAAH/EVQAAAAID5TRZAAAAAIEk0E0AAAABg/CEYQAAAAIBwhRFAAAAAIBKUE0AAAAAgKFcRQAAAAADYtRBAAAAAoEVpFUAAAADgTaAbQAAAAGALjRRAAAAAgN+qE0AAAABgJNUUQAAAAOD2rBJAAAAAANdUFEAAAAAAVs0WQAAAAKDsGRNAAAAAoBVSF0AAAAAA+bkVQAAAAGDx0hRAAAAAYJUdDUAAAACgq0EWQAAAAKC+hxVAAAAA4HkeEEAAAACAHxYZQAAAAGDnzgtAAAAAwIwiHEAAAADA05AXQAAAAKB+SxJAAAAAICaUGEAAAACgVcEcQAAAACB7VRtAAAAAIMPOGUAAAABAd+oTQAAAAGDCux5AAAAA4Ij5GUAAAADgIZcYQAAAAKCy4xVAAAAAQO3ZG0AAAAAARNERQAAAAODsFBFAAAAAYPoKFUAAAAAA7N4PQAAAACC4uxVAAAAAoEwTFkAAAACAD+cVQAAAACCRNxVAAAAA4K03FkAAAACg+kwSQAAAAMBKVxpAAAAAgJNCC0AAAAAAtkYUQAAAAMAIFhJAAAAAwJWWFUAAAADAa5sRQAAAAKBBORBA",
            "dtype": "f8"
           }
          }
         ],
         "name": "2009"
        },
        {
         "data": [
          {
           "coloraxis": "coloraxis",
           "geo": "geo",
           "hovertemplate": "<b>%{hovertext}</b><br><br>year=2010<br>Country name=%{location}<br>Life Ladder=%{z}<extra></extra>",
           "hovertext": [
            "Afghanistan",
            "Montenegro",
            "Albania",
            "Argentina",
            "Costa Rica",
            "Croatia",
            "Tajikistan",
            "Kuwait",
            "Tanzania",
            "India",
            "Australia",
            "Morocco",
            "Mongolia",
            "Hong Kong S.A.R. of China",
            "Venezuela",
            "Austria",
            "Vietnam",
            "Moldova",
            "Sierra Leone",
            "Azerbaijan",
            "Mexico",
            "Haiti",
            "Singapore",
            "Kyrgyzstan",
            "Taiwan Province of China",
            "Kosovo",
            "Kenya",
            "Bahrain",
            "Nepal",
            "Guatemala",
            "Indonesia",
            "Saudi Arabia",
            "Mauritania",
            "Netherlands",
            "Uzbekistan",
            "Bangladesh",
            "Slovakia",
            "Greece",
            "Comoros",
            "Colombia",
            "Thailand",
            "Peru",
            "Czechia",
            "Cyprus",
            "Belgium",
            "Belarus",
            "Slovenia",
            "Iraq",
            "Georgia",
            "Uruguay",
            "Malta",
            "New Zealand",
            "Ghana",
            "Germany",
            "Panama",
            "China",
            "Chile",
            "Denmark",
            "Syria",
            "Russia",
            "Malaysia",
            "Bolivia",
            "South Africa",
            "Somaliland region",
            "France",
            "Bosnia and Herzegovina",
            "United States",
            "Mali",
            "South Korea",
            "Ireland",
            "Pakistan",
            "Kazakhstan",
            "United Arab Emirates",
            "Botswana",
            "United Kingdom",
            "Nicaragua",
            "Romania",
            "Spain",
            "Italy",
            "Israel",
            "Qatar",
            "Bulgaria",
            "Brazil",
            "Finland",
            "Philippines",
            "Tunisia",
            "Chad",
            "Lebanon",
            "Dominican Republic",
            "Djibouti",
            "Japan",
            "Ukraine",
            "Niger",
            "Portugal",
            "Cambodia",
            "Uganda",
            "Burkina Faso",
            "Luxembourg",
            "Nigeria",
            "Sri Lanka",
            "Central African Republic",
            "Liberia",
            "Sweden",
            "Sudan",
            "Türkiye",
            "Lithuania",
            "El Salvador",
            "State of Palestine",
            "North Macedonia",
            "Ecuador",
            "Canada",
            "Cameroon",
            "Egypt",
            "Jordan",
            "Poland",
            "Algeria",
            "Yemen",
            "Zimbabwe",
            "Paraguay",
            "Honduras",
            "Hungary",
            "Serbia",
            "Senegal",
            "Armenia"
           ],
           "locationmode": "country names",
           "locations": [
            "Afghanistan",
            "Montenegro",
            "Albania",
            "Argentina",
            "Costa Rica",
            "Croatia",
            "Tajikistan",
            "Kuwait",
            "Tanzania",
            "India",
            "Australia",
            "Morocco",
            "Mongolia",
            "Hong Kong S.A.R. of China",
            "Venezuela",
            "Austria",
            "Vietnam",
            "Moldova",
            "Sierra Leone",
            "Azerbaijan",
            "Mexico",
            "Haiti",
            "Singapore",
            "Kyrgyzstan",
            "Taiwan Province of China",
            "Kosovo",
            "Kenya",
            "Bahrain",
            "Nepal",
            "Guatemala",
            "Indonesia",
            "Saudi Arabia",
            "Mauritania",
            "Netherlands",
            "Uzbekistan",
            "Bangladesh",
            "Slovakia",
            "Greece",
            "Comoros",
            "Colombia",
            "Thailand",
            "Peru",
            "Czechia",
            "Cyprus",
            "Belgium",
            "Belarus",
            "Slovenia",
            "Iraq",
            "Georgia",
            "Uruguay",
            "Malta",
            "New Zealand",
            "Ghana",
            "Germany",
            "Panama",
            "China",
            "Chile",
            "Denmark",
            "Syria",
            "Russia",
            "Malaysia",
            "Bolivia",
            "South Africa",
            "Somaliland region",
            "France",
            "Bosnia and Herzegovina",
            "United States",
            "Mali",
            "South Korea",
            "Ireland",
            "Pakistan",
            "Kazakhstan",
            "United Arab Emirates",
            "Botswana",
            "United Kingdom",
            "Nicaragua",
            "Romania",
            "Spain",
            "Italy",
            "Israel",
            "Qatar",
            "Bulgaria",
            "Brazil",
            "Finland",
            "Philippines",
            "Tunisia",
            "Chad",
            "Lebanon",
            "Dominican Republic",
            "Djibouti",
            "Japan",
            "Ukraine",
            "Niger",
            "Portugal",
            "Cambodia",
            "Uganda",
            "Burkina Faso",
            "Luxembourg",
            "Nigeria",
            "Sri Lanka",
            "Central African Republic",
            "Liberia",
            "Sweden",
            "Sudan",
            "Türkiye",
            "Lithuania",
            "El Salvador",
            "State of Palestine",
            "North Macedonia",
            "Ecuador",
            "Canada",
            "Cameroon",
            "Egypt",
            "Jordan",
            "Poland",
            "Algeria",
            "Yemen",
            "Zimbabwe",
            "Paraguay",
            "Honduras",
            "Hungary",
            "Serbia",
            "Senegal",
            "Armenia"
           ],
           "name": "",
           "type": "choropleth",
           "z": {
            "bdata": "AAAAAJUIE0AAAACA89EVQAAAACBkExVAAAAAIKfDGUAAAAAgjxUdQAAAAIDeYRZAAAAAgMWFEUAAAACATjEbQAAAAKBB1QlAAAAAIAX1E0AAAAAg2cwdQAAAAAByiBFAAAAAgJNXEkAAAABAQ5IWQAAAAADw6R1AAAAAYPE1HUAAAAAg4S4VQAAAAODjWxZAAAAAwCuJEEAAAACA298QQAAAAGClNRtAAAAAAMQgDkAAAADAJyAaQAAAACBT/BNAAAAAAATqGEAAAAAA17QUQAAAAAAABhFAAAAAoFq/F0AAAABAEWYRQAAAAOCzKBlAAAAAQEbUFUAAAAAAeDoZQAAAAKDXFhNAAAAAwOsBHkAAAABgoWEUQAAAAMAVbxNAAAAAAHo1GEAAAABAtVsXQAAAAABefw5AAAAAgOihGUAAAABg590YQAAAAAB+cxZAAAAAwJv/GEAAAADA0osZQAAAAKD/aRtAAAAAoIsaFkAAAABgiVQYQAAAAIAIQxRAAAAAAEhoEEAAAADAfz8YQAAAAKByGBdAAAAAYCDlHEAAAABAzWwSQAAAAIDr5RpAAAAAwC5JHUAAAAAAZ5wSQAAAAGDpihpAAAAAAAIVH0AAAABg3NsRQAAAAAACihVAAAAAYDVSFkAAAADgWh8XQAAAAEAWnBJAAAAA4COhEkAAAAAADTEbQAAAAOCPrBJAAAAAAIunHEAAAABgMxkOQAAAACDPdhhAAAAAIJEHHUAAAAAAACUXQAAAACChDhZAAAAAYMtjHEAAAADglWwMQAAAAKARHhxAAAAAIC6/FkAAAABg/KITQAAAAODHwBhAAAAAYL1qGUAAAADAh28dQAAAAGALZhtAAAAAgFdMD0AAAABgbVkbQAAAAOCzkh1AAAAAQBzEE0AAAABAp4UUQAAAAGBm8Q1AAAAAQKogFEAAAABgqfASQAAAAEDzBRRAAAAAYB06GEAAAABg8ToUQAAAAMBwZxBAAAAAYMtgFEAAAABAdZAQQAAAAOCCxRBAAAAAAGokEEAAAAAAlmMcQAAAAMCFChNAAAAAoLPQD0AAAABAC4sMQAAAAMDEyBBAAAAAYOz7HUAAAACAmr0RQAAAAKAd9hVAAAAAoGdDFEAAAABAq/UaQAAAAGB3zxJAAAAA4Ia4EEAAAAAgKloXQAAAAGD0mR5AAAAAII83EkAAAABg+KwSQAAAAACfRxZAAAAAgFGMF0AAAABAsdoVQAAAAGC4ZhFAAAAAYO25EkAAAADAXF0XQAAAACDrdhdAAAAAIInmEkAAAAAgYNgRQAAAAIAWfRFAAAAAgKN4EUA=",
            "dtype": "f8"
           }
          }
         ],
         "name": "2010"
        },
        {
         "data": [
          {
           "coloraxis": "coloraxis",
           "geo": "geo",
           "hovertemplate": "<b>%{hovertext}</b><br><br>year=2011<br>Country name=%{location}<br>Life Ladder=%{z}<extra></extra>",
           "hovertext": [
            "Argentina",
            "Albania",
            "Senegal",
            "Zimbabwe",
            "Montenegro",
            "Serbia",
            "Costa Rica",
            "Türkiye",
            "Poland",
            "Jordan",
            "Egypt",
            "Cameroon",
            "Canada",
            "Cambodia",
            "State of Palestine",
            "El Salvador",
            "Sierra Leone",
            "Mozambique",
            "Vietnam",
            "Austria",
            "Venezuela",
            "Hong Kong S.A.R. of China",
            "Moldova",
            "Mongolia",
            "North Macedonia",
            "Lithuania",
            "Ecuador",
            "Sudan",
            "Sweden",
            "Lesotho",
            "Turkmenistan",
            "Central African Republic",
            "Kyrgyzstan",
            "Singapore",
            "Guatemala",
            "Guinea",
            "Haiti",
            "Mexico",
            "Azerbaijan",
            "Uzbekistan",
            "Sri Lanka",
            "Burkina Faso",
            "Uganda",
            "Burundi",
            "Portugal",
            "Jamaica",
            "Estonia",
            "Eswatini",
            "Saudi Arabia",
            "Indonesia",
            "Mauritius",
            "Nepal",
            "Bahrain",
            "Congo (Brazzaville)",
            "Croatia",
            "Kenya",
            "Kosovo",
            "Taiwan Province of China",
            "Luxembourg",
            "Niger",
            "Ukraine",
            "Japan",
            "Djibouti",
            "Dominican Republic",
            "Lebanon",
            "Trinidad and Tobago",
            "Tunisia",
            "Denmark",
            "Comoros",
            "Rwanda",
            "Iran",
            "Greece",
            "Slovakia",
            "Bangladesh",
            "Mauritania",
            "Finland",
            "Malawi",
            "Brazil",
            "Bulgaria",
            "Qatar",
            "Slovenia",
            "Netherlands",
            "Belarus",
            "Belgium",
            "South Africa",
            "Cyprus",
            "Czechia",
            "Thailand",
            "Colombia",
            "Madagascar",
            "Israel",
            "Italy",
            "South Korea",
            "Spain",
            "Gabon",
            "Romania",
            "Nicaragua",
            "Laos",
            "Germany",
            "Ghana",
            "New Zealand",
            "Malta",
            "Uruguay",
            "Iraq",
            "United Kingdom",
            "Botswana",
            "United Arab Emirates",
            "Philippines",
            "Kazakhstan",
            "Chad",
            "Oman",
            "Pakistan",
            "Latvia",
            "Benin",
            "Bolivia",
            "Malaysia",
            "Russia",
            "Syria",
            "Chile",
            "Togo",
            "China",
            "Panama",
            "Peru",
            "Ireland",
            "Mali",
            "United States",
            "Bosnia and Herzegovina",
            "France",
            "Georgia",
            "Somaliland region",
            "Hungary",
            "Honduras",
            "Afghanistan",
            "Yemen",
            "Angola",
            "Morocco",
            "Algeria",
            "Zambia",
            "Armenia",
            "Australia",
            "India",
            "Tanzania",
            "Paraguay",
            "Kuwait",
            "Tajikistan",
            "Congo (Kinshasa)"
           ],
           "locationmode": "country names",
           "locations": [
            "Argentina",
            "Albania",
            "Senegal",
            "Zimbabwe",
            "Montenegro",
            "Serbia",
            "Costa Rica",
            "Türkiye",
            "Poland",
            "Jordan",
            "Egypt",
            "Cameroon",
            "Canada",
            "Cambodia",
            "State of Palestine",
            "El Salvador",
            "Sierra Leone",
            "Mozambique",
            "Vietnam",
            "Austria",
            "Venezuela",
            "Hong Kong S.A.R. of China",
            "Moldova",
            "Mongolia",
            "North Macedonia",
            "Lithuania",
            "Ecuador",
            "Sudan",
            "Sweden",
            "Lesotho",
            "Turkmenistan",
            "Central African Republic",
            "Kyrgyzstan",
            "Singapore",
            "Guatemala",
            "Guinea",
            "Haiti",
            "Mexico",
            "Azerbaijan",
            "Uzbekistan",
            "Sri Lanka",
            "Burkina Faso",
            "Uganda",
            "Burundi",
            "Portugal",
            "Jamaica",
            "Estonia",
            "Eswatini",
            "Saudi Arabia",
            "Indonesia",
            "Mauritius",
            "Nepal",
            "Bahrain",
            "Congo (Brazzaville)",
            "Croatia",
            "Kenya",
            "Kosovo",
            "Taiwan Province of China",
            "Luxembourg",
            "Niger",
            "Ukraine",
            "Japan",
            "Djibouti",
            "Dominican Republic",
            "Lebanon",
            "Trinidad and Tobago",
            "Tunisia",
            "Denmark",
            "Comoros",
            "Rwanda",
            "Iran",
            "Greece",
            "Slovakia",
            "Bangladesh",
            "Mauritania",
            "Finland",
            "Malawi",
            "Brazil",
            "Bulgaria",
            "Qatar",
            "Slovenia",
            "Netherlands",
            "Belarus",
            "Belgium",
            "South Africa",
            "Cyprus",
            "Czechia",
            "Thailand",
            "Colombia",
            "Madagascar",
            "Israel",
            "Italy",
            "South Korea",
            "Spain",
            "Gabon",
            "Romania",
            "Nicaragua",
            "Laos",
            "Germany",
            "Ghana",
            "New Zealand",
            "Malta",
            "Uruguay",
            "Iraq",
            "United Kingdom",
            "Botswana",
            "United Arab Emirates",
            "Philippines",
            "Kazakhstan",
            "Chad",
            "Oman",
            "Pakistan",
            "Latvia",
            "Benin",
            "Bolivia",
            "Malaysia",
            "Russia",
            "Syria",
            "Chile",
            "Togo",
            "China",
            "Panama",
            "Peru",
            "Ireland",
            "Mali",
            "United States",
            "Bosnia and Herzegovina",
            "France",
            "Georgia",
            "Somaliland region",
            "Hungary",
            "Honduras",
            "Afghanistan",
            "Yemen",
            "Angola",
            "Morocco",
            "Algeria",
            "Zambia",
            "Armenia",
            "Australia",
            "India",
            "Tanzania",
            "Paraguay",
            "Kuwait",
            "Tajikistan",
            "Congo (Kinshasa)"
           ],
           "name": "",
           "type": "choropleth",
           "z": {
            "bdata": "AAAAwGwaG0AAAABgPXgXQAAAAOBxrA5AAAAA4O9hE0AAAADAeOQUQAAAAEDAQhNAAAAAwGHqHEAAAACAeBYVQAAAAMC2lRZAAAAAgEUoFkAAAACgVrIQQAAAAGBMvBFAAAAAYEe0HUAAAABAGKUQQAAAAMA/ARNAAAAAABb3EkAAAADgrgESQAAAACBr4hNAAAAAwMIRF0AAAAAgzuEdQAAAAEC0URpAAAAAIGPlFUAAAADgRisXQAAAAADsHxRAAAAAgLyXE0AAAADg0LoVQAAAAKArLhdAAAAA4ABCEUAAAADgZ4cdQAAAACAOlxNAAAAAwMEqF0AAAABAMGwNQAAAAIAnrxNAAAAAwIE+GkAAAADAMfkWQAAAAKCjLRBAAAAAANhgE0AAAAAAWKMbQAAAAADNuBJAAAAAYHn0FkAAAAAg57gQQAAAAGA3JBNAAAAAQNNNE0AAAADgq6UNQAAAACBH4RRAAAAA4G5/FUAAAADggPIVQAAAAMDmdxNAAAAAoJXMGkAAAABAwLAUQAAAAOCF6BVAAAAAIL55DkAAAABgwEsTQAAAAGAPChJAAAAAIJ+KFUAAAACgCZ8RQAAAAEAhcBNAAAAAQFQ8GUAAAACA1WccQAAAAGArORJAAAAAwCBVFEAAAADAGQ0ZQAAAAOANehFAAAAAYA2WFUAAAADAEsAUQAAAACAyExpAAAAAgISBE0AAAABAJicfQAAAACA4tQ5AAAAAQMZjEEAAAABg7RETQAAAAAD4fBVAAAAAwLrHF0AAAAAATvETQAAAAMCjIxNAAAAAALpqHUAAAABAiZEPQAAAAGC5JhxAAAAAgMgAD0AAAACAzV0aQAAAAMDTJBhAAAAAQFRBHkAAAAAgt+YUQAAAAGAJchxAAAAAANi4E0AAAADAKMIaQAAAAGByUxlAAAAAIImnGkAAAABgFtsZQAAAAMCRhhFAAAAAIIu7HUAAAADgdDoYQAAAAEBRyRtAAAAA4K8SGkAAAADAhwURQAAAAMBNFxRAAAAAYPaKFUAAAADAo9ASQAAAAEA5fBpAAAAA4MtuFkAAAACgNsMcQAAAAIBunhhAAAAAIFg3GkAAAABgxuYSQAAAAGAcehtAAAAAYMwoDEAAAADgjHkcQAAAAMDP+RNAAAAAoFHxFkAAAAAA7ZIRQAAAACB0aRtAAAAAQJkRFUAAAADgA94TQAAAACBV9g5AAAAAQJEdF0AAAACAPSUXQAAAAMAYjhVAAAAAgMwmEEAAAACA9xoaQAAAAGBhfQdAAAAAwBkmFEAAAADgCP4cQAAAAGDgkRdAAAAA4BEHHEAAAABA1qoSQAAAAODmdRxAAAAAAIv6E0AAAACgNNYbQAAAAEDnzxBAAAAAwOe4E0AAAAAAoKsTQAAAAKAY2BNAAAAAYFynDkAAAADgVPgNQAAAAAAjWxZAAAAAIANXFEAAAACgzkQVQAAAAKAX/xNAAAAAQL4KEUAAAADgWZ8dQAAAAMAbihJAAAAA4FNLEEAAAACgVLUWQAAAAKDDghlAAAAAwPkMEUAAAAAAXxESQA==",
            "dtype": "f8"
           }
          }
         ],
         "name": "2011"
        },
        {
         "data": [
          {
           "coloraxis": "coloraxis",
           "geo": "geo",
           "hovertemplate": "<b>%{hovertext}</b><br><br>year=2012<br>Country name=%{location}<br>Life Ladder=%{z}<extra></extra>",
           "hovertext": [
            "Congo (Kinshasa)",
            "Tajikistan",
            "Kuwait",
            "Paraguay",
            "Tanzania",
            "Australia",
            "Armenia",
            "Mongolia",
            "Algeria",
            "Morocco",
            "Angola",
            "Yemen",
            "Afghanistan",
            "Costa Rica",
            "Honduras",
            "Hungary",
            "Georgia",
            "France",
            "Bolivia",
            "United States",
            "Mali",
            "Ireland",
            "Peru",
            "Chad",
            "China",
            "Chile",
            "Syria",
            "Russia",
            "Malaysia",
            "Benin",
            "Somaliland region",
            "Pakistan",
            "Tunisia",
            "Sweden",
            "Kazakhstan",
            "Philippines",
            "Bosnia and Herzegovina",
            "United Kingdom",
            "Iraq",
            "Iran",
            "Malta",
            "New Zealand",
            "Ghana",
            "Germany",
            "South Africa",
            "Laos",
            "Panama",
            "Nicaragua",
            "Romania",
            "Gabon",
            "Ethiopia",
            "South Korea",
            "Italy",
            "Israel",
            "Madagascar",
            "Thailand",
            "Czechia",
            "Cyprus",
            "Belgium",
            "Belarus",
            "Netherlands",
            "Slovenia",
            "Botswana",
            "United Arab Emirates",
            "Poland",
            "Qatar",
            "Bulgaria",
            "Brazil",
            "Malawi",
            "Portugal",
            "Finland",
            "Spain",
            "Denmark",
            "Uzbekistan",
            "Uruguay",
            "Bangladesh",
            "Slovakia",
            "Greece",
            "Rwanda",
            "Bahrain",
            "Comoros",
            "Colombia",
            "Lebanon",
            "Dominican Republic",
            "Switzerland",
            "Ukraine",
            "Niger",
            "Luxembourg",
            "Kosovo",
            "Kenya",
            "Croatia",
            "Mauritania",
            "Indonesia",
            "Saudi Arabia",
            "Estonia",
            "Burkina Faso",
            "Uganda",
            "Lithuania",
            "Nigeria",
            "Sri Lanka",
            "Japan",
            "Latvia",
            "Azerbaijan",
            "Mexico",
            "Haiti",
            "Guinea",
            "Guatemala",
            "Kyrgyzstan",
            "Congo (Brazzaville)",
            "Taiwan Province of China",
            "Turkmenistan",
            "Norway",
            "Ecuador",
            "Suriname",
            "Sudan",
            "Libya",
            "North Macedonia",
            "El Salvador",
            "Moldova",
            "Hong Kong S.A.R. of China",
            "Nepal",
            "Venezuela",
            "Austria",
            "Vietnam",
            "Myanmar",
            "India",
            "State of Palestine",
            "Egypt",
            "Cambodia",
            "Canada",
            "Cameroon",
            "Jordan",
            "Türkiye",
            "Montenegro",
            "Serbia",
            "Zambia",
            "Iceland",
            "Zimbabwe",
            "Senegal",
            "Albania",
            "Argentina"
           ],
           "locationmode": "country names",
           "locations": [
            "Congo (Kinshasa)",
            "Tajikistan",
            "Kuwait",
            "Paraguay",
            "Tanzania",
            "Australia",
            "Armenia",
            "Mongolia",
            "Algeria",
            "Morocco",
            "Angola",
            "Yemen",
            "Afghanistan",
            "Costa Rica",
            "Honduras",
            "Hungary",
            "Georgia",
            "France",
            "Bolivia",
            "United States",
            "Mali",
            "Ireland",
            "Peru",
            "Chad",
            "China",
            "Chile",
            "Syria",
            "Russia",
            "Malaysia",
            "Benin",
            "Somaliland region",
            "Pakistan",
            "Tunisia",
            "Sweden",
            "Kazakhstan",
            "Philippines",
            "Bosnia and Herzegovina",
            "United Kingdom",
            "Iraq",
            "Iran",
            "Malta",
            "New Zealand",
            "Ghana",
            "Germany",
            "South Africa",
            "Laos",
            "Panama",
            "Nicaragua",
            "Romania",
            "Gabon",
            "Ethiopia",
            "South Korea",
            "Italy",
            "Israel",
            "Madagascar",
            "Thailand",
            "Czechia",
            "Cyprus",
            "Belgium",
            "Belarus",
            "Netherlands",
            "Slovenia",
            "Botswana",
            "United Arab Emirates",
            "Poland",
            "Qatar",
            "Bulgaria",
            "Brazil",
            "Malawi",
            "Portugal",
            "Finland",
            "Spain",
            "Denmark",
            "Uzbekistan",
            "Uruguay",
            "Bangladesh",
            "Slovakia",
            "Greece",
            "Rwanda",
            "Bahrain",
            "Comoros",
            "Colombia",
            "Lebanon",
            "Dominican Republic",
            "Switzerland",
            "Ukraine",
            "Niger",
            "Luxembourg",
            "Kosovo",
            "Kenya",
            "Croatia",
            "Mauritania",
            "Indonesia",
            "Saudi Arabia",
            "Estonia",
            "Burkina Faso",
            "Uganda",
            "Lithuania",
            "Nigeria",
            "Sri Lanka",
            "Japan",
            "Latvia",
            "Azerbaijan",
            "Mexico",
            "Haiti",
            "Guinea",
            "Guatemala",
            "Kyrgyzstan",
            "Congo (Brazzaville)",
            "Taiwan Province of China",
            "Turkmenistan",
            "Norway",
            "Ecuador",
            "Suriname",
            "Sudan",
            "Libya",
            "North Macedonia",
            "El Salvador",
            "Moldova",
            "Hong Kong S.A.R. of China",
            "Nepal",
            "Venezuela",
            "Austria",
            "Vietnam",
            "Myanmar",
            "India",
            "State of Palestine",
            "Egypt",
            "Cambodia",
            "Canada",
            "Cameroon",
            "Jordan",
            "Türkiye",
            "Montenegro",
            "Serbia",
            "Zambia",
            "Iceland",
            "Zimbabwe",
            "Senegal",
            "Albania",
            "Argentina"
           ],
           "name": "",
           "type": "choropleth",
           "z": {
            "bdata": "AAAAoJGOEkAAAABAffwRQAAAAKBm4hhAAAAAYL1HF0AAAAAgEAcQQAAAAKBHyBxAAAAAgGJHEUAAAADgZIoTQAAAACAbaxZAAAAAoO3gE0AAAABg5XARQAAAACAOPhBAAAAAwHRDDkAAAADAyBYdQAAAAOCraBJAAAAAQMK7EkAAAABgjQQRQAAAAEDzmBpAAAAAIFkTGEAAAABA2xocQAAAAICHQBFAAAAAAMzbG0AAAADAWEwXQAAAACDEIRBAAAAAADJhFEAAAAAAgmUaQAAAAMDgUAlAAAAAIKJ7FkAAAAAAOqgXQAAAAGA5jAlAAAAAoLA6FEAAAAAAuYYUQAAAAOCn2hFAAAAAYJc9HkAAAABgsgkXQAAAACADAhRAAAAAQLMXE0AAAABA7IUbQAAAAEBWoxJAAAAAwIpvEkAAAAAg+9kXQAAAAACf/xxAAAAA4KI6FEAAAAAAOM8aQAAAAOAZiRRAAAAAYByBE0AAAADAeHAbQAAAACDCyhVAAAAAQOGqFEAAAAAAx8YPQAAAAACjPhJAAAAAoF0DGEAAAAAgdVsXQAAAAOCDcRxAAAAAAKZnDEAAAADgcDMZQAAAAEArVhlAAAAA4Na4GEAAAACgkL0bQAAAAEAF/xZAAAAAQAPiHUAAAACAZkAYQAAAAGAAWBNAAAAAQP7eHEAAAABA9IAXQAAAAED4cRpAAAAA4KHjEEAAAAAA2KMaQAAAAOD4HRFAAAAAQNH5E0AAAABgS64dQAAAAMCqKRlAAAAAIGMUHkAAAADAyxMYQAAAAKCFzBlAAAAAoNTlEkAAAADA7KQXQAAAAKCqYhRAAAAAABWqCkAAAADg1hsUQAAAAMAmpQ9AAAAAgOB/GUAAAAAAT0oSQAAAAABkAxNAAAAAgNYaH0AAAAAAEh8UQAAAACB8Yg5AAAAAQDzbG0AAAABA8I4WQAAAAKB4MBJAAAAAQEwcGEAAAABgXLESQAAAAMCZeBVAAAAAQN+VGUAAAACAqXQVQAAAAEDbow9AAAAA4Kg8EUAAAADAihUXQAAAAADJ+BVAAAAAwPvlEEAAAAAgdN8XQAAAAKAGgBRAAAAAYKGkE0AAAACg3kcdQAAAAABmpxFAAAAAYGI2DUAAAAAgQWwXQAAAAMDF1BRAAAAA4M9aD0AAAABg8IAYQAAAAID12hVAAAAAQI62HkAAAAAAxtcXQAAAAOC/ExlAAAAAILYzEkAAAADgfwQXQAAAAMD/jhJAAAAA4Mu8F0AAAAAgnPsXQAAAAABg7xVAAAAAwNfuEEAAAADgLEQcQAAAACBOmh1AAAAAQGYjFkAAAABgecERQAAAACBu4RJAAAAAgCCWEkAAAACADtEQQAAAAECNMA9AAAAAoBupHUAAAABggfoQQAAAAAAqhxRAAAAAgH48FUAAAABA+d8UQAAAAAA7nhRAAAAAILINFEAAAAAA1lweQAAAAOAF0hNAAAAAwJJZDUAAAAAAXgoWQAAAAOCg3xlA",
            "dtype": "f8"
           }
          }
         ],
         "name": "2012"
        },
        {
         "data": [
          {
           "coloraxis": "coloraxis",
           "geo": "geo",
           "hovertemplate": "<b>%{hovertext}</b><br><br>year=2013<br>Country name=%{location}<br>Life Ladder=%{z}<extra></extra>",
           "hovertext": [
            "Zimbabwe",
            "Afghanistan",
            "Serbia",
            "Iceland",
            "Yemen",
            "Senegal",
            "Australia",
            "Sierra Leone",
            "India",
            "Haiti",
            "Guinea",
            "Uzbekistan",
            "Mexico",
            "Nepal",
            "China",
            "Tajikistan",
            "Paraguay",
            "Costa Rica",
            "Congo (Kinshasa)",
            "Tanzania",
            "Kyrgyzstan",
            "Kuwait",
            "Venezuela",
            "Guatemala",
            "Singapore",
            "Indonesia",
            "Saudi Arabia",
            "Bahrain",
            "Mauritania",
            "Taiwan Province of China",
            "Kosovo",
            "Kenya",
            "Croatia",
            "Colombia",
            "Thailand",
            "Panama",
            "Latvia",
            "Turkmenistan",
            "Peru",
            "Czechia",
            "Cyprus",
            "Chile",
            "Chad",
            "Pakistan",
            "Azerbaijan",
            "Greece",
            "Slovakia",
            "Rwanda",
            "Netherlands",
            "Uruguay",
            "Cameroon",
            "Dominican Republic",
            "Sweden",
            "Kazakhstan",
            "Denmark",
            "Syria",
            "Tunisia",
            "Trinidad and Tobago",
            "Lebanon",
            "Bangladesh",
            "Slovenia",
            "Iraq",
            "Iran",
            "Ghana",
            "Germany",
            "Malta",
            "New Zealand",
            "Belgium",
            "Ecuador",
            "Türkiye",
            "North Macedonia",
            "Cambodia",
            "Canada",
            "Belarus",
            "Georgia",
            "Ireland",
            "Russia",
            "Romania",
            "Mali",
            "Malaysia",
            "Bhutan",
            "Japan",
            "El Salvador",
            "State of Palestine",
            "Burkina Faso",
            "Uganda",
            "Lithuania",
            "Nigeria",
            "Bulgaria",
            "Egypt",
            "Jordan",
            "Benin",
            "South Africa",
            "Gabon",
            "France",
            "Bosnia and Herzegovina",
            "United Kingdom",
            "Nicaragua",
            "Brazil",
            "Ethiopia",
            "Estonia",
            "Jamaica",
            "Poland",
            "Sri Lanka",
            "Philippines",
            "Bolivia",
            "United States",
            "South Korea",
            "Israel",
            "Portugal",
            "Malawi",
            "Madagascar",
            "Botswana",
            "United Arab Emirates",
            "Ivory Coast",
            "Italy",
            "Finland",
            "Spain",
            "Ukraine",
            "Luxembourg",
            "Niger",
            "Honduras",
            "Armenia",
            "Mongolia",
            "Moldova",
            "Argentina",
            "Austria",
            "Vietnam",
            "Myanmar",
            "Congo (Brazzaville)",
            "Albania",
            "Zambia",
            "Hungary",
            "Montenegro",
            "Morocco",
            "Angola"
           ],
           "locationmode": "country names",
           "locations": [
            "Zimbabwe",
            "Afghanistan",
            "Serbia",
            "Iceland",
            "Yemen",
            "Senegal",
            "Australia",
            "Sierra Leone",
            "India",
            "Haiti",
            "Guinea",
            "Uzbekistan",
            "Mexico",
            "Nepal",
            "China",
            "Tajikistan",
            "Paraguay",
            "Costa Rica",
            "Congo (Kinshasa)",
            "Tanzania",
            "Kyrgyzstan",
            "Kuwait",
            "Venezuela",
            "Guatemala",
            "Singapore",
            "Indonesia",
            "Saudi Arabia",
            "Bahrain",
            "Mauritania",
            "Taiwan Province of China",
            "Kosovo",
            "Kenya",
            "Croatia",
            "Colombia",
            "Thailand",
            "Panama",
            "Latvia",
            "Turkmenistan",
            "Peru",
            "Czechia",
            "Cyprus",
            "Chile",
            "Chad",
            "Pakistan",
            "Azerbaijan",
            "Greece",
            "Slovakia",
            "Rwanda",
            "Netherlands",
            "Uruguay",
            "Cameroon",
            "Dominican Republic",
            "Sweden",
            "Kazakhstan",
            "Denmark",
            "Syria",
            "Tunisia",
            "Trinidad and Tobago",
            "Lebanon",
            "Bangladesh",
            "Slovenia",
            "Iraq",
            "Iran",
            "Ghana",
            "Germany",
            "Malta",
            "New Zealand",
            "Belgium",
            "Ecuador",
            "Türkiye",
            "North Macedonia",
            "Cambodia",
            "Canada",
            "Belarus",
            "Georgia",
            "Ireland",
            "Russia",
            "Romania",
            "Mali",
            "Malaysia",
            "Bhutan",
            "Japan",
            "El Salvador",
            "State of Palestine",
            "Burkina Faso",
            "Uganda",
            "Lithuania",
            "Nigeria",
            "Bulgaria",
            "Egypt",
            "Jordan",
            "Benin",
            "South Africa",
            "Gabon",
            "France",
            "Bosnia and Herzegovina",
            "United Kingdom",
            "Nicaragua",
            "Brazil",
            "Ethiopia",
            "Estonia",
            "Jamaica",
            "Poland",
            "Sri Lanka",
            "Philippines",
            "Bolivia",
            "United States",
            "South Korea",
            "Israel",
            "Portugal",
            "Malawi",
            "Madagascar",
            "Botswana",
            "United Arab Emirates",
            "Ivory Coast",
            "Italy",
            "Finland",
            "Spain",
            "Ukraine",
            "Luxembourg",
            "Niger",
            "Honduras",
            "Armenia",
            "Mongolia",
            "Moldova",
            "Argentina",
            "Austria",
            "Vietnam",
            "Myanmar",
            "Congo (Brazzaville)",
            "Albania",
            "Zambia",
            "Hungary",
            "Montenegro",
            "Morocco",
            "Angola"
           ],
           "name": "",
           "type": "choropleth",
           "z": {
            "bdata": "AAAAoMDCEkAAAABgqZMMQAAAAOBIaBRAAAAAgG0BHkAAAAAg594QQAAAAMDOLQ1AAAAAwOh0HUAAAABgog4SQAAAAEAOthFAAAAAoON8EkAAAABA3zYPQAAAAMCLwhdAAAAA4CrFHUAAAAAgFmsSQAAAAGDg9hRAAAAAwLfdE0AAAADgtb4XQAAAAODKoRxAAAAAoGr9EUAAAABgtNEOQAAAAMAVnBVAAAAAQI3rGUAAAABAEDYaQAAAAGA78BdAAAAAAAEiGkAAAABgQCsVQAAAACAE+xlAAAAAoEPCGkAAAACgyssQQAAAAECDXBlAAAAAwMaAGEAAAADg8VwOQAAAAMC2ihdAAAAAoBttGkAAAADAkewYQAAAAKBGdxtAAAAA4HFHFEAAAABAKpEVQAAAAMBWIRdAAAAAQGbKGkAAAADAfMEVQAAAAODq9RpAAAAAoLEPDEAAAACAZY0UQAAAAAC67BVAAAAAgInhEkAAAAAAAb8XQAAAAIApuwtAAAAAwE6gHUAAAADAIccZQAAAAACLFRFAAAAAQOMPFEAAAABAbbwdQAAAAOCIVxdAAAAAwLtaHkAAAADAG4AFQAAAAOB/+xRAAAAAYLurGEAAAABA4+4TQAAAAEABpBJAAAAAQEnmF0AAAADgauYSQAAAAODtjhRAAAAA4DbcE0AAAADASdwbQAAAAAALhRlAAAAAIOAeHUAAAAAgJmocQAAAAMCqExhAAAAAYH6NE0AAAADAqL4UQAAAAOBOZQ1AAAAAgAtgHkAAAABggIEXQAAAAIBLZRFAAAAAwFMKG0AAAADgESYWQAAAAOCKUxRAAAAAAARpDUAAAABArxQXQAAAAADARhZAAAAA4GLWF0AAAABg3UwZQAAAAOBIYBNAAAAAgIubCkAAAACgN60NQAAAAGD8YRZAAAAAYH9FE0AAAADAtPEPQAAAAIDZdwxAAAAAYBSwFEAAAABg1tULQAAAAGArSQ1AAAAA4PxmDkAAAADgIasaQAAAAOChfhRAAAAAoBasG0AAAABAzxYXQAAAAECmjxxAAAAAwIDHEUAAAADAQ3gVQAAAAGDm1RZAAAAAAAr8FkAAAABgcnURQAAAACBf6BNAAAAA4NgRF0AAAACgRP8cQAAAAEDS1RdAAAAAwEFIHUAAAAAAeaEUQAAAACDtIxBAAAAAAF2GDkAAAADAYIMQQAAAAKDaexpAAAAAgDjqDUAAAABAmQkYQAAAAKBOxx1AAAAAwKCZGEAAAACg3NcSQAAAAODyhRxAAAAAIAu7DUAAAACgetoSQAAAAADYGxFAAAAAoNamE0AAAABgNAYXQAAAAAA8VBpAAAAAIMb+HUAAAABgPhcUQAAAAADjsxBAAAAAIL2jD0AAAAAA3TMSQAAAAADa+RRAAAAAAGqoE0AAAABAIEwUQAAAAICSkRRAAAAA4DF/D0A=",
            "dtype": "f8"
           }
          }
         ],
         "name": "2013"
        },
        {
         "data": [
          {
           "coloraxis": "coloraxis",
           "geo": "geo",
           "hovertemplate": "<b>%{hovertext}</b><br><br>year=2014<br>Country name=%{location}<br>Life Ladder=%{z}<extra></extra>",
           "hovertext": [
            "Angola",
            "Montenegro",
            "Serbia",
            "Hungary",
            "Zimbabwe",
            "Afghanistan",
            "Algeria",
            "Zambia",
            "Albania",
            "Myanmar",
            "Vietnam",
            "Argentina",
            "Moldova",
            "Mongolia",
            "Armenia",
            "Honduras",
            "Yemen",
            "Brazil",
            "Niger",
            "Luxembourg",
            "Ukraine",
            "Spain",
            "Finland",
            "Italy",
            "Ivory Coast",
            "United Arab Emirates",
            "Botswana",
            "Madagascar",
            "Portugal",
            "Israel",
            "South Korea",
            "South Sudan",
            "Bolivia",
            "Japan",
            "Philippines",
            "El Salvador",
            "Sri Lanka",
            "Poland",
            "Jamaica",
            "Estonia",
            "Ethiopia",
            "Malawi",
            "Nicaragua",
            "United Kingdom",
            "Bosnia and Herzegovina",
            "France",
            "Gabon",
            "South Africa",
            "Ireland",
            "Belize",
            "Benin",
            "Jordan",
            "Egypt",
            "Bulgaria",
            "Lithuania",
            "Uganda",
            "State of Palestine",
            "Bhutan",
            "Malaysia",
            "Mali",
            "Romania",
            "Russia",
            "Georgia",
            "Somalia",
            "Belarus",
            "Cameroon",
            "Norway",
            "Liberia",
            "Canada",
            "Burkina Faso",
            "Burundi",
            "Cambodia",
            "North Macedonia",
            "Türkiye",
            "Sudan",
            "Ecuador",
            "Belgium",
            "New Zealand",
            "United States",
            "Germany",
            "Iran",
            "Iraq",
            "Slovenia",
            "Latvia",
            "Lebanon",
            "Kazakhstan",
            "Denmark",
            "Sweden",
            "Switzerland",
            "Dominican Republic",
            "Bangladesh",
            "Uruguay",
            "Malta",
            "Netherlands",
            "Ghana",
            "Indonesia",
            "Rwanda",
            "Slovakia",
            "Uzbekistan",
            "Azerbaijan",
            "Pakistan",
            "Chad",
            "Chile",
            "Togo",
            "Cyprus",
            "Czechia",
            "Peru",
            "Turkmenistan",
            "China",
            "Panama",
            "Thailand",
            "Colombia",
            "Kenya",
            "Kosovo",
            "Croatia",
            "Taiwan Province of China",
            "Tunisia",
            "Mauritania",
            "Mauritius",
            "Bahrain",
            "Greece",
            "Saudi Arabia",
            "Singapore",
            "Guatemala",
            "Austria",
            "Venezuela",
            "Congo (Brazzaville)",
            "Kuwait",
            "Kyrgyzstan",
            "Tanzania",
            "Congo (Kinshasa)",
            "Costa Rica",
            "Paraguay",
            "Tajikistan",
            "Nepal",
            "Mexico",
            "Guinea",
            "India",
            "Haiti",
            "Sierra Leone",
            "Australia",
            "Namibia",
            "Hong Kong S.A.R. of China",
            "Senegal"
           ],
           "locationmode": "country names",
           "locations": [
            "Angola",
            "Montenegro",
            "Serbia",
            "Hungary",
            "Zimbabwe",
            "Afghanistan",
            "Algeria",
            "Zambia",
            "Albania",
            "Myanmar",
            "Vietnam",
            "Argentina",
            "Moldova",
            "Mongolia",
            "Armenia",
            "Honduras",
            "Yemen",
            "Brazil",
            "Niger",
            "Luxembourg",
            "Ukraine",
            "Spain",
            "Finland",
            "Italy",
            "Ivory Coast",
            "United Arab Emirates",
            "Botswana",
            "Madagascar",
            "Portugal",
            "Israel",
            "South Korea",
            "South Sudan",
            "Bolivia",
            "Japan",
            "Philippines",
            "El Salvador",
            "Sri Lanka",
            "Poland",
            "Jamaica",
            "Estonia",
            "Ethiopia",
            "Malawi",
            "Nicaragua",
            "United Kingdom",
            "Bosnia and Herzegovina",
            "France",
            "Gabon",
            "South Africa",
            "Ireland",
            "Belize",
            "Benin",
            "Jordan",
            "Egypt",
            "Bulgaria",
            "Lithuania",
            "Uganda",
            "State of Palestine",
            "Bhutan",
            "Malaysia",
            "Mali",
            "Romania",
            "Russia",
            "Georgia",
            "Somalia",
            "Belarus",
            "Cameroon",
            "Norway",
            "Liberia",
            "Canada",
            "Burkina Faso",
            "Burundi",
            "Cambodia",
            "North Macedonia",
            "Türkiye",
            "Sudan",
            "Ecuador",
            "Belgium",
            "New Zealand",
            "United States",
            "Germany",
            "Iran",
            "Iraq",
            "Slovenia",
            "Latvia",
            "Lebanon",
            "Kazakhstan",
            "Denmark",
            "Sweden",
            "Switzerland",
            "Dominican Republic",
            "Bangladesh",
            "Uruguay",
            "Malta",
            "Netherlands",
            "Ghana",
            "Indonesia",
            "Rwanda",
            "Slovakia",
            "Uzbekistan",
            "Azerbaijan",
            "Pakistan",
            "Chad",
            "Chile",
            "Togo",
            "Cyprus",
            "Czechia",
            "Peru",
            "Turkmenistan",
            "China",
            "Panama",
            "Thailand",
            "Colombia",
            "Kenya",
            "Kosovo",
            "Croatia",
            "Taiwan Province of China",
            "Tunisia",
            "Mauritania",
            "Mauritius",
            "Bahrain",
            "Greece",
            "Saudi Arabia",
            "Singapore",
            "Guatemala",
            "Austria",
            "Venezuela",
            "Congo (Brazzaville)",
            "Kuwait",
            "Kyrgyzstan",
            "Tanzania",
            "Congo (Kinshasa)",
            "Costa Rica",
            "Paraguay",
            "Tajikistan",
            "Nepal",
            "Mexico",
            "Guinea",
            "India",
            "Haiti",
            "Sierra Leone",
            "Australia",
            "Namibia",
            "Hong Kong S.A.R. of China",
            "Senegal"
           ],
           "name": "",
           "type": "choropleth",
           "z": {
            "bdata": "AAAAANRbDkAAAACAgSEVQAAAACBvcxRAAAAAoOW4FEAAAACg4LwQQAAAAAATDAlAAAAAgGprGUAAAAAgI2IRQAAAACBLQRNAAAAAAB4lE0AAAAAg9lYUQAAAAKA4rxpAAAAAYBGrF0AAAACAoUwTQAAAAAD1zxFAAAAAQBA5FEAAAADAYL4PQAAAAACL7BtAAAAAQEm5EEAAAACgg5AbQAAAAEB3MBFAAAAA4G7TGUAAAAAAzYkdQAAAACA5GxhAAAAAYB2QDEAAAACgzygaQAAAACDyHxBAAAAAIK9nDUAAAAAg9YEUQAAAACAvmh1AAAAAoI40F0AAAACg66cOQAAAAMCNdRdAAAAAgMOwF0AAAAAgDUAVQAAAAIAUbRdAAAAAAF0SEUAAAAAASgAXQAAAAOD9PRVAAAAAgFM5FkAAAABgzgYSQAAAACCYQBJAAAAAgN8ZGUAAAADgVwgbQAAAAODt/hRAAAAAoBLeGUAAAADANlgPQAAAAOBWUBNAAAAAANISHEAAAAAAldIXQAAAAMCDxwpAAAAAoANVFUAAAACAUIoTQAAAAGD2wBFAAAAAwL2AGEAAAABgyygOQAAAAMBD4xJAAAAAoBrBE0AAAAAgCNoXQAAAAAA3zA9AAAAAwFboFkAAAABA3SUYQAAAAIBoJhFAAAAAgPMcFkAAAAAA5j8XQAAAAEA29hBAAAAAYCPHHUAAAAAgIkkSQAAAAGCPNx1AAAAA4MzZC0AAAADgfDwHQAAAAIACEQ9AAAAAwLfQFEAAAACgtVEWQAAAAEAAjhBAAAAAYI3IF0AAAABg22sbQAAAAOA7OR1AAAAAwL2aHEAAAADg1e8bQAAAAACZuhJAAAAAoH8qEkAAAABArbYWQAAAAECd6hZAAAAAQJ7uFEAAAABAYeEXQAAAAKC9Bx5AAAAAIOP0HEAAAACAofgdQAAAAMCgjBVAAAAAgNGKEkAAAAAg6z4aQAAAAAD4zhlAAAAAoOVIHUAAAADA/+EOQAAAAGC2YxZAAAAAAPPDDEAAAADANI4YQAAAAMBkMhhAAAAAIJEBFUAAAAAgHb4VQAAAAGB0rgtAAAAAAIBgG0AAAAAAMLYGQAAAAMAsghZAAAAA4FbvGUAAAABgmHYXQAAAAMBGJhdAAAAAYFDIFEAAAADAUYYaQAAAAGAd8RtAAAAAYI/LGUAAAAAgSp4TQAAAAGBiABRAAAAAQNSFFUAAAACAOHQZQAAAAMDrDRNAAAAAgGTuEUAAAACgU5cWQAAAAOAYqRhAAAAAAGMGE0AAAAAgDx0ZQAAAAIDcPxxAAAAAQOUkGkAAAADAzMwbQAAAAOBcixhAAAAAYFs5EEAAAABAdrgYQAAAAOA+AhVAAAAAIMHdC0AAAABAPqgRQAAAACAE/RxAAAAAQH15FEAAAABgqpUTQAAAAEBq5hNAAAAAoCW4GkAAAACgw0wLQAAAAICQshFAAAAA4DccD0AAAABA+P8RQAAAAMB5Jx1AAAAAYMRLEkAAAABAC9UVQAAAAIBAlBFA",
            "dtype": "f8"
           }
          }
         ],
         "name": "2014"
        },
        {
         "data": [
          {
           "coloraxis": "coloraxis",
           "geo": "geo",
           "hovertemplate": "<b>%{hovertext}</b><br><br>year=2015<br>Country name=%{location}<br>Life Ladder=%{z}<extra></extra>",
           "hovertext": [
            "Senegal",
            "Zimbabwe",
            "Zambia",
            "Hungary",
            "Yemen",
            "Congo (Brazzaville)",
            "Tanzania",
            "Congo (Kinshasa)",
            "Costa Rica",
            "Paraguay",
            "Togo",
            "China",
            "Panama",
            "Nepal",
            "Mexico",
            "Guinea",
            "Iceland",
            "India",
            "Sierra Leone",
            "Mozambique",
            "Myanmar",
            "Thailand",
            "Tajikistan",
            "Kenya",
            "Kosovo",
            "Croatia",
            "Taiwan Province of China",
            "Tunisia",
            "Pakistan",
            "Chad",
            "Mauritania",
            "Bahrain",
            "Greece",
            "Saudi Arabia",
            "Singapore",
            "Guatemala",
            "Venezuela",
            "Austria",
            "Chile",
            "Cyprus",
            "Czechia",
            "Switzerland",
            "Kazakhstan",
            "Turkmenistan",
            "Netherlands",
            "Ghana",
            "Indonesia",
            "Rwanda",
            "Slovakia",
            "Uzbekistan",
            "Azerbaijan",
            "United States",
            "Germany",
            "Iran",
            "Iraq",
            "Slovenia",
            "Bangladesh",
            "Uruguay",
            "Malta",
            "Latvia",
            "Lebanon",
            "Syria",
            "Denmark",
            "Sweden",
            "Türkiye",
            "Cameroon",
            "Norway",
            "Malaysia",
            "Mali",
            "Romania",
            "Russia",
            "Georgia",
            "Somalia",
            "Belarus",
            "Belgium",
            "New Zealand",
            "Liberia",
            "Canada",
            "Burkina Faso",
            "North Macedonia",
            "Libya",
            "Cambodia",
            "Dominican Republic",
            "Jordan",
            "Nicaragua",
            "United Kingdom",
            "France",
            "Gabon",
            "South Africa",
            "Ireland",
            "Qatar",
            "Benin",
            "Bhutan",
            "Peru",
            "Ecuador",
            "Egypt",
            "Bulgaria",
            "Nigeria",
            "Lithuania",
            "Uganda",
            "State of Palestine",
            "Japan",
            "Philippines",
            "El Salvador",
            "Sri Lanka",
            "Poland",
            "Estonia",
            "Ethiopia",
            "Brazil",
            "Niger",
            "Luxembourg",
            "Madagascar",
            "Portugal",
            "Israel",
            "South Korea",
            "South Sudan",
            "Bolivia",
            "Malawi",
            "Ukraine",
            "Spain",
            "Finland",
            "Italy",
            "Ivory Coast",
            "Bosnia and Herzegovina",
            "United Arab Emirates",
            "Botswana",
            "Morocco",
            "Montenegro",
            "Serbia",
            "Afghanistan",
            "Albania",
            "Colombia",
            "Kuwait",
            "Kyrgyzstan",
            "Vietnam",
            "Australia",
            "Argentina",
            "Moldova",
            "Mongolia",
            "Armenia",
            "Haiti",
            "Honduras"
           ],
           "locationmode": "country names",
           "locations": [
            "Senegal",
            "Zimbabwe",
            "Zambia",
            "Hungary",
            "Yemen",
            "Congo (Brazzaville)",
            "Tanzania",
            "Congo (Kinshasa)",
            "Costa Rica",
            "Paraguay",
            "Togo",
            "China",
            "Panama",
            "Nepal",
            "Mexico",
            "Guinea",
            "Iceland",
            "India",
            "Sierra Leone",
            "Mozambique",
            "Myanmar",
            "Thailand",
            "Tajikistan",
            "Kenya",
            "Kosovo",
            "Croatia",
            "Taiwan Province of China",
            "Tunisia",
            "Pakistan",
            "Chad",
            "Mauritania",
            "Bahrain",
            "Greece",
            "Saudi Arabia",
            "Singapore",
            "Guatemala",
            "Venezuela",
            "Austria",
            "Chile",
            "Cyprus",
            "Czechia",
            "Switzerland",
            "Kazakhstan",
            "Turkmenistan",
            "Netherlands",
            "Ghana",
            "Indonesia",
            "Rwanda",
            "Slovakia",
            "Uzbekistan",
            "Azerbaijan",
            "United States",
            "Germany",
            "Iran",
            "Iraq",
            "Slovenia",
            "Bangladesh",
            "Uruguay",
            "Malta",
            "Latvia",
            "Lebanon",
            "Syria",
            "Denmark",
            "Sweden",
            "Türkiye",
            "Cameroon",
            "Norway",
            "Malaysia",
            "Mali",
            "Romania",
            "Russia",
            "Georgia",
            "Somalia",
            "Belarus",
            "Belgium",
            "New Zealand",
            "Liberia",
            "Canada",
            "Burkina Faso",
            "North Macedonia",
            "Libya",
            "Cambodia",
            "Dominican Republic",
            "Jordan",
            "Nicaragua",
            "United Kingdom",
            "France",
            "Gabon",
            "South Africa",
            "Ireland",
            "Qatar",
            "Benin",
            "Bhutan",
            "Peru",
            "Ecuador",
            "Egypt",
            "Bulgaria",
            "Nigeria",
            "Lithuania",
            "Uganda",
            "State of Palestine",
            "Japan",
            "Philippines",
            "El Salvador",
            "Sri Lanka",
            "Poland",
            "Estonia",
            "Ethiopia",
            "Brazil",
            "Niger",
            "Luxembourg",
            "Madagascar",
            "Portugal",
            "Israel",
            "South Korea",
            "South Sudan",
            "Bolivia",
            "Malawi",
            "Ukraine",
            "Spain",
            "Finland",
            "Italy",
            "Ivory Coast",
            "Bosnia and Herzegovina",
            "United Arab Emirates",
            "Botswana",
            "Morocco",
            "Montenegro",
            "Serbia",
            "Afghanistan",
            "Albania",
            "Colombia",
            "Kuwait",
            "Kyrgyzstan",
            "Vietnam",
            "Australia",
            "Argentina",
            "Moldova",
            "Mongolia",
            "Armenia",
            "Haiti",
            "Honduras"
           ],
           "name": "",
           "type": "choropleth",
           "z": {
            "bdata": "AAAAAM93EkAAAADAIqANQAAAAIBmXxNAAAAAAKZgFUAAAAAghNwHQAAAAABpwxJAAAAAQOdIDUAAAACg0DgPQAAAACCAahtAAAAAYCg9FkAAAACAeyUOQAAAAMArNxVAAAAAYBVsGkAAAABg7z8TQAAAAED18RhAAAAAwJwJDEAAAABABv4dQAAAAABKXhFAAAAAwGyiE0AAAABA9jISQAAAAAA45RBAAAAA4JrOGEAAAAAgMX8UQAAAAGAzbhFAAAAA4FFPFEAAAABgXtIUQAAAAODjzBlAAAAAQMWGFEAAAACg80oTQAAAAGBrShFAAAAAwJ1hD0AAAABgjQcYQAAAAKB1fRZAAAAAoMhhGUAAAADAZHoaQAAAAIAl3BlAAAAAoHNGFkAAAAAgSE4cQAAAACCJIRpAAAAAgLPBFUAAAAAgnG4aQAAAAEDeSR5AAAAAgMvMF0AAAACAdCoXQAAAAEA5TB1AAAAAACjjD0AAAADA0ysUQAAAAEBo3QtAAAAAgOSlGEAAAACAs+MXQAAAACBMlhRAAAAAgK50G0AAAABgByYcQAAAAGD0/xJAAAAA4Df5EUAAAADgavYWQAAAAGCtiBJAAAAAgCeDGkAAAACgHXQaQAAAAGC7hRdAAAAAQBmwFEAAAABg/7ELQAAAAGDFDh5AAAAAQNsnHUAAAAAA0A4WQAAAAEDgJhRAAAAAgOppHkAAAAAg2kkZQAAAAKARVBJAAAAAoCYcF0AAAACAbvsXQAAAAADefBBAAAAA4CFqFUAAAABgKeAWQAAAAKDrnRtAAAAA4CesHUAAAADg25wFQAAAAOCtph1AAAAAAPysEUAAAAAAAecTQAAAAKAsdhZAAAAAgA6mEEAAAADgWD8UQAAAAMBNnhVAAAAAoEqyF0AAAADg0A8aQAAAAEA1bhlAAAAAgOCkEkAAAAAgn4wTQAAAAGAMUhtAAAAAoIR/GUAAAAAAUP8MQAAAAIAZVBRAAAAAIB5PFkAAAACANtsXQAAAAODWDBNAAAAAwCt2E0AAAAAATrsTQAAAAIBz2BZAAAAAIGTzEEAAAADA7McSQAAAAADMhBdAAAAAAKEwFkAAAACg8BIYQAAAAABJchJAAAAAwDAHGEAAAACgAIQWQAAAACDpShJAAAAAwAUwGkAAAAAgI18NQAAAAMBozhpAAAAAAHi9DEAAAACgzlIUQAAAACBRURxAAAAAwO8eF0AAAABAeEgQQAAAAGBaVhdAAAAAYOzwDkAAAABAYrcPQAAAAKDMhRlAAAAAAK3KHUAAAABAB2QXQAAAAEC4xxFAAAAAgP13FEAAAAAACkYaQAAAAACBGA5AAAAAoBKnFEAAAABg638UQAAAAEBPRRVAAAAA4OLcD0AAAADgNW0SQAAAAKDfjBlAAAAAYImVGEAAAADgGp8TQAAAAKAlThRAAAAAYHo8HUAAAACg3MkaQAAAAEDkERhAAAAAIE7uE0AAAADgrWQRQAAAAKDfjgxAAAAAILphE0A=",
            "dtype": "f8"
           }
          }
         ],
         "name": "2015"
        },
        {
         "data": [
          {
           "coloraxis": "coloraxis",
           "geo": "geo",
           "hovertemplate": "<b>%{hovertext}</b><br><br>year=2016<br>Country name=%{location}<br>Life Ladder=%{z}<extra></extra>",
           "hovertext": [
            "Honduras",
            "Haiti",
            "Mongolia",
            "Moldova",
            "Argentina",
            "Montenegro",
            "Australia",
            "Vietnam",
            "Kyrgyzstan",
            "Kuwait",
            "Colombia",
            "Algeria",
            "Afghanistan",
            "Serbia",
            "Morocco",
            "Hong Kong S.A.R. of China",
            "Botswana",
            "United Arab Emirates",
            "Bosnia and Herzegovina",
            "Ivory Coast",
            "Italy",
            "Spain",
            "Ethiopia",
            "Ukraine",
            "Malawi",
            "Bolivia",
            "South Sudan",
            "South Korea",
            "Finland",
            "Israel",
            "Portugal",
            "Madagascar",
            "Luxembourg",
            "Niger",
            "Brazil",
            "Estonia",
            "Poland",
            "El Salvador",
            "Japan",
            "State of Palestine",
            "Egypt",
            "Uganda",
            "Lithuania",
            "Nigeria",
            "Bulgaria",
            "Ecuador",
            "Jordan",
            "Benin",
            "United States",
            "Ireland",
            "South Africa",
            "Gabon",
            "France",
            "Nicaragua",
            "Philippines",
            "Dominican Republic",
            "Cambodia",
            "Libya",
            "North Macedonia",
            "Burkina Faso",
            "Liberia",
            "Lesotho",
            "Mali",
            "Belarus",
            "Somalia",
            "Georgia",
            "Russia",
            "Romania",
            "United Kingdom",
            "Norway",
            "Cameroon",
            "Türkiye",
            "Sweden",
            "Denmark",
            "Peru",
            "Lebanon",
            "Latvia",
            "Uruguay",
            "Bangladesh",
            "Bahrain",
            "Iraq",
            "Iran",
            "Germany",
            "Belgium",
            "New Zealand",
            "Azerbaijan",
            "Uzbekistan",
            "Slovakia",
            "Rwanda",
            "Indonesia",
            "Ghana",
            "Slovenia",
            "Netherlands",
            "Malta",
            "Central African Republic",
            "Turkmenistan",
            "Canada",
            "Switzerland",
            "Paraguay",
            "Kazakhstan",
            "Czechia",
            "Cyprus",
            "Taiwan Province of China",
            "Chile",
            "Austria",
            "Venezuela",
            "Guatemala",
            "Singapore",
            "Saudi Arabia",
            "Greece",
            "Mauritius",
            "Mauritania",
            "Chad",
            "Pakistan",
            "Tunisia",
            "Croatia",
            "Kenya",
            "Tajikistan",
            "Thailand",
            "Myanmar",
            "Armenia",
            "Sierra Leone",
            "India",
            "Iceland",
            "Guinea",
            "Mexico",
            "Nepal",
            "China",
            "Panama",
            "Togo",
            "Kosovo",
            "Costa Rica",
            "Congo (Kinshasa)",
            "Tanzania",
            "Congo (Brazzaville)",
            "Yemen",
            "Hungary",
            "Zambia",
            "Senegal",
            "Albania",
            "Zimbabwe"
           ],
           "locationmode": "country names",
           "locations": [
            "Honduras",
            "Haiti",
            "Mongolia",
            "Moldova",
            "Argentina",
            "Montenegro",
            "Australia",
            "Vietnam",
            "Kyrgyzstan",
            "Kuwait",
            "Colombia",
            "Algeria",
            "Afghanistan",
            "Serbia",
            "Morocco",
            "Hong Kong S.A.R. of China",
            "Botswana",
            "United Arab Emirates",
            "Bosnia and Herzegovina",
            "Ivory Coast",
            "Italy",
            "Spain",
            "Ethiopia",
            "Ukraine",
            "Malawi",
            "Bolivia",
            "South Sudan",
            "South Korea",
            "Finland",
            "Israel",
            "Portugal",
            "Madagascar",
            "Luxembourg",
            "Niger",
            "Brazil",
            "Estonia",
            "Poland",
            "El Salvador",
            "Japan",
            "State of Palestine",
            "Egypt",
            "Uganda",
            "Lithuania",
            "Nigeria",
            "Bulgaria",
            "Ecuador",
            "Jordan",
            "Benin",
            "United States",
            "Ireland",
            "South Africa",
            "Gabon",
            "France",
            "Nicaragua",
            "Philippines",
            "Dominican Republic",
            "Cambodia",
            "Libya",
            "North Macedonia",
            "Burkina Faso",
            "Liberia",
            "Lesotho",
            "Mali",
            "Belarus",
            "Somalia",
            "Georgia",
            "Russia",
            "Romania",
            "United Kingdom",
            "Norway",
            "Cameroon",
            "Türkiye",
            "Sweden",
            "Denmark",
            "Peru",
            "Lebanon",
            "Latvia",
            "Uruguay",
            "Bangladesh",
            "Bahrain",
            "Iraq",
            "Iran",
            "Germany",
            "Belgium",
            "New Zealand",
            "Azerbaijan",
            "Uzbekistan",
            "Slovakia",
            "Rwanda",
            "Indonesia",
            "Ghana",
            "Slovenia",
            "Netherlands",
            "Malta",
            "Central African Republic",
            "Turkmenistan",
            "Canada",
            "Switzerland",
            "Paraguay",
            "Kazakhstan",
            "Czechia",
            "Cyprus",
            "Taiwan Province of China",
            "Chile",
            "Austria",
            "Venezuela",
            "Guatemala",
            "Singapore",
            "Saudi Arabia",
            "Greece",
            "Mauritius",
            "Mauritania",
            "Chad",
            "Pakistan",
            "Tunisia",
            "Croatia",
            "Kenya",
            "Tajikistan",
            "Thailand",
            "Myanmar",
            "Armenia",
            "Sierra Leone",
            "India",
            "Iceland",
            "Guinea",
            "Mexico",
            "Nepal",
            "China",
            "Panama",
            "Togo",
            "Kosovo",
            "Costa Rica",
            "Congo (Kinshasa)",
            "Tanzania",
            "Congo (Brazzaville)",
            "Yemen",
            "Hungary",
            "Zambia",
            "Senegal",
            "Albania",
            "Zimbabwe"
           ],
           "name": "",
           "type": "choropleth",
           "z": {
            "bdata": "AAAA4LWXFkAAAADAgtEKQAAAACBeOhRAAAAAoKZPFkAAAACAebUZQAAAACBdNxVAAAAAABUAHUAAAAAAwz8UQAAAAEAXbRNAAAAAYO3JF0AAAAAAU+8YQAAAAMAIXRVAAAAA4HPhEEAAAAAg0gIXQAAAACCUixVAAAAAAGL+FUAAAACA0v0LQAAAAKDkUhtAAAAAwDS5FEAAAAAgkSsSQAAAAMBu0RdAAAAAQEJGGUAAAABA/zARQAAAAABhHRBAAAAAYNvPC0AAAABgMhQXQAAAAKDaGgdAAAAAoNvhF0AAAAAArqMeQAAAAMDTohxAAAAAQFvJFUAAAAAAAE4NQAAAAKCO3htAAAAAAEfwEEAAAAAg0H8ZQAAAAIBEmRZAAAAAYPelGEAAAABALo8YQAAAAACQ0RdAAAAAgGCgE0AAAABAGjoSQAAAAADc7hBAAAAAYFN2F0AAAABg1uAUQAAAAICpWRNAAAAAQDV2GEAAAACgyxUVQAAAAMCIBxBAAAAA4OI2G0AAAACAtSkcQAAAAKA2FBNAAAAAALpTE0AAAAAgneYZQAAAAKALDRhAAAAAQCy5FUAAAABgbfQUQAAAAGBU2BFAAAAAQP27FUAAAABAC2IVQAAAAOCR0hBAAAAAYGDWCkAAAAAgNHcOQAAAAKBpEBBAAAAAQCu2FEAAAADA+KsSQAAAAMAlyxFAAAAA4HZrF0AAAACgH+AXQAAAAAARTBtAAAAAwKRiHkAAAABg0kMTQAAAACANThVAAAAAIJh5HUAAAABgKzseQAAAAKBxzRZAAAAAoDgVFUAAAABgBMMXQAAAAOCZrxhAAAAAAH05EkAAAADgvq0YQAAAACBwphFAAAAAgGWcEkAAAADAu34bQAAAAAC2yxtAAAAAwBrnHEAAAABAMDcVQAAAAMD1kRdAAAAAwP/4F0AAAACg9qkKQAAAAOCYixRAAAAA4MEOEkAAAAAgTr8XQAAAAMDbKR5AAAAAwAVdGkAAAACgY4sFQAAAAEBXjBdAAAAA4Lj6HEAAAABAhtUdQAAAAACdNBdAAAAAYFsiFkAAAABASPEaQAAAAICwLRdAAAAAwCgNGkAAAAAg9FAaQAAAAMA5MRxAAAAAABoqEEAAAADAh28ZQAAAAMBIIhhAAAAAoEvlGUAAAADg4TUVQAAAAMCkcBZAAAAAIHvjEUAAAAAADh4QQAAAACCsMRZAAAAA4PcVEkAAAABg4aoVQAAAAICilRFAAAAA4DVqFEAAAABAaEsYQAAAACATfhJAAAAAgEhNEUAAAABAi+4SQAAAAEB6txBAAAAAgEYKHkAAAACApdIMQAAAAAD0SxtAAAAAwO1lFEAAAABAwUwVQAAAACB2eBhAAAAAIFQHD0AAAABgowkXQAAAAGDfihxAAAAAQHYWEkAAAADAzDgHQAAAAIBcehBAAAAAYOSaDkAAAADgrMsVQAAAAIDiYxFAAAAAgM1gEkAAAAAAXgsSQAAAAIAZ4g1A",
            "dtype": "f8"
           }
          }
         ],
         "name": "2016"
        },
        {
         "data": [
          {
           "coloraxis": "coloraxis",
           "geo": "geo",
           "hovertemplate": "<b>%{hovertext}</b><br><br>year=2017<br>Country name=%{location}<br>Life Ladder=%{z}<extra></extra>",
           "hovertext": [
            "Austria",
            "Venezuela",
            "Moldova",
            "Myanmar",
            "Mozambique",
            "Bahrain",
            "Azerbaijan",
            "Uzbekistan",
            "Belarus",
            "Bangladesh",
            "Iraq",
            "Jordan",
            "Philippines",
            "Japan",
            "Italy",
            "Israel",
            "Romania",
            "Portugal",
            "Uruguay",
            "Namibia",
            "United States",
            "Belgium",
            "Bolivia",
            "United Kingdom",
            "Saudi Arabia",
            "India",
            "Kazakhstan",
            "Peru",
            "Iran",
            "Rwanda",
            "Ireland",
            "Russia",
            "Benin",
            "Mexico",
            "Nepal",
            "Mauritius",
            "Bosnia and Herzegovina",
            "Brazil",
            "Botswana",
            "United Arab Emirates",
            "Haiti",
            "Sierra Leone",
            "Kenya",
            "Paraguay",
            "Hungary",
            "Serbia",
            "Hong Kong S.A.R. of China",
            "Iceland",
            "Senegal",
            "Indonesia",
            "Bulgaria",
            "Ukraine",
            "Mauritania",
            "Netherlands",
            "Malta",
            "Cambodia",
            "Burkina Faso",
            "Uganda",
            "Slovakia",
            "Kuwait",
            "Panama",
            "Kosovo",
            "Guinea",
            "Guatemala",
            "Singapore",
            "Honduras",
            "Cameroon",
            "Türkiye",
            "Mali",
            "New Zealand",
            "Turkmenistan",
            "Canada",
            "Chile",
            "Gabon",
            "Laos",
            "Kyrgyzstan",
            "Germany",
            "Georgia",
            "Ghana",
            "Slovenia",
            "Greece",
            "Chad",
            "Tunisia",
            "Trinidad and Tobago",
            "Central African Republic",
            "Nicaragua",
            "Malawi",
            "China",
            "Togo",
            "South Sudan",
            "Ethiopia",
            "Lebanon",
            "Latvia",
            "Pakistan",
            "France",
            "South Korea",
            "South Africa",
            "Gambia",
            "Colombia",
            "Thailand",
            "Madagascar",
            "Luxembourg",
            "Congo (Kinshasa)",
            "Tanzania",
            "Congo (Brazzaville)",
            "Croatia",
            "Tajikistan",
            "Norway",
            "El Salvador",
            "State of Palestine",
            "Estonia",
            "Sri Lanka",
            "Finland",
            "Spain",
            "Costa Rica",
            "Lithuania",
            "Nigeria",
            "Niger",
            "Cyprus",
            "Taiwan Province of China",
            "Denmark",
            "Switzerland",
            "Czechia",
            "Libya",
            "North Macedonia",
            "Liberia",
            "Lesotho",
            "Dominican Republic",
            "Sweden",
            "Egypt",
            "Ecuador",
            "Afghanistan",
            "Morocco",
            "Mongolia",
            "Argentina",
            "Yemen",
            "Australia",
            "Vietnam",
            "Armenia",
            "Ivory Coast",
            "Jamaica",
            "Poland",
            "Zimbabwe",
            "Albania",
            "Montenegro",
            "Zambia",
            "Algeria"
           ],
           "locationmode": "country names",
           "locations": [
            "Austria",
            "Venezuela",
            "Moldova",
            "Myanmar",
            "Mozambique",
            "Bahrain",
            "Azerbaijan",
            "Uzbekistan",
            "Belarus",
            "Bangladesh",
            "Iraq",
            "Jordan",
            "Philippines",
            "Japan",
            "Italy",
            "Israel",
            "Romania",
            "Portugal",
            "Uruguay",
            "Namibia",
            "United States",
            "Belgium",
            "Bolivia",
            "United Kingdom",
            "Saudi Arabia",
            "India",
            "Kazakhstan",
            "Peru",
            "Iran",
            "Rwanda",
            "Ireland",
            "Russia",
            "Benin",
            "Mexico",
            "Nepal",
            "Mauritius",
            "Bosnia and Herzegovina",
            "Brazil",
            "Botswana",
            "United Arab Emirates",
            "Haiti",
            "Sierra Leone",
            "Kenya",
            "Paraguay",
            "Hungary",
            "Serbia",
            "Hong Kong S.A.R. of China",
            "Iceland",
            "Senegal",
            "Indonesia",
            "Bulgaria",
            "Ukraine",
            "Mauritania",
            "Netherlands",
            "Malta",
            "Cambodia",
            "Burkina Faso",
            "Uganda",
            "Slovakia",
            "Kuwait",
            "Panama",
            "Kosovo",
            "Guinea",
            "Guatemala",
            "Singapore",
            "Honduras",
            "Cameroon",
            "Türkiye",
            "Mali",
            "New Zealand",
            "Turkmenistan",
            "Canada",
            "Chile",
            "Gabon",
            "Laos",
            "Kyrgyzstan",
            "Germany",
            "Georgia",
            "Ghana",
            "Slovenia",
            "Greece",
            "Chad",
            "Tunisia",
            "Trinidad and Tobago",
            "Central African Republic",
            "Nicaragua",
            "Malawi",
            "China",
            "Togo",
            "South Sudan",
            "Ethiopia",
            "Lebanon",
            "Latvia",
            "Pakistan",
            "France",
            "South Korea",
            "South Africa",
            "Gambia",
            "Colombia",
            "Thailand",
            "Madagascar",
            "Luxembourg",
            "Congo (Kinshasa)",
            "Tanzania",
            "Congo (Brazzaville)",
            "Croatia",
            "Tajikistan",
            "Norway",
            "El Salvador",
            "State of Palestine",
            "Estonia",
            "Sri Lanka",
            "Finland",
            "Spain",
            "Costa Rica",
            "Lithuania",
            "Nigeria",
            "Niger",
            "Cyprus",
            "Taiwan Province of China",
            "Denmark",
            "Switzerland",
            "Czechia",
            "Libya",
            "North Macedonia",
            "Liberia",
            "Lesotho",
            "Dominican Republic",
            "Sweden",
            "Egypt",
            "Ecuador",
            "Afghanistan",
            "Morocco",
            "Mongolia",
            "Argentina",
            "Yemen",
            "Australia",
            "Vietnam",
            "Armenia",
            "Ivory Coast",
            "Jamaica",
            "Poland",
            "Zimbabwe",
            "Albania",
            "Montenegro",
            "Zambia",
            "Algeria"
           ],
           "name": "",
           "type": "choropleth",
           "z": {
            "bdata": "AAAAAMcsHUAAAADgckgUQAAAAOBXTRVAAAAAwAueEEAAAACAlB4RQAAAAMDG6BhAAAAAIO+bFEAAAAAAkK8ZQAAAAGAvNhZAAAAAoDQ9EUAAAAAgf9kRQAAAAAB6OxNAAAAAYIhgFkAAAABgiKQXQAAAAKCkyxhAAAAAIPtSHUAAAAAAEFwYQAAAAECT2BZAAAAAABNYGUAAAADA5cMRQAAAAMCP9xtAAAAAwKC2G0AAAACAKpoWQAAAAIDAaRxAAAAAYFgtGUAAAADANy8QQAAAACCHhxdAAAAAwP/XFkAAAABg/N0SQAAAACDz3QhAAAAAYJk9HEAAAAAAolAWQAAAAECoaRNAAAAAgCWkGUAAAACAX/ISQAAAAOBLshhAAAAAYA9cFEAAAABg61QZQAAAACD/CQxAAAAAoF0oHEAAAADgRpcOQAAAAEC2WxBAAAAA4BHnEUAAAAAgatoWQAAAAICZQhhAAAAAwPV8FEAAAACgLHMVQAAAAKCk5x1AAAAA4Gq7EkAAAABgw2QUQAAAAEA6YxRAAAAAYIg+EUAAAACAb7YSQAAAAAD71R1AAAAAwOGzGkAAAAAA51cSQAAAAKBqlhJAAAAAgIcAEEAAAAAASHYZQAAAAMAoYBhAAAAAYEhFGkAAAADgx5gYQAAAACCxfhNAAAAA4OtMGUAAAABAhYMZQAAAACB3FBhAAAAAINRLFEAAAAAg1m0WQAAAAKCn9xJAAAAAAAlPHUAAAAAApuoUQAAAAEDTqB1AAAAAYM1HGUAAAAAAKSETQAAAAKAYfhJAAAAAQKWEFkAAAADAG0wcQAAAAOCXzRFAAAAAwNzsFUAAAACA16oYQAAAAKDMlxRAAAAAAFo8EkAAAADAU38QQAAAAOB2xBhAAAAAwJDOC0AAAAAAyucZQAAAAEC8VQtAAAAAYHBlFEAAAADgdnERQAAAAGBxiAZAAAAAoKS4EEAAAACAr50UQAAAAABJ6RdAAAAAwM9SF0AAAADAd4oaQAAAAEDcfhdAAAAAoPsNEkAAAAAAxXgQQAAAAEAeoRhAAAAAwG3BF0AAAADggVAQQAAAAKDaPhxAAAAAgH8+EUAAAACA58YKQAAAAAA1iRNAAAAA4GZfFUAAAADAIlEXQAAAAICiUB5AAAAAQHZbGUAAAABANYMSQAAAAODqwBdAAAAAYONSEUAAAACAKycfQAAAAICy6xhAAAAAAJbmHEAAAADAfRcZQAAAAICnSRVAAAAAIHN2EkAAAABgij8YQAAAAOATcBlAAAAAgPNfHkAAAACg9eQdQAAAAICEKBtAAAAAgGCWFkAAAADAeu8UQAAAAMCtshFAAAAAoMZcDkAAAABAumsWQAAAACCwJR1AAAAAAExvD0AAAADAqlsXQAAAAOAySwVAAAAAgPs/FUAAAADg3FUVQAAAACBGKBhAAAAAgEoHCkAAAADgNAcdQAAAAEB8sxRAAAAAYKQmEUAAAAAApCYUQAAAAAAdjxdAAAAAQBnOGEAAAAAgPRsNQAAAAMDljhJAAAAAwI11FkAAAAAAVHYPQAAAAODi/hRA",
            "dtype": "f8"
           }
          }
         ],
         "name": "2017"
        },
        {
         "data": [
          {
           "coloraxis": "coloraxis",
           "geo": "geo",
           "hovertemplate": "<b>%{hovertext}</b><br><br>year=2018<br>Country name=%{location}<br>Life Ladder=%{z}<extra></extra>",
           "hovertext": [
            "Albania",
            "Algeria",
            "Zambia",
            "Montenegro",
            "Afghanistan",
            "Zimbabwe",
            "Poland",
            "Italy",
            "Austria",
            "Armenia",
            "Vietnam",
            "Australia",
            "Yemen",
            "Argentina",
            "Mongolia",
            "Morocco",
            "Ecuador",
            "Egypt",
            "Sweden",
            "Dominican Republic",
            "Liberia",
            "North Macedonia",
            "Czechia",
            "Switzerland",
            "Denmark",
            "Taiwan Province of China",
            "Cyprus",
            "Libya",
            "Niger",
            "Nigeria",
            "Lithuania",
            "Spain",
            "Finland",
            "Sri Lanka",
            "Estonia",
            "Eswatini",
            "El Salvador",
            "Lebanon",
            "Norway",
            "State of Palestine",
            "Costa Rica",
            "Tajikistan",
            "Croatia",
            "Tanzania",
            "Congo (Brazzaville)",
            "Luxembourg",
            "Madagascar",
            "Gabon",
            "South Africa",
            "South Korea",
            "France",
            "Pakistan",
            "Latvia",
            "Ethiopia",
            "Colombia",
            "Comoros",
            "Thailand",
            "Togo",
            "China",
            "Nicaragua",
            "Malawi",
            "Malaysia",
            "Greece",
            "Slovenia",
            "Ghana",
            "Gambia",
            "Georgia",
            "Germany",
            "Kyrgyzstan",
            "Laos",
            "Chad",
            "Chile",
            "Tunisia",
            "Turkmenistan",
            "Canada",
            "Maldives",
            "New Zealand",
            "Mali",
            "Türkiye",
            "Haiti",
            "Honduras",
            "Singapore",
            "Guatemala",
            "Guinea",
            "Kosovo",
            "Panama",
            "Slovakia",
            "Cameroon",
            "Uganda",
            "Burkina Faso",
            "Burundi",
            "Cambodia",
            "Netherlands",
            "Malta",
            "Mauritania",
            "Indonesia",
            "Senegal",
            "Serbia",
            "Hungary",
            "Kenya",
            "Sierra Leone",
            "Bulgaria",
            "Ukraine",
            "Botswana",
            "Brazil",
            "United Arab Emirates",
            "Bosnia and Herzegovina",
            "Mauritius",
            "Nepal",
            "Russia",
            "Ireland",
            "Rwanda",
            "Iran",
            "Peru",
            "Kazakhstan",
            "India",
            "Saudi Arabia",
            "Benin",
            "United Kingdom",
            "Bolivia",
            "Belarus",
            "United States",
            "Belgium",
            "Mexico",
            "Myanmar",
            "Namibia",
            "Uruguay",
            "Ivory Coast",
            "Portugal",
            "Romania",
            "Israel",
            "Japan",
            "Philippines",
            "Jordan",
            "Iraq",
            "Bangladesh",
            "Uzbekistan",
            "Azerbaijan",
            "Mozambique",
            "Moldova",
            "Venezuela"
           ],
           "locationmode": "country names",
           "locations": [
            "Albania",
            "Algeria",
            "Zambia",
            "Montenegro",
            "Afghanistan",
            "Zimbabwe",
            "Poland",
            "Italy",
            "Austria",
            "Armenia",
            "Vietnam",
            "Australia",
            "Yemen",
            "Argentina",
            "Mongolia",
            "Morocco",
            "Ecuador",
            "Egypt",
            "Sweden",
            "Dominican Republic",
            "Liberia",
            "North Macedonia",
            "Czechia",
            "Switzerland",
            "Denmark",
            "Taiwan Province of China",
            "Cyprus",
            "Libya",
            "Niger",
            "Nigeria",
            "Lithuania",
            "Spain",
            "Finland",
            "Sri Lanka",
            "Estonia",
            "Eswatini",
            "El Salvador",
            "Lebanon",
            "Norway",
            "State of Palestine",
            "Costa Rica",
            "Tajikistan",
            "Croatia",
            "Tanzania",
            "Congo (Brazzaville)",
            "Luxembourg",
            "Madagascar",
            "Gabon",
            "South Africa",
            "South Korea",
            "France",
            "Pakistan",
            "Latvia",
            "Ethiopia",
            "Colombia",
            "Comoros",
            "Thailand",
            "Togo",
            "China",
            "Nicaragua",
            "Malawi",
            "Malaysia",
            "Greece",
            "Slovenia",
            "Ghana",
            "Gambia",
            "Georgia",
            "Germany",
            "Kyrgyzstan",
            "Laos",
            "Chad",
            "Chile",
            "Tunisia",
            "Turkmenistan",
            "Canada",
            "Maldives",
            "New Zealand",
            "Mali",
            "Türkiye",
            "Haiti",
            "Honduras",
            "Singapore",
            "Guatemala",
            "Guinea",
            "Kosovo",
            "Panama",
            "Slovakia",
            "Cameroon",
            "Uganda",
            "Burkina Faso",
            "Burundi",
            "Cambodia",
            "Netherlands",
            "Malta",
            "Mauritania",
            "Indonesia",
            "Senegal",
            "Serbia",
            "Hungary",
            "Kenya",
            "Sierra Leone",
            "Bulgaria",
            "Ukraine",
            "Botswana",
            "Brazil",
            "United Arab Emirates",
            "Bosnia and Herzegovina",
            "Mauritius",
            "Nepal",
            "Russia",
            "Ireland",
            "Rwanda",
            "Iran",
            "Peru",
            "Kazakhstan",
            "India",
            "Saudi Arabia",
            "Benin",
            "United Kingdom",
            "Bolivia",
            "Belarus",
            "United States",
            "Belgium",
            "Mexico",
            "Myanmar",
            "Namibia",
            "Uruguay",
            "Ivory Coast",
            "Portugal",
            "Romania",
            "Israel",
            "Japan",
            "Philippines",
            "Jordan",
            "Iraq",
            "Bangladesh",
            "Uzbekistan",
            "Azerbaijan",
            "Mozambique",
            "Moldova",
            "Venezuela"
           ],
           "name": "",
           "type": "choropleth",
           "z": {
            "bdata": "AAAAIIIEFEAAAADAHiwUQAAAAOB7KhBAAAAAYMuZFkAAAADg7o0FQAAAAACN7gxAAAAAIClyGEAAAABg7BAaQAAAAICBlR1AAAAAgPI/FEAAAADgoy4VQAAAAMA9tRxAAAAA4Ml1CEAAAADg0isXQAAAACDG2xVAAAAAoFCWE0AAAAAgFYMYQAAAAOCUBRBAAAAAgMl/HUAAAADgnLsVQAAAAOAWihBAAAAAQJf1FEAAAABA/CIcQAAAAADLCB5AAAAAQFuYHkAAAACANt4ZQAAAAOATGxlAAAAAQNX5FUAAAACA8acUQAAAAOBXAhVAAAAAwEo8GUAAAAAgsQ0aQAAAAKCzbh9AAAAA4Ha9EUAAAABgfl0YQAAAAICk2BBAAAAAAP32GEAAAAAAM6sUQAAAAKDsxh1AAAAAQDc3EkAAAADgdZAcQAAAAIBo/RVAAAAAQCQlFkAAAABgaI8LQAAAAMD69RVAAAAAQHT4HEAAAADgR0gQQAAAACDNIRNAAAAA4CKJE0AAAACgZVwXQAAAAKDiqRpAAAAAAN/iFUAAAAAgyJoXQAAAAGBdhBFAAAAA4B3vF0AAAACgVcgPQAAAAODWCxhAAAAAwHEXEEAAAACgloYUQAAAAICbRhdAAAAAYFStCkAAAAAA81oVQAAAAMAcoxVAAAAAwGf/GEAAAAAgyAMUQAAAAMA6sBNAAAAAYOqiEkAAAACANHkcQAAAAECFMBVAAAAAIAdwE0AAAABA//ERQAAAAKCwvhlAAAAAYOv2EkAAAAAAf3sSQAAAAGC1sxxAAAAAAFHKFEAAAABALHsdQAAAAAC1qRFAAAAAYCW+FEAAAABgX+sMQAAAAOA5ohdAAAAAwI1/GUAAAABAoYEaQAAAAMBHAhVAAAAAwDqRGUAAAABAMCAZQAAAAODA8BhAAAAAYMEAFUAAAACgb0kRQAAAAGB9tRNAAAAAoMczDkAAAAAAw3wUQAAAACA22h1AAAAAQIujG0AAAABgJEERQAAAAIB2XBVAAAAAoNcTE0AAAAAg+L4XQAAAAMA6vhdAAAAAgHCfEkAAAAAABTkRQAAAAGAvZRRAAAAAgMulEkAAAACA4LALQAAAAACBwxhAAAAAwDtqGkAAAADgsowXQAAAAADnhhdAAAAAwO2jE0AAAAAA0w0WQAAAAIBu2RtAAAAAAAZ9DEAAAADgyhwRQAAAACD5txZAAAAAwNEHGEAAAACgZ4sOQAAAAGDybBlAAAAAwIBHF0AAAABADO8cQAAAAEC2qRdAAAAAYGHvFEAAAACA3ocbQAAAAICVkRtAAAAAwMQyGkAAAAAAfaQRQAAAACAbVhNAAAAAwKJ8GUAAAADg0BIVQAAAAADmrRdAAAAAAICaGEAAAABgbrUbQAAAAACfLBdAAAAAYAh6F0AAAACgRI4SQAAAAKCsixNAAAAAwDL/EUAAAAAgZNIYQAAAAAAHrBRAAAAAIGedEkAAAADgproWQAAAAKDMBRRA",
            "dtype": "f8"
           }
          }
         ],
         "name": "2018"
        },
        {
         "data": [
          {
           "coloraxis": "coloraxis",
           "geo": "geo",
           "hovertemplate": "<b>%{hovertext}</b><br><br>year=2019<br>Country name=%{location}<br>Life Ladder=%{z}<extra></extra>",
           "hovertext": [
            "Mongolia",
            "Japan",
            "Libya",
            "Niger",
            "Lithuania",
            "Costa Rica",
            "Tajikistan",
            "Croatia",
            "Tanzania",
            "Israel",
            "Armenia",
            "Philippines",
            "Türkiye",
            "Cameroon",
            "Uganda",
            "Ethiopia",
            "Italy",
            "Vietnam",
            "Australia",
            "Afghanistan",
            "Yemen",
            "Azerbaijan",
            "Bahrain",
            "Mozambique",
            "Moldova",
            "Russia",
            "Ireland",
            "Rwanda",
            "Iran",
            "Jordan",
            "Spain",
            "Finland",
            "Sri Lanka",
            "Estonia",
            "Canada",
            "New Zealand",
            "Mali",
            "Latvia",
            "Switzerland",
            "Taiwan Province of China",
            "Nicaragua",
            "Luxembourg",
            "Madagascar",
            "Cyprus",
            "Peru",
            "Kazakhstan",
            "Uruguay",
            "Gabon",
            "Burkina Faso",
            "Cambodia",
            "Netherlands",
            "Malta",
            "Mauritania",
            "Brazil",
            "South Africa",
            "South Korea",
            "France",
            "Bangladesh",
            "Uzbekistan",
            "India",
            "Saudi Arabia",
            "Indonesia",
            "Hungary",
            "Senegal",
            "Mexico",
            "Germany",
            "Eswatini",
            "Egypt",
            "El Salvador",
            "Chad",
            "Chile",
            "Tunisia",
            "Kyrgyzstan",
            "Pakistan",
            "Laos",
            "Myanmar",
            "Dominican Republic",
            "Lesotho",
            "Liberia",
            "Nigeria",
            "Colombia",
            "Comoros",
            "Thailand",
            "Namibia",
            "Iceland",
            "Hong Kong S.A.R. of China",
            "Serbia",
            "Paraguay",
            "Kenya",
            "United Kingdom",
            "Belarus",
            "United States",
            "Belgium",
            "United Arab Emirates",
            "Slovenia",
            "Ghana",
            "Gambia",
            "Georgia",
            "Bulgaria",
            "Ukraine",
            "Denmark",
            "Sweden",
            "Togo",
            "China",
            "Malawi",
            "Malaysia",
            "Sierra Leone",
            "Honduras",
            "Singapore",
            "Guatemala",
            "Greece",
            "Turkmenistan",
            "Lebanon",
            "North Macedonia",
            "Norway",
            "State of Palestine",
            "Ecuador",
            "Botswana",
            "Bolivia",
            "Bosnia and Herzegovina",
            "Mauritius",
            "Nepal",
            "Benin",
            "Guinea",
            "Kosovo",
            "Panama",
            "Kuwait",
            "Slovakia",
            "Zimbabwe",
            "Poland",
            "Jamaica",
            "Portugal",
            "Romania",
            "Venezuela",
            "Austria",
            "Albania",
            "Morocco",
            "Argentina",
            "Ivory Coast",
            "Congo (Brazzaville)",
            "Algeria",
            "Zambia",
            "Montenegro"
           ],
           "locationmode": "country names",
           "locations": [
            "Mongolia",
            "Japan",
            "Libya",
            "Niger",
            "Lithuania",
            "Costa Rica",
            "Tajikistan",
            "Croatia",
            "Tanzania",
            "Israel",
            "Armenia",
            "Philippines",
            "Türkiye",
            "Cameroon",
            "Uganda",
            "Ethiopia",
            "Italy",
            "Vietnam",
            "Australia",
            "Afghanistan",
            "Yemen",
            "Azerbaijan",
            "Bahrain",
            "Mozambique",
            "Moldova",
            "Russia",
            "Ireland",
            "Rwanda",
            "Iran",
            "Jordan",
            "Spain",
            "Finland",
            "Sri Lanka",
            "Estonia",
            "Canada",
            "New Zealand",
            "Mali",
            "Latvia",
            "Switzerland",
            "Taiwan Province of China",
            "Nicaragua",
            "Luxembourg",
            "Madagascar",
            "Cyprus",
            "Peru",
            "Kazakhstan",
            "Uruguay",
            "Gabon",
            "Burkina Faso",
            "Cambodia",
            "Netherlands",
            "Malta",
            "Mauritania",
            "Brazil",
            "South Africa",
            "South Korea",
            "France",
            "Bangladesh",
            "Uzbekistan",
            "India",
            "Saudi Arabia",
            "Indonesia",
            "Hungary",
            "Senegal",
            "Mexico",
            "Germany",
            "Eswatini",
            "Egypt",
            "El Salvador",
            "Chad",
            "Chile",
            "Tunisia",
            "Kyrgyzstan",
            "Pakistan",
            "Laos",
            "Myanmar",
            "Dominican Republic",
            "Lesotho",
            "Liberia",
            "Nigeria",
            "Colombia",
            "Comoros",
            "Thailand",
            "Namibia",
            "Iceland",
            "Hong Kong S.A.R. of China",
            "Serbia",
            "Paraguay",
            "Kenya",
            "United Kingdom",
            "Belarus",
            "United States",
            "Belgium",
            "United Arab Emirates",
            "Slovenia",
            "Ghana",
            "Gambia",
            "Georgia",
            "Bulgaria",
            "Ukraine",
            "Denmark",
            "Sweden",
            "Togo",
            "China",
            "Malawi",
            "Malaysia",
            "Sierra Leone",
            "Honduras",
            "Singapore",
            "Guatemala",
            "Greece",
            "Turkmenistan",
            "Lebanon",
            "North Macedonia",
            "Norway",
            "State of Palestine",
            "Ecuador",
            "Botswana",
            "Bolivia",
            "Bosnia and Herzegovina",
            "Mauritius",
            "Nepal",
            "Benin",
            "Guinea",
            "Kosovo",
            "Panama",
            "Kuwait",
            "Slovakia",
            "Zimbabwe",
            "Poland",
            "Jamaica",
            "Portugal",
            "Romania",
            "Venezuela",
            "Austria",
            "Albania",
            "Morocco",
            "Argentina",
            "Ivory Coast",
            "Congo (Brazzaville)",
            "Algeria",
            "Zambia",
            "Montenegro"
           ],
           "name": "",
           "type": "choropleth",
           "z": {
            "bdata": "AAAAQGpAFkAAAAAA1aEXQAAAAMAlUhVAAAAAIKEDFEAAAADgokEYQAAAAMCP/RtAAAAA4CbbFUAAAAAAw4AWQAAAAIAJHw1AAAAAIL5THUAAAAAAzfMVQAAAAMArEhlAAAAA4AB9E0AAAAAgOL8TQAAAAADOyhNAAAAAwPFlEEAAAABgG8gZQAAAAICr3hVAAAAAYJzvHEAAAAAgMAADQAAAAICjyRBAAAAAAI2xFEAAAABgXWQcQAAAAACBuhNAAAAAwLs2F0AAAACgGMMVQAAAACD1BB1AAAAAAC0lCkAAAAAgSwYUQAAAAMBozxFAAAAAoG3UGUAAAACAEx8fQAAAACBr2hBAAAAAAHkjGEAAAADAsW8cQAAAAEAZ0hxAAAAAILTzE0AAAAAgB+EXQAAAAODhxh5AAAAA4PolGkAAAAAAP3MYQAAAAEC2nR1AAAAAwDlbEUAAAADgHYwYQAAAAOBd/xdAAAAAgM0WGUAAAADAvmYaQAAAAMBWqBNAAAAAoKz2EkAAAABgPv4TQAAAAKB5sx1AAAAAoJHuGkAAAABASJwQQAAAAAD6zRlAAAAAQLMjFEAAAAAAfJwXQAAAACAywhpAAAAAQPV0FEAAAAAgv50YQAAAAAB7/QlAAAAAoLc+GkAAAABA1GIVQAAAACBEABhAAAAAYHf0FUAAAADgT7oZQAAAAOBSJBxAAAAAIJ+VEUAAAAAgs08RQAAAAIC80RlAAAAAgNEAEUAAAABA3cQXQAAAACANQxFAAAAAgKq9FkAAAADAV8URQAAAAKCUyRRAAAAAwKi8EUAAAADAVgQYQAAAAGAgGAxAAAAAQGB8FEAAAABA4RARQAAAAIC0ZhlAAAAAIDlvEkAAAADgrhYYQAAAAEBFvhFAAAAA4EghHkAAAAAAJKMWQAAAAIAz9xhAAAAA4EmcFkAAAADgs3kSQAAAAEDsoBxAAAAAACtJF0AAAACgWcYbQAAAAGCrFhtAAAAAYNfXGkAAAACAPakaQAAAAGAD3hNAAAAA4I2nFEAAAABgPZETQAAAAGAKbxRAAAAAwJrOEkAAAACgosUeQAAAAKCllx1AAAAAQM23EEAAAABAlJMUQAAAACD38w5AAAAAoDm2FUAAAADAPJQLQAAAAGBfuBdAAAAAwHCDGUAAAACgdwwZQAAAAGACzxdAAAAA4K7lFUAAAAAAzRgQQAAAAGDbDxRAAAAAQMDEHUAAAABAHu4RQAAAAOCMPBdAAAAAIMjEC0AAAAAAdLIWQAAAACDlDxhAAAAAAPT2GEAAAACAfssVQAAAACDL5xNAAAAA4BsSE0AAAAAAWbMZQAAAAKAEWBhAAAAAoKpsGEAAAABgRfkYQAAAAOBVjAVAAAAAgOf3GEAAAAAgqTwZQAAAAMDDYRhAAAAAoA+FGEAAAAAgvlIUQAAAAMAMyBxAAAAAoDT7E0AAAAAgHToUQAAAAECdVxhAAAAAoGuRFUAAAADAudkUQAAAAKB/+hJAAAAAwFF0CkAAAAAgSosVQA==",
            "dtype": "f8"
           }
          }
         ],
         "name": "2019"
        },
        {
         "data": [
          {
           "coloraxis": "coloraxis",
           "geo": "geo",
           "hovertemplate": "<b>%{hovertext}</b><br><br>year=2020<br>Country name=%{location}<br>Life Ladder=%{z}<extra></extra>",
           "hovertext": [
            "Australia",
            "Austria",
            "Mongolia",
            "Montenegro",
            "Zambia",
            "Algeria",
            "Congo (Brazzaville)",
            "Ivory Coast",
            "Italy",
            "Argentina",
            "Cyprus",
            "Venezuela",
            "Romania",
            "Portugal",
            "Morocco",
            "Poland",
            "Zimbabwe",
            "Slovakia",
            "Kosovo",
            "Guinea",
            "Benin",
            "Nepal",
            "Mauritius",
            "Bosnia and Herzegovina",
            "Germany",
            "Greece",
            "Ecuador",
            "Norway",
            "North Macedonia",
            "Lebanon",
            "Tunisia",
            "Serbia",
            "Malaysia",
            "China",
            "Denmark",
            "Sweden",
            "Belgium",
            "Ukraine",
            "Bulgaria",
            "Uganda",
            "Brazil",
            "Georgia",
            "Ghana",
            "Slovenia",
            "United Arab Emirates",
            "Bolivia",
            "United States",
            "United Kingdom",
            "Kenya",
            "Paraguay",
            "Senegal",
            "Hong Kong S.A.R. of China",
            "Iceland",
            "Namibia",
            "Thailand",
            "Colombia",
            "Tanzania",
            "Nigeria",
            "Dominican Republic",
            "Myanmar",
            "Pakistan",
            "Kyrgyzstan",
            "Chile",
            "El Salvador",
            "Sri Lanka",
            "Egypt",
            "Mexico",
            "Hungary",
            "Indonesia",
            "Saudi Arabia",
            "India",
            "Kazakhstan",
            "Uzbekistan",
            "Bangladesh",
            "South Korea",
            "South Africa",
            "Gabon",
            "Malta",
            "Netherlands",
            "Burkina Faso",
            "Uruguay",
            "Peru",
            "Nicaragua",
            "Taiwan Province of China",
            "Switzerland",
            "Czechia",
            "Jordan",
            "Laos",
            "Mali",
            "New Zealand",
            "Canada",
            "Estonia",
            "Finland",
            "Spain",
            "France",
            "Iran",
            "Russia",
            "Ireland",
            "Iraq",
            "Moldova",
            "Bahrain",
            "Philippines",
            "Vietnam",
            "Jamaica",
            "Ethiopia",
            "Cameroon",
            "Türkiye",
            "Cambodia",
            "Latvia",
            "Japan",
            "Israel",
            "Croatia",
            "Tajikistan",
            "Costa Rica",
            "Lithuania",
            "Albania"
           ],
           "locationmode": "country names",
           "locations": [
            "Australia",
            "Austria",
            "Mongolia",
            "Montenegro",
            "Zambia",
            "Algeria",
            "Congo (Brazzaville)",
            "Ivory Coast",
            "Italy",
            "Argentina",
            "Cyprus",
            "Venezuela",
            "Romania",
            "Portugal",
            "Morocco",
            "Poland",
            "Zimbabwe",
            "Slovakia",
            "Kosovo",
            "Guinea",
            "Benin",
            "Nepal",
            "Mauritius",
            "Bosnia and Herzegovina",
            "Germany",
            "Greece",
            "Ecuador",
            "Norway",
            "North Macedonia",
            "Lebanon",
            "Tunisia",
            "Serbia",
            "Malaysia",
            "China",
            "Denmark",
            "Sweden",
            "Belgium",
            "Ukraine",
            "Bulgaria",
            "Uganda",
            "Brazil",
            "Georgia",
            "Ghana",
            "Slovenia",
            "United Arab Emirates",
            "Bolivia",
            "United States",
            "United Kingdom",
            "Kenya",
            "Paraguay",
            "Senegal",
            "Hong Kong S.A.R. of China",
            "Iceland",
            "Namibia",
            "Thailand",
            "Colombia",
            "Tanzania",
            "Nigeria",
            "Dominican Republic",
            "Myanmar",
            "Pakistan",
            "Kyrgyzstan",
            "Chile",
            "El Salvador",
            "Sri Lanka",
            "Egypt",
            "Mexico",
            "Hungary",
            "Indonesia",
            "Saudi Arabia",
            "India",
            "Kazakhstan",
            "Uzbekistan",
            "Bangladesh",
            "South Korea",
            "South Africa",
            "Gabon",
            "Malta",
            "Netherlands",
            "Burkina Faso",
            "Uruguay",
            "Peru",
            "Nicaragua",
            "Taiwan Province of China",
            "Switzerland",
            "Czechia",
            "Jordan",
            "Laos",
            "Mali",
            "New Zealand",
            "Canada",
            "Estonia",
            "Finland",
            "Spain",
            "France",
            "Iran",
            "Russia",
            "Ireland",
            "Iraq",
            "Moldova",
            "Bahrain",
            "Philippines",
            "Vietnam",
            "Jamaica",
            "Ethiopia",
            "Cameroon",
            "Türkiye",
            "Cambodia",
            "Latvia",
            "Japan",
            "Israel",
            "Croatia",
            "Tajikistan",
            "Costa Rica",
            "Lithuania",
            "Albania"
           ],
           "name": "",
           "type": "choropleth",
           "z": {
            "bdata": "AAAAIKqMHEAAAADgnNocQAAAAECjCxhAAAAAoH7jFkAAAACgGloTQAAAAOBCwBVAAAAA4AlRFEAAAADgqAYVQAAAAKAT9BlAAAAAQC6aF0AAAADACwoZQAAAAACaSxJAAAAAYPwjG0AAAAAgOBIXQAAAAGDhNRNAAAAAYM2OGEAAAABgRkcJQAAAAICOExpAAAAA4HotGUAAAAAggOMTQAAAACCIoRFAAAAAAP3tF0AAAADgqg8YQAAAACAyEBZAAAAAIGI/HUAAAADAhCYXQAAAAAD4ahVAAAAAQP4oHUAAAADA8zYUQAAAAODsEQVAAAAAwFnsEkAAAAAgiyoYQAAAACCKDhhAAAAAAJIVF0AAAACA+w4eQAAAAKDiQR1AAAAAIORaG0AAAADgJRQVQAAAAIARZBZAAAAAoEqQEkAAAADgWXAYQAAAAEAZfhRAAAAAoCZHFUAAAACAKtkZQAAAAMBk1RlAAAAAYK48FkAAAAAgwxwcQAAAAGBVMRtAAAAAwLMvEkAAAABgRwEWQAAAAKDvBhNAAAAAAG4uFUAAAAAgTU0eQAAAAKDVzRFAAAAAAMaJF0AAAAAAMtYWQAAAAMAUSQ5AAAAA4AQDFkAAAACgc6wUQAAAAIC3uRFAAAAAwPF+EkAAAACAk/8YQAAAACBCmhhAAAAAYAPZFUAAAABALB0TQAAAAAC84xFAAAAAwFzbF0AAAACA9iYYQAAAAOAFUBNAAAAAwAQ9GkAAAAAAPeUQQAAAAMBOrBhAAAAA4CJeF0AAAADgtB4VQAAAAGC4KxdAAAAAIIbJE0AAAADA04sTQAAAACCWoBhAAAAAAI4EHkAAAADA/Y4SQAAAACAdPRlAAAAAgD76E0AAAACAxiUZQAAAAOAXARtAAAAAQKMIHkAAAAAgn5YbQAAAAGA/YBBAAAAAYDcjFUAAAADg8BMRQAAAACCPBx1AAAAAoIAZHEAAAADgbM8ZQAAAAMCxjh9AAAAAQDoCGkAAAAAgQNsaQAAAAOBGdRNAAAAAAC37FUAAAADgxCMcQAAAAGACJBNAAAAAoBs/F0AAAAAAVbEYQAAAAMB+URRAAAAAIHDZFUAAAADAMLMVQAAAAKBmMhJAAAAAIN32FEAAAABAO3ITQAAAAGAIghFAAAAAQIHqGEAAAABgy3gYQAAAAECbxxxAAAAAIC8IGkAAAABAXH4VQAAAAICYWhlAAAAAoMWQGUAAAADgqnUVQA==",
            "dtype": "f8"
           }
          }
         ],
         "name": "2020"
        },
        {
         "data": [
          {
           "coloraxis": "coloraxis",
           "geo": "geo",
           "hovertemplate": "<b>%{hovertext}</b><br><br>year=2021<br>Country name=%{location}<br>Life Ladder=%{z}<extra></extra>",
           "hovertext": [
            "Afghanistan",
            "Zambia",
            "Algeria",
            "Congo (Brazzaville)",
            "Italy",
            "Argentina",
            "Vietnam",
            "Jamaica",
            "Cameroon",
            "Türkiye",
            "Cambodia",
            "Latvia",
            "Laos",
            "Mali",
            "Canada",
            "Spain",
            "France",
            "South Korea",
            "Finland",
            "South Africa",
            "Gabon",
            "Malta",
            "Netherlands",
            "Burkina Faso",
            "Kyrgyzstan",
            "Pakistan",
            "Chile",
            "Malaysia",
            "El Salvador",
            "Sri Lanka",
            "Egypt",
            "Estonia",
            "Bulgaria",
            "Uganda",
            "Brazil",
            "Georgia",
            "Ghana",
            "Slovenia",
            "United Arab Emirates",
            "Bolivia",
            "Ukraine",
            "Germany",
            "Greece",
            "Dominican Republic",
            "Norway",
            "North Macedonia",
            "Lebanon",
            "Tunisia",
            "Slovakia",
            "Singapore",
            "Kosovo",
            "Panama",
            "Nepal",
            "Mauritius",
            "Bosnia and Herzegovina",
            "Sierra Leone",
            "Honduras",
            "Serbia",
            "Malawi",
            "New Zealand",
            "China",
            "Togo",
            "Sweden",
            "Ecuador",
            "Guinea",
            "United States",
            "United Kingdom",
            "Benin",
            "Kenya",
            "Paraguay",
            "Kazakhstan",
            "Hong Kong S.A.R. of China",
            "Senegal",
            "Iceland",
            "Hungary",
            "Namibia",
            "Myanmar",
            "Colombia",
            "Tanzania",
            "Nigeria",
            "Denmark",
            "Mexico",
            "Belgium",
            "Saudi Arabia",
            "India",
            "Uzbekistan",
            "Bangladesh",
            "Uruguay",
            "Peru",
            "Jordan",
            "Nicaragua",
            "Taiwan Province of China",
            "Croatia",
            "Switzerland",
            "Czechia",
            "Thailand",
            "Iran",
            "Russia",
            "Indonesia",
            "Iraq",
            "Moldova",
            "Mozambique",
            "Philippines",
            "Japan",
            "Israel",
            "Armenia",
            "Tajikistan",
            "Costa Rica",
            "Lithuania",
            "Cyprus",
            "Austria",
            "Venezuela",
            "Australia",
            "Romania",
            "Ireland",
            "Portugal",
            "Ivory Coast",
            "Morocco",
            "Mongolia",
            "Poland",
            "Zimbabwe",
            "Albania"
           ],
           "locationmode": "country names",
           "locations": [
            "Afghanistan",
            "Zambia",
            "Algeria",
            "Congo (Brazzaville)",
            "Italy",
            "Argentina",
            "Vietnam",
            "Jamaica",
            "Cameroon",
            "Türkiye",
            "Cambodia",
            "Latvia",
            "Laos",
            "Mali",
            "Canada",
            "Spain",
            "France",
            "South Korea",
            "Finland",
            "South Africa",
            "Gabon",
            "Malta",
            "Netherlands",
            "Burkina Faso",
            "Kyrgyzstan",
            "Pakistan",
            "Chile",
            "Malaysia",
            "El Salvador",
            "Sri Lanka",
            "Egypt",
            "Estonia",
            "Bulgaria",
            "Uganda",
            "Brazil",
            "Georgia",
            "Ghana",
            "Slovenia",
            "United Arab Emirates",
            "Bolivia",
            "Ukraine",
            "Germany",
            "Greece",
            "Dominican Republic",
            "Norway",
            "North Macedonia",
            "Lebanon",
            "Tunisia",
            "Slovakia",
            "Singapore",
            "Kosovo",
            "Panama",
            "Nepal",
            "Mauritius",
            "Bosnia and Herzegovina",
            "Sierra Leone",
            "Honduras",
            "Serbia",
            "Malawi",
            "New Zealand",
            "China",
            "Togo",
            "Sweden",
            "Ecuador",
            "Guinea",
            "United States",
            "United Kingdom",
            "Benin",
            "Kenya",
            "Paraguay",
            "Kazakhstan",
            "Hong Kong S.A.R. of China",
            "Senegal",
            "Iceland",
            "Hungary",
            "Namibia",
            "Myanmar",
            "Colombia",
            "Tanzania",
            "Nigeria",
            "Denmark",
            "Mexico",
            "Belgium",
            "Saudi Arabia",
            "India",
            "Uzbekistan",
            "Bangladesh",
            "Uruguay",
            "Peru",
            "Jordan",
            "Nicaragua",
            "Taiwan Province of China",
            "Croatia",
            "Switzerland",
            "Czechia",
            "Thailand",
            "Iran",
            "Russia",
            "Indonesia",
            "Iraq",
            "Moldova",
            "Mozambique",
            "Philippines",
            "Japan",
            "Israel",
            "Armenia",
            "Tajikistan",
            "Costa Rica",
            "Lithuania",
            "Cyprus",
            "Austria",
            "Venezuela",
            "Australia",
            "Romania",
            "Ireland",
            "Portugal",
            "Ivory Coast",
            "Morocco",
            "Mongolia",
            "Poland",
            "Zimbabwe",
            "Albania"
           ],
           "name": "",
           "type": "choropleth",
           "z": {
            "bdata": "AAAAoP98A0AAAADgQKgIQAAAAOA53hRAAAAAwJ+uE0AAAABg8t0ZQAAAAOATohdAAAAAQDcpFkAAAABgQ0EXQAAAAIDa2RNAAAAAYHB3EUAAAAAAdzgSQAAAAKCQaRlAAAAAIMK0E0AAAABgz3MQQAAAAGD7wRtAAAAAwOHgGUAAAACg9J8aQAAAAIBzcxhAAAAAYHEtH0AAAACABWUWQAAAAIA7TRRAAAAAQF3GGUAAAADgsEEdQAAAAMDCihJAAAAAgDpBFkAAAADAhPIRQAAAAAAWvhlAAAAAIKQKGEAAAABAzbkZQAAAAADuaRBAAAAAoF0aEEAAAACgNTcaQAAAAGDQrxVAAAAAIOzlEEAAAABAMQoYQAAAAOAkpRNAAAAAgAWDEUAAAACAfQsbQAAAAECp7hpAAAAAYEVGFkAAAADg0z4VQAAAAOChBBtAAAAAILdqGEAAAAAgRR8YQAAAAGBAch1AAAAAgJUjFkAAAACgM24BQAAAAEB5/xFAAAAAQIysGUAAAABgzFgaQAAAAEAQmBpAAAAAoAs2GkAAAABAPH0SQAAAACDmyxdAAAAAgMv+FkAAAAAA4LYNQAAAAABddBhAAAAAYCf7GEAAAABgDxUNQAAAAED7ixxAAAAAwJJzF0AAAADAayUQQAAAAKDSwR1AAAAAIE+9FUAAAABgNccTQAAAACAb1htAAAAA4MR3G0AAAAAARvkRQAAAAKCw2xFAAAAAIFlNFkAAAACA3QkZQAAAAKBESRVAAAAAoH+cE0AAAAAALUIeQAAAAGAW6BhAAAAAAP/2EUAAAACgk0ERQAAAAODqKBVAAAAAoM1xDUAAAACgxOoRQAAAAGCEyx5AAAAAYIf2F0AAAAAg64YbQAAAAED7xxlAAAAAwE13DEAAAABgwb0YQAAAAEBHfhBAAAAAwL0BGkAAAABA+8YWQAAAAADwRQ9AAAAAIKNhGEAAAACAqvwYQAAAAGCsJRlAAAAAYIlPHUAAAADgHcUbQAAAAEBpjRZAAAAAwLgmE0AAAAAABcsVQAAAAMCRuxVAAAAAgOpfFEAAAADgENYXQAAAAEDFthRAAAAAIDjcF0AAAABAhF0YQAAAAIBjTx5AAAAAQMgzFUAAAABAtSUVQAAAAEBAohlAAAAAgFJ1G0AAAADAqRMZQAAAAGCNURxAAAAAYCJuFEAAAAAAR3IcQAAAACDlMRpAAAAAAIRPG0AAAAAgaLsYQAAAAGAlORRAAAAAIBROFUAAAADAVuIWQAAAAOCK6RdAAAAAgJM8CUAAAAAAnQUVQA==",
            "dtype": "f8"
           }
          }
         ],
         "name": "2021"
        },
        {
         "data": [
          {
           "coloraxis": "coloraxis",
           "geo": "geo",
           "hovertemplate": "<b>%{hovertext}</b><br><br>year=2022<br>Country name=%{location}<br>Life Ladder=%{z}<extra></extra>",
           "hovertext": [
            "Mongolia",
            "Portugal",
            "Morocco",
            "Costa Rica",
            "Niger",
            "Libya",
            "Cyprus",
            "Madagascar",
            "Luxembourg",
            "Nicaragua",
            "Lithuania",
            "Azerbaijan",
            "Philippines",
            "Japan",
            "Israel",
            "Armenia",
            "Austria",
            "Venezuela",
            "Australia",
            "Congo (Kinshasa)",
            "Croatia",
            "Taiwan Province of China",
            "Czechia",
            "Switzerland",
            "Thailand",
            "Comoros",
            "Colombia",
            "Tanzania",
            "Jordan",
            "Iran",
            "Indonesia",
            "Russia",
            "Romania",
            "Iraq",
            "Moldova",
            "Mozambique",
            "Namibia",
            "Liberia",
            "Nigeria",
            "Lesotho",
            "Denmark",
            "Malawi",
            "New Zealand",
            "Sweden",
            "Belgium",
            "Saudi Arabia",
            "India",
            "Uzbekistan",
            "Bangladesh",
            "Uruguay",
            "Peru",
            "Ecuador",
            "State of Palestine",
            "Dominican Republic",
            "Lebanon",
            "North Macedonia",
            "El Salvador",
            "Tunisia",
            "Chile",
            "Chad",
            "Paraguay",
            "Kazakhstan",
            "Hong Kong S.A.R. of China",
            "Senegal",
            "Honduras",
            "Iceland",
            "Hungary",
            "Myanmar",
            "Mexico",
            "Togo",
            "Sri Lanka",
            "Egypt",
            "Estonia",
            "Mali",
            "Netherlands",
            "Malaysia",
            "Canada",
            "Sierra Leone",
            "Serbia",
            "Guinea",
            "United States",
            "United Kingdom",
            "Benin",
            "Kenya",
            "Spain",
            "Ethiopia",
            "Eswatini",
            "Türkiye",
            "Cameroon",
            "Cambodia",
            "Latvia",
            "Singapore",
            "Ghana",
            "Kuwait",
            "Kosovo",
            "Panama",
            "Guatemala",
            "Nepal",
            "Mauritius",
            "Mauritania",
            "Norway",
            "Laos",
            "France",
            "South Korea",
            "Finland",
            "South Africa",
            "Gabon",
            "Malta",
            "Slovenia",
            "Gambia",
            "United Arab Emirates",
            "Bolivia",
            "Botswana",
            "Ukraine",
            "Slovakia",
            "Germany",
            "Greece",
            "Kyrgyzstan",
            "Pakistan",
            "Bosnia and Herzegovina",
            "Bulgaria",
            "Uganda",
            "Brazil",
            "Georgia",
            "Montenegro",
            "Argentina",
            "Afghanistan",
            "Zimbabwe",
            "Albania",
            "Congo (Brazzaville)",
            "Tajikistan",
            "Ireland",
            "Italy",
            "Algeria",
            "Yemen",
            "Zambia",
            "Vietnam",
            "Jamaica",
            "Ivory Coast",
            "Poland"
           ],
           "locationmode": "country names",
           "locations": [
            "Mongolia",
            "Portugal",
            "Morocco",
            "Costa Rica",
            "Niger",
            "Libya",
            "Cyprus",
            "Madagascar",
            "Luxembourg",
            "Nicaragua",
            "Lithuania",
            "Azerbaijan",
            "Philippines",
            "Japan",
            "Israel",
            "Armenia",
            "Austria",
            "Venezuela",
            "Australia",
            "Congo (Kinshasa)",
            "Croatia",
            "Taiwan Province of China",
            "Czechia",
            "Switzerland",
            "Thailand",
            "Comoros",
            "Colombia",
            "Tanzania",
            "Jordan",
            "Iran",
            "Indonesia",
            "Russia",
            "Romania",
            "Iraq",
            "Moldova",
            "Mozambique",
            "Namibia",
            "Liberia",
            "Nigeria",
            "Lesotho",
            "Denmark",
            "Malawi",
            "New Zealand",
            "Sweden",
            "Belgium",
            "Saudi Arabia",
            "India",
            "Uzbekistan",
            "Bangladesh",
            "Uruguay",
            "Peru",
            "Ecuador",
            "State of Palestine",
            "Dominican Republic",
            "Lebanon",
            "North Macedonia",
            "El Salvador",
            "Tunisia",
            "Chile",
            "Chad",
            "Paraguay",
            "Kazakhstan",
            "Hong Kong S.A.R. of China",
            "Senegal",
            "Honduras",
            "Iceland",
            "Hungary",
            "Myanmar",
            "Mexico",
            "Togo",
            "Sri Lanka",
            "Egypt",
            "Estonia",
            "Mali",
            "Netherlands",
            "Malaysia",
            "Canada",
            "Sierra Leone",
            "Serbia",
            "Guinea",
            "United States",
            "United Kingdom",
            "Benin",
            "Kenya",
            "Spain",
            "Ethiopia",
            "Eswatini",
            "Türkiye",
            "Cameroon",
            "Cambodia",
            "Latvia",
            "Singapore",
            "Ghana",
            "Kuwait",
            "Kosovo",
            "Panama",
            "Guatemala",
            "Nepal",
            "Mauritius",
            "Mauritania",
            "Norway",
            "Laos",
            "France",
            "South Korea",
            "Finland",
            "South Africa",
            "Gabon",
            "Malta",
            "Slovenia",
            "Gambia",
            "United Arab Emirates",
            "Bolivia",
            "Botswana",
            "Ukraine",
            "Slovakia",
            "Germany",
            "Greece",
            "Kyrgyzstan",
            "Pakistan",
            "Bosnia and Herzegovina",
            "Bulgaria",
            "Uganda",
            "Brazil",
            "Georgia",
            "Montenegro",
            "Argentina",
            "Afghanistan",
            "Zimbabwe",
            "Albania",
            "Congo (Brazzaville)",
            "Tajikistan",
            "Ireland",
            "Italy",
            "Algeria",
            "Yemen",
            "Zambia",
            "Vietnam",
            "Jamaica",
            "Ivory Coast",
            "Poland"
           ],
           "name": "",
           "type": "choropleth",
           "z": {
            "bdata": "AAAAAL0mF0AAAABgZ88XQAAAAEBmYhJAAAAAgH9OHEAAAAAAXQESQAAAAECFChdAAAAAwIJ1F0AAAADglxMQQAAAAMBn6RxAAAAAAKyRGUAAAACgeiYcQAAAAMAcThJAAAAA4Nb6F0AAAABASLYYQAAAAIBLph5AAAAAAByHFUAAAAAg+f4bQAAAAKDEyxdAAAAAYIcjHEAAAADAVqgJQAAAAICUUBZAAAAAALhtGkAAAABgwscaQAAAAIAOiRtAAAAAwEkHGEAAAADAk1wMQAAAAAAdkRdAAAAAQEDtDEAAAAAgJGwRQAAAAIBx6BNAAAAA4LdWFkAAAABgIS0YQAAAAAB2vxlAAAAAgES2E0AAAAAgF78WQAAAAABu9RJAAAAA4LzLE0AAAABARisQQAAAACBPLRVAAAAAwEJ9CUAAAABACy4eQAAAAKAx2ApAAAAA4GLmG0AAAABAkLkdQAAAAIBwbRtAAAAA4MSGGUAAAACAQ3APQAAAAOCgEBhAAAAAQKBCC0AAAAAA9K4aQAAAAIB6kRdAAAAAYGyMF0AAAADgi6ETQAAAAKDbEhZAAAAAoMXRAkAAAAAA46oUQAAAAMD39xlAAAAAACELEUAAAADgKakZQAAAAGAqlhFAAAAAIOqMGEAAAAAgbgYYQAAAAODDPhVAAAAAYJWgE0AAAADAKroXQAAAAMCQyx1AAAAAANpxF0AAAAAAsG8RQAAAACBKJxxAAAAAwLf0EEAAAABg/uAPQAAAAGAgGBBAAAAAYK9tGUAAAADgmdcQQAAAAMD8jh1AAAAAoCgxGEAAAABA96sbQAAAAIDCewRAAAAAgK4uGkAAAADgHEUVQAAAAMBqxRpAAAAAQBrjGkAAAACgit4QQAAAAICyyhFAAAAA4PxYGUAAAABgSgYNQAAAACAaBAxAAAAAIK9fFEAAAACAgdkSQAAAAKBJABFAAAAAgCc4GEAAAAAAClUZQAAAAGBvwxBAAAAAYAQIG0AAAACgsKMYQAAAACDj6hdAAAAAgPCZGEAAAABgjuUVQAAAAOBF9hZAAAAA4D3lEkAAAADArC0dQAAAAIC82BNAAAAAwIl0GkAAAABg0MwXQAAAAIB+6h5AAAAAoPlSFkAAAABA2Y4UQAAAAIBrMhlAAAAAYMLkGkAAAADgJR4RQAAAAOBO8xpAAAAA4Cy3F0AAAACAcXsLQAAAACC8jBJAAAAAoERdGEAAAADAzW4aQAAAAAASmhdAAAAAgN6rFkAAAADAA7kTQAAAAAD8fBdAAAAA4G2DFUAAAABg47IRQAAAAOA/BxlAAAAAAMgrFUAAAADAcWYWQAAAAOBBCxlAAAAAIBaA9D8AAABgqF4KQAAAAGBO2RRAAAAAoDw4F0AAAAAgI7QUQAAAAKC9ehtAAAAAIK4IGUAAAACgFicWQAAAAGAYuQxAAAAAQCXTDUAAAACg5xAZQAAAAOASexdAAAAAwAplE0AAAABgQaoaQA==",
            "dtype": "f8"
           }
          }
         ],
         "name": "2022"
        },
        {
         "data": [
          {
           "coloraxis": "coloraxis",
           "geo": "geo",
           "hovertemplate": "<b>%{hovertext}</b><br><br>year=2023<br>Country name=%{location}<br>Life Ladder=%{z}<extra></extra>",
           "hovertext": [
            "Poland",
            "Ivory Coast",
            "Zambia",
            "Vietnam",
            "Yemen",
            "Italy",
            "Ireland",
            "Costa Rica",
            "Comoros",
            "Tajikistan",
            "Albania",
            "Mongolia",
            "Afghanistan",
            "Argentina",
            "Moldova",
            "Portugal",
            "Slovenia",
            "Brazil",
            "Uganda",
            "Bosnia and Herzegovina",
            "Georgia",
            "Kuwait",
            "Pakistan",
            "Kyrgyzstan",
            "France",
            "Germany",
            "Ukraine",
            "Botswana",
            "Bolivia",
            "United Arab Emirates",
            "Slovakia",
            "Gambia",
            "Burkina Faso",
            "Nepal",
            "Malta",
            "Gabon",
            "South Africa",
            "Finland",
            "South Korea",
            "Laos",
            "Mauritania",
            "Mauritius",
            "Guatemala",
            "Panama",
            "Kosovo",
            "Ghana",
            "Singapore",
            "Norway",
            "Latvia",
            "Cambodia",
            "Cameroon",
            "Bulgaria",
            "Türkiye",
            "Ethiopia",
            "El Salvador",
            "Spain",
            "Kazakhstan",
            "Kenya",
            "Benin",
            "United Kingdom",
            "United States",
            "Guinea",
            "Serbia",
            "Greece",
            "Sierra Leone",
            "Canada",
            "Malaysia",
            "Netherlands",
            "Mali",
            "Estonia",
            "Egypt",
            "Sri Lanka",
            "Togo",
            "Myanmar",
            "Bahrain",
            "Hungary",
            "Iceland",
            "Honduras",
            "Senegal",
            "Paraguay",
            "Chad",
            "Tunisia",
            "North Macedonia",
            "Lebanon",
            "Dominican Republic",
            "State of Palestine",
            "Ecuador",
            "Jordan",
            "Peru",
            "Uruguay",
            "Bangladesh",
            "Austria",
            "Uzbekistan",
            "India",
            "Saudi Arabia",
            "Belgium",
            "Sweden",
            "Thailand",
            "Madagascar",
            "New Zealand",
            "Malawi",
            "Denmark",
            "Nigeria",
            "Liberia",
            "Cyprus",
            "Namibia",
            "Mozambique",
            "Mexico",
            "Romania",
            "Iraq",
            "Russia",
            "Indonesia",
            "Tanzania",
            "Colombia",
            "Chile",
            "Switzerland",
            "Czechia",
            "Taiwan Province of China",
            "Congo (Brazzaville)",
            "Australia",
            "Venezuela",
            "Armenia",
            "Israel",
            "Japan",
            "Philippines",
            "Iran",
            "Azerbaijan",
            "Congo (Kinshasa)",
            "Lithuania",
            "Nicaragua",
            "Luxembourg",
            "China",
            "Croatia",
            "Libya",
            "Niger",
            "Montenegro",
            "Zimbabwe",
            "Morocco"
           ],
           "locationmode": "country names",
           "locations": [
            "Poland",
            "Ivory Coast",
            "Zambia",
            "Vietnam",
            "Yemen",
            "Italy",
            "Ireland",
            "Costa Rica",
            "Comoros",
            "Tajikistan",
            "Albania",
            "Mongolia",
            "Afghanistan",
            "Argentina",
            "Moldova",
            "Portugal",
            "Slovenia",
            "Brazil",
            "Uganda",
            "Bosnia and Herzegovina",
            "Georgia",
            "Kuwait",
            "Pakistan",
            "Kyrgyzstan",
            "France",
            "Germany",
            "Ukraine",
            "Botswana",
            "Bolivia",
            "United Arab Emirates",
            "Slovakia",
            "Gambia",
            "Burkina Faso",
            "Nepal",
            "Malta",
            "Gabon",
            "South Africa",
            "Finland",
            "South Korea",
            "Laos",
            "Mauritania",
            "Mauritius",
            "Guatemala",
            "Panama",
            "Kosovo",
            "Ghana",
            "Singapore",
            "Norway",
            "Latvia",
            "Cambodia",
            "Cameroon",
            "Bulgaria",
            "Türkiye",
            "Ethiopia",
            "El Salvador",
            "Spain",
            "Kazakhstan",
            "Kenya",
            "Benin",
            "United Kingdom",
            "United States",
            "Guinea",
            "Serbia",
            "Greece",
            "Sierra Leone",
            "Canada",
            "Malaysia",
            "Netherlands",
            "Mali",
            "Estonia",
            "Egypt",
            "Sri Lanka",
            "Togo",
            "Myanmar",
            "Bahrain",
            "Hungary",
            "Iceland",
            "Honduras",
            "Senegal",
            "Paraguay",
            "Chad",
            "Tunisia",
            "North Macedonia",
            "Lebanon",
            "Dominican Republic",
            "State of Palestine",
            "Ecuador",
            "Jordan",
            "Peru",
            "Uruguay",
            "Bangladesh",
            "Austria",
            "Uzbekistan",
            "India",
            "Saudi Arabia",
            "Belgium",
            "Sweden",
            "Thailand",
            "Madagascar",
            "New Zealand",
            "Malawi",
            "Denmark",
            "Nigeria",
            "Liberia",
            "Cyprus",
            "Namibia",
            "Mozambique",
            "Mexico",
            "Romania",
            "Iraq",
            "Russia",
            "Indonesia",
            "Tanzania",
            "Colombia",
            "Chile",
            "Switzerland",
            "Czechia",
            "Taiwan Province of China",
            "Congo (Brazzaville)",
            "Australia",
            "Venezuela",
            "Armenia",
            "Israel",
            "Japan",
            "Philippines",
            "Iran",
            "Azerbaijan",
            "Congo (Kinshasa)",
            "Lithuania",
            "Nicaragua",
            "Luxembourg",
            "China",
            "Croatia",
            "Libya",
            "Niger",
            "Montenegro",
            "Zimbabwe",
            "Morocco"
           ],
           "name": "",
           "type": "choropleth",
           "z": {
            "bdata": "AAAAoBW9GkAAAADgqVgVQAAAACALfA1AAAAAAOtMGUAAAACgqUAMQAAAAKD++hhAAAAAwCBEG0AAAABgSYkdQAAAAOBWtAxAAAAAAJSEFUAAAAAAXccVQAAAAKCIURZAAAAAAHEi9z8AAACAqpIZQAAAAOCZNBdAAAAAQOjQF0AAAADAqvsaQAAAAKD0NRpAAAAAILfdEUAAAACAyQgYQAAAAOAMZxVAAAAAQGmFHEAAAACAfzISQAAAAGBWoxdAAAAAoEk6GkAAAACggisbQAAAAGCVsBJAAAAAADenCkAAAAAAhnAXQAAAAIDd6RpAAAAAQMYKGUAAAACAV8MSQAAAAABN2RFAAAAAgAmOFUAAAABg7i0ZQAAAAMCfahRAAAAAYIlNFEAAAAAgtMseQAAAAOCachhAAAAAgAvyFUAAAACADisRQAAAAKBjCRdAAAAAoGevGUAAAAAgVCwaQAAAACDcghtAAAAAQJ0xEUAAAAAAo50aQAAAAMCk/hxAAAAAgL0uGUAAAABgqOIQQAAAACCMyBNAAAAA4L9bFkAAAAAgztkVQAAAAEDfXhBAAAAAQGntGUAAAABg+tIZQAAAAICeMhlAAAAAgCP8EUAAAAAA6a0RQAAAAADWoRpAAAAAgF8VGkAAAABACE8TQAAAACCZwxlAAAAAICsvF0AAAAAgjbsLQAAAAEBlXRtAAAAAwO94F0AAAACg6AQdQAAAAADbehFAAAAAoDC4GUAAAAAgjQsPQAAAAODT0QxAAAAAgLJ1EUAAAABAApARQAAAAAAW1hdAAAAAoFfcF0AAAACAFj8eQAAAAMA4cRdAAAAAYPNeFEAAAABg69oYQAAAAGAnLRJAAAAAwEMFEkAAAACAspwVQAAAAEAJtAxAAAAAYF+vF0AAAAAgnWcTQAAAACAyaBdAAAAAwAorEUAAAABAH74XQAAAAGCapRpAAAAAIEZ0EEAAAACA64oaQAAAAACcihlAAAAAoDu0EkAAAABAQdAbQAAAAMA+xhtAAAAAwKKkHEAAAAAgJCEZQAAAAIBkuxFAAAAA4GDnG0AAAACAPi0KQAAAACBLBB5AAAAAwMp5E0AAAADgxPkRQAAAAOBJSBhAAAAAQKY4FEAAAABAaNEWQAAAAIDeBRxAAAAA4FD0GUAAAADgx+YVQAAAAGCRdRdAAAAA4IvHFkAAAACACSsQQAAAACAcnhdAAAAAAFbrGEAAAADAFeAbQAAAAMDaThtAAAAAgBSfGkAAAACAntATQAAAACAsGRxAAAAAYLsPF0AAAABgY7cWQAAAAEA0IhtAAAAAYPWjF0AAAACA6rsYQAAAACBiBBRAAAAAQAfbFEAAAADAMhELQAAAAADrNRpAAAAA4NByGUAAAACgchAcQAAAAAA9lBhAAAAAQGHVF0AAAABgk+EXQAAAAABEbxJAAAAAgIRAF0AAAABAP5QMQAAAAMAw8hFA",
            "dtype": "f8"
           }
          }
         ],
         "name": "2023"
        }
       ],
       "layout": {
        "coloraxis": {
         "cmax": 8.01893424987793,
         "cmin": 1.2812711000442505,
         "colorbar": {
          "len": 0.75,
          "thickness": 20,
          "title": {
           "text": "Life Ladder"
          }
         },
         "colorscale": [
          [
           0,
           "#0d0887"
          ],
          [
           0.1111111111111111,
           "#46039f"
          ],
          [
           0.2222222222222222,
           "#7201a8"
          ],
          [
           0.3333333333333333,
           "#9c179e"
          ],
          [
           0.4444444444444444,
           "#bd3786"
          ],
          [
           0.5555555555555556,
           "#d8576b"
          ],
          [
           0.6666666666666666,
           "#ed7953"
          ],
          [
           0.7777777777777778,
           "#fb9f3a"
          ],
          [
           0.8888888888888888,
           "#fdca26"
          ],
          [
           1,
           "#f0f921"
          ]
         ]
        },
        "geo": {
         "center": {},
         "countrycolor": "darkgray",
         "domain": {
          "x": [
           0,
           1
          ],
          "y": [
           0,
           1
          ]
         },
         "landcolor": "gray",
         "projection": {
          "type": "equirectangular"
         },
         "showcountries": true,
         "showframe": false
        },
        "legend": {
         "tracegroupgap": 0
        },
        "margin": {
         "b": 0,
         "l": 0,
         "r": 0,
         "t": 40
        },
        "sliders": [
         {
          "active": 0,
          "currentvalue": {
           "prefix": "year="
          },
          "len": 0.9,
          "pad": {
           "b": 10,
           "t": 60
          },
          "steps": [
           {
            "args": [
             [
              "2005"
             ],
             {
              "frame": {
               "duration": 0,
               "redraw": true
              },
              "fromcurrent": true,
              "mode": "immediate",
              "transition": {
               "duration": 0,
               "easing": "linear"
              }
             }
            ],
            "label": "2005",
            "method": "animate"
           },
           {
            "args": [
             [
              "2006"
             ],
             {
              "frame": {
               "duration": 0,
               "redraw": true
              },
              "fromcurrent": true,
              "mode": "immediate",
              "transition": {
               "duration": 0,
               "easing": "linear"
              }
             }
            ],
            "label": "2006",
            "method": "animate"
           },
           {
            "args": [
             [
              "2007"
             ],
             {
              "frame": {
               "duration": 0,
               "redraw": true
              },
              "fromcurrent": true,
              "mode": "immediate",
              "transition": {
               "duration": 0,
               "easing": "linear"
              }
             }
            ],
            "label": "2007",
            "method": "animate"
           },
           {
            "args": [
             [
              "2008"
             ],
             {
              "frame": {
               "duration": 0,
               "redraw": true
              },
              "fromcurrent": true,
              "mode": "immediate",
              "transition": {
               "duration": 0,
               "easing": "linear"
              }
             }
            ],
            "label": "2008",
            "method": "animate"
           },
           {
            "args": [
             [
              "2009"
             ],
             {
              "frame": {
               "duration": 0,
               "redraw": true
              },
              "fromcurrent": true,
              "mode": "immediate",
              "transition": {
               "duration": 0,
               "easing": "linear"
              }
             }
            ],
            "label": "2009",
            "method": "animate"
           },
           {
            "args": [
             [
              "2010"
             ],
             {
              "frame": {
               "duration": 0,
               "redraw": true
              },
              "fromcurrent": true,
              "mode": "immediate",
              "transition": {
               "duration": 0,
               "easing": "linear"
              }
             }
            ],
            "label": "2010",
            "method": "animate"
           },
           {
            "args": [
             [
              "2011"
             ],
             {
              "frame": {
               "duration": 0,
               "redraw": true
              },
              "fromcurrent": true,
              "mode": "immediate",
              "transition": {
               "duration": 0,
               "easing": "linear"
              }
             }
            ],
            "label": "2011",
            "method": "animate"
           },
           {
            "args": [
             [
              "2012"
             ],
             {
              "frame": {
               "duration": 0,
               "redraw": true
              },
              "fromcurrent": true,
              "mode": "immediate",
              "transition": {
               "duration": 0,
               "easing": "linear"
              }
             }
            ],
            "label": "2012",
            "method": "animate"
           },
           {
            "args": [
             [
              "2013"
             ],
             {
              "frame": {
               "duration": 0,
               "redraw": true
              },
              "fromcurrent": true,
              "mode": "immediate",
              "transition": {
               "duration": 0,
               "easing": "linear"
              }
             }
            ],
            "label": "2013",
            "method": "animate"
           },
           {
            "args": [
             [
              "2014"
             ],
             {
              "frame": {
               "duration": 0,
               "redraw": true
              },
              "fromcurrent": true,
              "mode": "immediate",
              "transition": {
               "duration": 0,
               "easing": "linear"
              }
             }
            ],
            "label": "2014",
            "method": "animate"
           },
           {
            "args": [
             [
              "2015"
             ],
             {
              "frame": {
               "duration": 0,
               "redraw": true
              },
              "fromcurrent": true,
              "mode": "immediate",
              "transition": {
               "duration": 0,
               "easing": "linear"
              }
             }
            ],
            "label": "2015",
            "method": "animate"
           },
           {
            "args": [
             [
              "2016"
             ],
             {
              "frame": {
               "duration": 0,
               "redraw": true
              },
              "fromcurrent": true,
              "mode": "immediate",
              "transition": {
               "duration": 0,
               "easing": "linear"
              }
             }
            ],
            "label": "2016",
            "method": "animate"
           },
           {
            "args": [
             [
              "2017"
             ],
             {
              "frame": {
               "duration": 0,
               "redraw": true
              },
              "fromcurrent": true,
              "mode": "immediate",
              "transition": {
               "duration": 0,
               "easing": "linear"
              }
             }
            ],
            "label": "2017",
            "method": "animate"
           },
           {
            "args": [
             [
              "2018"
             ],
             {
              "frame": {
               "duration": 0,
               "redraw": true
              },
              "fromcurrent": true,
              "mode": "immediate",
              "transition": {
               "duration": 0,
               "easing": "linear"
              }
             }
            ],
            "label": "2018",
            "method": "animate"
           },
           {
            "args": [
             [
              "2019"
             ],
             {
              "frame": {
               "duration": 0,
               "redraw": true
              },
              "fromcurrent": true,
              "mode": "immediate",
              "transition": {
               "duration": 0,
               "easing": "linear"
              }
             }
            ],
            "label": "2019",
            "method": "animate"
           },
           {
            "args": [
             [
              "2020"
             ],
             {
              "frame": {
               "duration": 0,
               "redraw": true
              },
              "fromcurrent": true,
              "mode": "immediate",
              "transition": {
               "duration": 0,
               "easing": "linear"
              }
             }
            ],
            "label": "2020",
            "method": "animate"
           },
           {
            "args": [
             [
              "2021"
             ],
             {
              "frame": {
               "duration": 0,
               "redraw": true
              },
              "fromcurrent": true,
              "mode": "immediate",
              "transition": {
               "duration": 0,
               "easing": "linear"
              }
             }
            ],
            "label": "2021",
            "method": "animate"
           },
           {
            "args": [
             [
              "2022"
             ],
             {
              "frame": {
               "duration": 0,
               "redraw": true
              },
              "fromcurrent": true,
              "mode": "immediate",
              "transition": {
               "duration": 0,
               "easing": "linear"
              }
             }
            ],
            "label": "2022",
            "method": "animate"
           },
           {
            "args": [
             [
              "2023"
             ],
             {
              "frame": {
               "duration": 0,
               "redraw": true
              },
              "fromcurrent": true,
              "mode": "immediate",
              "transition": {
               "duration": 0,
               "easing": "linear"
              }
             }
            ],
            "label": "2023",
            "method": "animate"
           }
          ],
          "x": 0.1,
          "xanchor": "left",
          "y": 0,
          "yanchor": "top"
         }
        ],
        "template": {
         "data": {
          "bar": [
           {
            "error_x": {
             "color": "#2a3f5f"
            },
            "error_y": {
             "color": "#2a3f5f"
            },
            "marker": {
             "line": {
              "color": "#E5ECF6",
              "width": 0.5
             },
             "pattern": {
              "fillmode": "overlay",
              "size": 10,
              "solidity": 0.2
             }
            },
            "type": "bar"
           }
          ],
          "barpolar": [
           {
            "marker": {
             "line": {
              "color": "#E5ECF6",
              "width": 0.5
             },
             "pattern": {
              "fillmode": "overlay",
              "size": 10,
              "solidity": 0.2
             }
            },
            "type": "barpolar"
           }
          ],
          "carpet": [
           {
            "aaxis": {
             "endlinecolor": "#2a3f5f",
             "gridcolor": "white",
             "linecolor": "white",
             "minorgridcolor": "white",
             "startlinecolor": "#2a3f5f"
            },
            "baxis": {
             "endlinecolor": "#2a3f5f",
             "gridcolor": "white",
             "linecolor": "white",
             "minorgridcolor": "white",
             "startlinecolor": "#2a3f5f"
            },
            "type": "carpet"
           }
          ],
          "choropleth": [
           {
            "colorbar": {
             "outlinewidth": 0,
             "ticks": ""
            },
            "type": "choropleth"
           }
          ],
          "contour": [
           {
            "colorbar": {
             "outlinewidth": 0,
             "ticks": ""
            },
            "colorscale": [
             [
              0,
              "#0d0887"
             ],
             [
              0.1111111111111111,
              "#46039f"
             ],
             [
              0.2222222222222222,
              "#7201a8"
             ],
             [
              0.3333333333333333,
              "#9c179e"
             ],
             [
              0.4444444444444444,
              "#bd3786"
             ],
             [
              0.5555555555555556,
              "#d8576b"
             ],
             [
              0.6666666666666666,
              "#ed7953"
             ],
             [
              0.7777777777777778,
              "#fb9f3a"
             ],
             [
              0.8888888888888888,
              "#fdca26"
             ],
             [
              1,
              "#f0f921"
             ]
            ],
            "type": "contour"
           }
          ],
          "contourcarpet": [
           {
            "colorbar": {
             "outlinewidth": 0,
             "ticks": ""
            },
            "type": "contourcarpet"
           }
          ],
          "heatmap": [
           {
            "colorbar": {
             "outlinewidth": 0,
             "ticks": ""
            },
            "colorscale": [
             [
              0,
              "#0d0887"
             ],
             [
              0.1111111111111111,
              "#46039f"
             ],
             [
              0.2222222222222222,
              "#7201a8"
             ],
             [
              0.3333333333333333,
              "#9c179e"
             ],
             [
              0.4444444444444444,
              "#bd3786"
             ],
             [
              0.5555555555555556,
              "#d8576b"
             ],
             [
              0.6666666666666666,
              "#ed7953"
             ],
             [
              0.7777777777777778,
              "#fb9f3a"
             ],
             [
              0.8888888888888888,
              "#fdca26"
             ],
             [
              1,
              "#f0f921"
             ]
            ],
            "type": "heatmap"
           }
          ],
          "histogram": [
           {
            "marker": {
             "pattern": {
              "fillmode": "overlay",
              "size": 10,
              "solidity": 0.2
             }
            },
            "type": "histogram"
           }
          ],
          "histogram2d": [
           {
            "colorbar": {
             "outlinewidth": 0,
             "ticks": ""
            },
            "colorscale": [
             [
              0,
              "#0d0887"
             ],
             [
              0.1111111111111111,
              "#46039f"
             ],
             [
              0.2222222222222222,
              "#7201a8"
             ],
             [
              0.3333333333333333,
              "#9c179e"
             ],
             [
              0.4444444444444444,
              "#bd3786"
             ],
             [
              0.5555555555555556,
              "#d8576b"
             ],
             [
              0.6666666666666666,
              "#ed7953"
             ],
             [
              0.7777777777777778,
              "#fb9f3a"
             ],
             [
              0.8888888888888888,
              "#fdca26"
             ],
             [
              1,
              "#f0f921"
             ]
            ],
            "type": "histogram2d"
           }
          ],
          "histogram2dcontour": [
           {
            "colorbar": {
             "outlinewidth": 0,
             "ticks": ""
            },
            "colorscale": [
             [
              0,
              "#0d0887"
             ],
             [
              0.1111111111111111,
              "#46039f"
             ],
             [
              0.2222222222222222,
              "#7201a8"
             ],
             [
              0.3333333333333333,
              "#9c179e"
             ],
             [
              0.4444444444444444,
              "#bd3786"
             ],
             [
              0.5555555555555556,
              "#d8576b"
             ],
             [
              0.6666666666666666,
              "#ed7953"
             ],
             [
              0.7777777777777778,
              "#fb9f3a"
             ],
             [
              0.8888888888888888,
              "#fdca26"
             ],
             [
              1,
              "#f0f921"
             ]
            ],
            "type": "histogram2dcontour"
           }
          ],
          "mesh3d": [
           {
            "colorbar": {
             "outlinewidth": 0,
             "ticks": ""
            },
            "type": "mesh3d"
           }
          ],
          "parcoords": [
           {
            "line": {
             "colorbar": {
              "outlinewidth": 0,
              "ticks": ""
             }
            },
            "type": "parcoords"
           }
          ],
          "pie": [
           {
            "automargin": true,
            "type": "pie"
           }
          ],
          "scatter": [
           {
            "fillpattern": {
             "fillmode": "overlay",
             "size": 10,
             "solidity": 0.2
            },
            "type": "scatter"
           }
          ],
          "scatter3d": [
           {
            "line": {
             "colorbar": {
              "outlinewidth": 0,
              "ticks": ""
             }
            },
            "marker": {
             "colorbar": {
              "outlinewidth": 0,
              "ticks": ""
             }
            },
            "type": "scatter3d"
           }
          ],
          "scattercarpet": [
           {
            "marker": {
             "colorbar": {
              "outlinewidth": 0,
              "ticks": ""
             }
            },
            "type": "scattercarpet"
           }
          ],
          "scattergeo": [
           {
            "marker": {
             "colorbar": {
              "outlinewidth": 0,
              "ticks": ""
             }
            },
            "type": "scattergeo"
           }
          ],
          "scattergl": [
           {
            "marker": {
             "colorbar": {
              "outlinewidth": 0,
              "ticks": ""
             }
            },
            "type": "scattergl"
           }
          ],
          "scattermap": [
           {
            "marker": {
             "colorbar": {
              "outlinewidth": 0,
              "ticks": ""
             }
            },
            "type": "scattermap"
           }
          ],
          "scattermapbox": [
           {
            "marker": {
             "colorbar": {
              "outlinewidth": 0,
              "ticks": ""
             }
            },
            "type": "scattermapbox"
           }
          ],
          "scatterpolar": [
           {
            "marker": {
             "colorbar": {
              "outlinewidth": 0,
              "ticks": ""
             }
            },
            "type": "scatterpolar"
           }
          ],
          "scatterpolargl": [
           {
            "marker": {
             "colorbar": {
              "outlinewidth": 0,
              "ticks": ""
             }
            },
            "type": "scatterpolargl"
           }
          ],
          "scatterternary": [
           {
            "marker": {
             "colorbar": {
              "outlinewidth": 0,
              "ticks": ""
             }
            },
            "type": "scatterternary"
           }
          ],
          "surface": [
           {
            "colorbar": {
             "outlinewidth": 0,
             "ticks": ""
            },
            "colorscale": [
             [
              0,
              "#0d0887"
             ],
             [
              0.1111111111111111,
              "#46039f"
             ],
             [
              0.2222222222222222,
              "#7201a8"
             ],
             [
              0.3333333333333333,
              "#9c179e"
             ],
             [
              0.4444444444444444,
              "#bd3786"
             ],
             [
              0.5555555555555556,
              "#d8576b"
             ],
             [
              0.6666666666666666,
              "#ed7953"
             ],
             [
              0.7777777777777778,
              "#fb9f3a"
             ],
             [
              0.8888888888888888,
              "#fdca26"
             ],
             [
              1,
              "#f0f921"
             ]
            ],
            "type": "surface"
           }
          ],
          "table": [
           {
            "cells": {
             "fill": {
              "color": "#EBF0F8"
             },
             "line": {
              "color": "white"
             }
            },
            "header": {
             "fill": {
              "color": "#C8D4E3"
             },
             "line": {
              "color": "white"
             }
            },
            "type": "table"
           }
          ]
         },
         "layout": {
          "annotationdefaults": {
           "arrowcolor": "#2a3f5f",
           "arrowhead": 0,
           "arrowwidth": 1
          },
          "autotypenumbers": "strict",
          "coloraxis": {
           "colorbar": {
            "outlinewidth": 0,
            "ticks": ""
           }
          },
          "colorscale": {
           "diverging": [
            [
             0,
             "#8e0152"
            ],
            [
             0.1,
             "#c51b7d"
            ],
            [
             0.2,
             "#de77ae"
            ],
            [
             0.3,
             "#f1b6da"
            ],
            [
             0.4,
             "#fde0ef"
            ],
            [
             0.5,
             "#f7f7f7"
            ],
            [
             0.6,
             "#e6f5d0"
            ],
            [
             0.7,
             "#b8e186"
            ],
            [
             0.8,
             "#7fbc41"
            ],
            [
             0.9,
             "#4d9221"
            ],
            [
             1,
             "#276419"
            ]
           ],
           "sequential": [
            [
             0,
             "#0d0887"
            ],
            [
             0.1111111111111111,
             "#46039f"
            ],
            [
             0.2222222222222222,
             "#7201a8"
            ],
            [
             0.3333333333333333,
             "#9c179e"
            ],
            [
             0.4444444444444444,
             "#bd3786"
            ],
            [
             0.5555555555555556,
             "#d8576b"
            ],
            [
             0.6666666666666666,
             "#ed7953"
            ],
            [
             0.7777777777777778,
             "#fb9f3a"
            ],
            [
             0.8888888888888888,
             "#fdca26"
            ],
            [
             1,
             "#f0f921"
            ]
           ],
           "sequentialminus": [
            [
             0,
             "#0d0887"
            ],
            [
             0.1111111111111111,
             "#46039f"
            ],
            [
             0.2222222222222222,
             "#7201a8"
            ],
            [
             0.3333333333333333,
             "#9c179e"
            ],
            [
             0.4444444444444444,
             "#bd3786"
            ],
            [
             0.5555555555555556,
             "#d8576b"
            ],
            [
             0.6666666666666666,
             "#ed7953"
            ],
            [
             0.7777777777777778,
             "#fb9f3a"
            ],
            [
             0.8888888888888888,
             "#fdca26"
            ],
            [
             1,
             "#f0f921"
            ]
           ]
          },
          "colorway": [
           "#636efa",
           "#EF553B",
           "#00cc96",
           "#ab63fa",
           "#FFA15A",
           "#19d3f3",
           "#FF6692",
           "#B6E880",
           "#FF97FF",
           "#FECB52"
          ],
          "font": {
           "color": "#2a3f5f"
          },
          "geo": {
           "bgcolor": "white",
           "lakecolor": "white",
           "landcolor": "#E5ECF6",
           "showlakes": true,
           "showland": true,
           "subunitcolor": "white"
          },
          "hoverlabel": {
           "align": "left"
          },
          "hovermode": "closest",
          "mapbox": {
           "style": "light"
          },
          "paper_bgcolor": "white",
          "plot_bgcolor": "#E5ECF6",
          "polar": {
           "angularaxis": {
            "gridcolor": "white",
            "linecolor": "white",
            "ticks": ""
           },
           "bgcolor": "#E5ECF6",
           "radialaxis": {
            "gridcolor": "white",
            "linecolor": "white",
            "ticks": ""
           }
          },
          "scene": {
           "xaxis": {
            "backgroundcolor": "#E5ECF6",
            "gridcolor": "white",
            "gridwidth": 2,
            "linecolor": "white",
            "showbackground": true,
            "ticks": "",
            "zerolinecolor": "white"
           },
           "yaxis": {
            "backgroundcolor": "#E5ECF6",
            "gridcolor": "white",
            "gridwidth": 2,
            "linecolor": "white",
            "showbackground": true,
            "ticks": "",
            "zerolinecolor": "white"
           },
           "zaxis": {
            "backgroundcolor": "#E5ECF6",
            "gridcolor": "white",
            "gridwidth": 2,
            "linecolor": "white",
            "showbackground": true,
            "ticks": "",
            "zerolinecolor": "white"
           }
          },
          "shapedefaults": {
           "line": {
            "color": "#2a3f5f"
           }
          },
          "ternary": {
           "aaxis": {
            "gridcolor": "white",
            "linecolor": "white",
            "ticks": ""
           },
           "baxis": {
            "gridcolor": "white",
            "linecolor": "white",
            "ticks": ""
           },
           "bgcolor": "#E5ECF6",
           "caxis": {
            "gridcolor": "white",
            "linecolor": "white",
            "ticks": ""
           }
          },
          "title": {
           "x": 0.05
          },
          "xaxis": {
           "automargin": true,
           "gridcolor": "white",
           "linecolor": "white",
           "ticks": "",
           "title": {
            "standoff": 15
           },
           "zerolinecolor": "white",
           "zerolinewidth": 2
          },
          "yaxis": {
           "automargin": true,
           "gridcolor": "white",
           "linecolor": "white",
           "ticks": "",
           "title": {
            "standoff": 15
           },
           "zerolinecolor": "white",
           "zerolinewidth": 2
          }
         }
        },
        "title": {
         "text": "World Happiness Report - Life Ladder"
        },
        "updatemenus": [
         {
          "buttons": [
           {
            "args": [
             null,
             {
              "frame": {
               "duration": 500,
               "redraw": true
              },
              "fromcurrent": true,
              "mode": "immediate",
              "transition": {
               "duration": 500,
               "easing": "linear"
              }
             }
            ],
            "label": "&#9654;",
            "method": "animate"
           },
           {
            "args": [
             [
              null
             ],
             {
              "frame": {
               "duration": 0,
               "redraw": true
              },
              "fromcurrent": true,
              "mode": "immediate",
              "transition": {
               "duration": 0,
               "easing": "linear"
              }
             }
            ],
            "label": "&#9724;",
            "method": "animate"
           }
          ],
          "direction": "left",
          "pad": {
           "r": 10,
           "t": 70
          },
          "showactive": false,
          "type": "buttons",
          "x": 0.1,
          "xanchor": "right",
          "y": 0,
          "yanchor": "top"
         }
        ]
       }
      }
     },
     "metadata": {},
     "output_type": "display_data"
    }
   ],
   "source": [
    "# Prepare the data\n",
    "world_happiness_data['year'] = world_happiness_data['year'].astype(int)\n",
    "world_happiness_data = world_happiness_data.sort_values('year')  # Sort by year ascending\n",
    "\n",
    "# Create the figure\n",
    "fig = px.choropleth(world_happiness_data,\n",
    "                    locations=\"Country name\",\n",
    "                    locationmode='country names',\n",
    "                    color=\"Life Ladder\",\n",
    "                    hover_name=\"Country name\",\n",
    "                    animation_frame=\"year\",\n",
    "                    color_continuous_scale=px.colors.sequential.Plasma,\n",
    "                    range_color=(world_happiness_data['Life Ladder'].min(), world_happiness_data['Life Ladder'].max()),\n",
    "                    labels={'Life Ladder': 'Life Ladder'},\n",
    "                    )\n",
    "\n",
    "# Customize the map appearance\n",
    "fig.update_geos(\n",
    "    landcolor='gray',\n",
    "    showcountries=True,\n",
    "    countrycolor='darkgray',\n",
    "    showframe=False,\n",
    "    projection_type='equirectangular'\n",
    ")\n",
    "\n",
    "# Customize layout\n",
    "fig.update_layout(\n",
    "    title_text='World Happiness Report - Life Ladder',\n",
    "    coloraxis_colorbar=dict(\n",
    "        title='Life Ladder',\n",
    "        thickness=20,\n",
    "        len=0.75\n",
    "    ),\n",
    "    margin=dict(l=0, r=0, t=40, b=0)\n",
    ")\n",
    "\n",
    "# Slow down animation (optional)\n",
    "fig.layout.updatemenus[0].buttons[0].args[1]['frame']['duration'] = 500\n",
    "\n",
    "fig.show()"
   ]
  },
  {
   "cell_type": "code",
   "execution_count": null,
   "metadata": {},
   "outputs": [],
   "source": []
  },
  {
   "cell_type": "code",
   "execution_count": 12,
   "metadata": {},
   "outputs": [
    {
     "data": {
      "application/vnd.plotly.v1+json": {
       "config": {
        "plotlyServerURL": "https://plot.ly"
       },
       "data": [
        {
         "alignmentgroup": "True",
         "customdata": [
          [
           "Australia"
          ],
          [
           "Austria"
          ],
          [
           "Mongolia"
          ],
          [
           "Montenegro"
          ],
          [
           "Zambia"
          ],
          [
           "Algeria"
          ],
          [
           "Congo (Brazzaville)"
          ],
          [
           "Ivory Coast"
          ],
          [
           "Italy"
          ],
          [
           "Argentina"
          ],
          [
           "Cyprus"
          ],
          [
           "Venezuela"
          ],
          [
           "Romania"
          ],
          [
           "Portugal"
          ],
          [
           "Morocco"
          ],
          [
           "Poland"
          ],
          [
           "Zimbabwe"
          ],
          [
           "Slovakia"
          ],
          [
           "Kosovo"
          ],
          [
           "Guinea"
          ],
          [
           "Benin"
          ],
          [
           "Nepal"
          ],
          [
           "Mauritius"
          ],
          [
           "Bosnia and Herzegovina"
          ],
          [
           "Germany"
          ],
          [
           "Greece"
          ],
          [
           "Ecuador"
          ],
          [
           "Norway"
          ],
          [
           "North Macedonia"
          ],
          [
           "Lebanon"
          ],
          [
           "Tunisia"
          ],
          [
           "Serbia"
          ],
          [
           "Malaysia"
          ],
          [
           "China"
          ],
          [
           "Denmark"
          ],
          [
           "Sweden"
          ],
          [
           "Belgium"
          ],
          [
           "Ukraine"
          ],
          [
           "Bulgaria"
          ],
          [
           "Uganda"
          ],
          [
           "Brazil"
          ],
          [
           "Georgia"
          ],
          [
           "Ghana"
          ],
          [
           "Slovenia"
          ],
          [
           "United Arab Emirates"
          ],
          [
           "Bolivia"
          ],
          [
           "United States"
          ],
          [
           "United Kingdom"
          ],
          [
           "Kenya"
          ],
          [
           "Paraguay"
          ],
          [
           "Senegal"
          ],
          [
           "Hong Kong S.A.R. of China"
          ],
          [
           "Iceland"
          ],
          [
           "Namibia"
          ],
          [
           "Thailand"
          ],
          [
           "Colombia"
          ],
          [
           "Tanzania"
          ],
          [
           "Nigeria"
          ],
          [
           "Dominican Republic"
          ],
          [
           "Myanmar"
          ],
          [
           "Pakistan"
          ],
          [
           "Kyrgyzstan"
          ],
          [
           "Chile"
          ],
          [
           "El Salvador"
          ],
          [
           "Sri Lanka"
          ],
          [
           "Egypt"
          ],
          [
           "Mexico"
          ],
          [
           "Hungary"
          ],
          [
           "Indonesia"
          ],
          [
           "Saudi Arabia"
          ],
          [
           "India"
          ],
          [
           "Kazakhstan"
          ],
          [
           "Uzbekistan"
          ],
          [
           "Bangladesh"
          ],
          [
           "South Korea"
          ],
          [
           "South Africa"
          ],
          [
           "Gabon"
          ],
          [
           "Malta"
          ],
          [
           "Netherlands"
          ],
          [
           "Burkina Faso"
          ],
          [
           "Uruguay"
          ],
          [
           "Peru"
          ],
          [
           "Nicaragua"
          ],
          [
           "Taiwan Province of China"
          ],
          [
           "Switzerland"
          ],
          [
           "Czechia"
          ],
          [
           "Jordan"
          ],
          [
           "Laos"
          ],
          [
           "Mali"
          ],
          [
           "New Zealand"
          ],
          [
           "Canada"
          ],
          [
           "Estonia"
          ],
          [
           "Finland"
          ],
          [
           "Spain"
          ],
          [
           "France"
          ],
          [
           "Iran"
          ],
          [
           "Russia"
          ],
          [
           "Ireland"
          ],
          [
           "Iraq"
          ],
          [
           "Moldova"
          ],
          [
           "Bahrain"
          ],
          [
           "Philippines"
          ],
          [
           "Vietnam"
          ],
          [
           "Jamaica"
          ],
          [
           "Ethiopia"
          ],
          [
           "Cameroon"
          ],
          [
           "Türkiye"
          ],
          [
           "Cambodia"
          ],
          [
           "Latvia"
          ],
          [
           "Japan"
          ],
          [
           "Israel"
          ],
          [
           "Croatia"
          ],
          [
           "Tajikistan"
          ],
          [
           "Costa Rica"
          ],
          [
           "Lithuania"
          ],
          [
           "Albania"
          ]
         ],
         "hovertemplate": "year=%{x}<br>Life Ladder=%{y}<br>Country name=%{customdata[0]}<extra></extra>",
         "legendgroup": "2020",
         "marker": {
          "color": "#636efa"
         },
         "name": "2020",
         "notched": false,
         "offsetgroup": "2020",
         "orientation": "v",
         "showlegend": true,
         "type": "box",
         "x": {
          "bdata": "5AfkB+QH5AfkB+QH5AfkB+QH5AfkB+QH5AfkB+QH5AfkB+QH5AfkB+QH5AfkB+QH5AfkB+QH5AfkB+QH5AfkB+QH5AfkB+QH5AfkB+QH5AfkB+QH5AfkB+QH5AfkB+QH5AfkB+QH5AfkB+QH5AfkB+QH5AfkB+QH5AfkB+QH5AfkB+QH5AfkB+QH5AfkB+QH5AfkB+QH5AfkB+QH5AfkB+QH5AfkB+QH5AfkB+QH5AfkB+QH5AfkB+QH5AfkB+QH5AfkB+QH5AfkB+QH5AfkB+QH5AfkB+QH5AfkB+QH5AfkB+QH5AfkBw==",
          "dtype": "i2"
         },
         "x0": " ",
         "xaxis": "x",
         "y": {
          "bdata": "AAAAIKqMHEAAAADgnNocQAAAAECjCxhAAAAAoH7jFkAAAACgGloTQAAAAOBCwBVAAAAA4AlRFEAAAADgqAYVQAAAAKAT9BlAAAAAQC6aF0AAAADACwoZQAAAAACaSxJAAAAAYPwjG0AAAAAgOBIXQAAAAGDhNRNAAAAAYM2OGEAAAABgRkcJQAAAAICOExpAAAAA4HotGUAAAAAggOMTQAAAACCIoRFAAAAAAP3tF0AAAADgqg8YQAAAACAyEBZAAAAAIGI/HUAAAADAhCYXQAAAAAD4ahVAAAAAQP4oHUAAAADA8zYUQAAAAODsEQVAAAAAwFnsEkAAAAAgiyoYQAAAACCKDhhAAAAAAJIVF0AAAACA+w4eQAAAAKDiQR1AAAAAIORaG0AAAADgJRQVQAAAAIARZBZAAAAAoEqQEkAAAADgWXAYQAAAAEAZfhRAAAAAoCZHFUAAAACAKtkZQAAAAMBk1RlAAAAAYK48FkAAAAAgwxwcQAAAAGBVMRtAAAAAwLMvEkAAAABgRwEWQAAAAKDvBhNAAAAAAG4uFUAAAAAgTU0eQAAAAKDVzRFAAAAAAMaJF0AAAAAAMtYWQAAAAMAUSQ5AAAAA4AQDFkAAAACgc6wUQAAAAIC3uRFAAAAAwPF+EkAAAACAk/8YQAAAACBCmhhAAAAAYAPZFUAAAABALB0TQAAAAAC84xFAAAAAwFzbF0AAAACA9iYYQAAAAOAFUBNAAAAAwAQ9GkAAAAAAPeUQQAAAAMBOrBhAAAAA4CJeF0AAAADgtB4VQAAAAGC4KxdAAAAAIIbJE0AAAADA04sTQAAAACCWoBhAAAAAAI4EHkAAAADA/Y4SQAAAACAdPRlAAAAAgD76E0AAAACAxiUZQAAAAOAXARtAAAAAQKMIHkAAAAAgn5YbQAAAAGA/YBBAAAAAYDcjFUAAAADg8BMRQAAAACCPBx1AAAAAoIAZHEAAAADgbM8ZQAAAAMCxjh9AAAAAQDoCGkAAAAAgQNsaQAAAAOBGdRNAAAAAAC37FUAAAADgxCMcQAAAAGACJBNAAAAAoBs/F0AAAAAAVbEYQAAAAMB+URRAAAAAIHDZFUAAAADAMLMVQAAAAKBmMhJAAAAAIN32FEAAAABAO3ITQAAAAGAIghFAAAAAQIHqGEAAAABgy3gYQAAAAECbxxxAAAAAIC8IGkAAAABAXH4VQAAAAICYWhlAAAAAoMWQGUAAAADgqnUVQA==",
          "dtype": "f8"
         },
         "y0": " ",
         "yaxis": "y"
        },
        {
         "alignmentgroup": "True",
         "customdata": [
          [
           "Afghanistan"
          ],
          [
           "Zambia"
          ],
          [
           "Algeria"
          ],
          [
           "Congo (Brazzaville)"
          ],
          [
           "Italy"
          ],
          [
           "Argentina"
          ],
          [
           "Vietnam"
          ],
          [
           "Jamaica"
          ],
          [
           "Cameroon"
          ],
          [
           "Türkiye"
          ],
          [
           "Cambodia"
          ],
          [
           "Latvia"
          ],
          [
           "Laos"
          ],
          [
           "Mali"
          ],
          [
           "Canada"
          ],
          [
           "Spain"
          ],
          [
           "France"
          ],
          [
           "South Korea"
          ],
          [
           "Finland"
          ],
          [
           "South Africa"
          ],
          [
           "Gabon"
          ],
          [
           "Malta"
          ],
          [
           "Netherlands"
          ],
          [
           "Burkina Faso"
          ],
          [
           "Kyrgyzstan"
          ],
          [
           "Pakistan"
          ],
          [
           "Chile"
          ],
          [
           "Malaysia"
          ],
          [
           "El Salvador"
          ],
          [
           "Sri Lanka"
          ],
          [
           "Egypt"
          ],
          [
           "Estonia"
          ],
          [
           "Bulgaria"
          ],
          [
           "Uganda"
          ],
          [
           "Brazil"
          ],
          [
           "Georgia"
          ],
          [
           "Ghana"
          ],
          [
           "Slovenia"
          ],
          [
           "United Arab Emirates"
          ],
          [
           "Bolivia"
          ],
          [
           "Ukraine"
          ],
          [
           "Germany"
          ],
          [
           "Greece"
          ],
          [
           "Dominican Republic"
          ],
          [
           "Norway"
          ],
          [
           "North Macedonia"
          ],
          [
           "Lebanon"
          ],
          [
           "Tunisia"
          ],
          [
           "Slovakia"
          ],
          [
           "Singapore"
          ],
          [
           "Kosovo"
          ],
          [
           "Panama"
          ],
          [
           "Nepal"
          ],
          [
           "Mauritius"
          ],
          [
           "Bosnia and Herzegovina"
          ],
          [
           "Sierra Leone"
          ],
          [
           "Honduras"
          ],
          [
           "Serbia"
          ],
          [
           "Malawi"
          ],
          [
           "New Zealand"
          ],
          [
           "China"
          ],
          [
           "Togo"
          ],
          [
           "Sweden"
          ],
          [
           "Ecuador"
          ],
          [
           "Guinea"
          ],
          [
           "United States"
          ],
          [
           "United Kingdom"
          ],
          [
           "Benin"
          ],
          [
           "Kenya"
          ],
          [
           "Paraguay"
          ],
          [
           "Kazakhstan"
          ],
          [
           "Hong Kong S.A.R. of China"
          ],
          [
           "Senegal"
          ],
          [
           "Iceland"
          ],
          [
           "Hungary"
          ],
          [
           "Namibia"
          ],
          [
           "Myanmar"
          ],
          [
           "Colombia"
          ],
          [
           "Tanzania"
          ],
          [
           "Nigeria"
          ],
          [
           "Denmark"
          ],
          [
           "Mexico"
          ],
          [
           "Belgium"
          ],
          [
           "Saudi Arabia"
          ],
          [
           "India"
          ],
          [
           "Uzbekistan"
          ],
          [
           "Bangladesh"
          ],
          [
           "Uruguay"
          ],
          [
           "Peru"
          ],
          [
           "Jordan"
          ],
          [
           "Nicaragua"
          ],
          [
           "Taiwan Province of China"
          ],
          [
           "Croatia"
          ],
          [
           "Switzerland"
          ],
          [
           "Czechia"
          ],
          [
           "Thailand"
          ],
          [
           "Iran"
          ],
          [
           "Russia"
          ],
          [
           "Indonesia"
          ],
          [
           "Iraq"
          ],
          [
           "Moldova"
          ],
          [
           "Mozambique"
          ],
          [
           "Philippines"
          ],
          [
           "Japan"
          ],
          [
           "Israel"
          ],
          [
           "Armenia"
          ],
          [
           "Tajikistan"
          ],
          [
           "Costa Rica"
          ],
          [
           "Lithuania"
          ],
          [
           "Cyprus"
          ],
          [
           "Austria"
          ],
          [
           "Venezuela"
          ],
          [
           "Australia"
          ],
          [
           "Romania"
          ],
          [
           "Ireland"
          ],
          [
           "Portugal"
          ],
          [
           "Ivory Coast"
          ],
          [
           "Morocco"
          ],
          [
           "Mongolia"
          ],
          [
           "Poland"
          ],
          [
           "Zimbabwe"
          ],
          [
           "Albania"
          ]
         ],
         "hovertemplate": "year=%{x}<br>Life Ladder=%{y}<br>Country name=%{customdata[0]}<extra></extra>",
         "legendgroup": "2021",
         "marker": {
          "color": "#EF553B"
         },
         "name": "2021",
         "notched": false,
         "offsetgroup": "2021",
         "orientation": "v",
         "showlegend": true,
         "type": "box",
         "x": {
          "bdata": "5QflB+UH5QflB+UH5QflB+UH5QflB+UH5QflB+UH5QflB+UH5QflB+UH5QflB+UH5QflB+UH5QflB+UH5QflB+UH5QflB+UH5QflB+UH5QflB+UH5QflB+UH5QflB+UH5QflB+UH5QflB+UH5QflB+UH5QflB+UH5QflB+UH5QflB+UH5QflB+UH5QflB+UH5QflB+UH5QflB+UH5QflB+UH5QflB+UH5QflB+UH5QflB+UH5QflB+UH5QflB+UH5QflB+UH5QflB+UH5QflB+UH5QflB+UH5QflB+UH5QflB+UH5QflB+UH5QflB+UH5QflBw==",
          "dtype": "i2"
         },
         "x0": " ",
         "xaxis": "x",
         "y": {
          "bdata": "AAAAoP98A0AAAADgQKgIQAAAAOA53hRAAAAAwJ+uE0AAAABg8t0ZQAAAAOATohdAAAAAQDcpFkAAAABgQ0EXQAAAAIDa2RNAAAAAYHB3EUAAAAAAdzgSQAAAAKCQaRlAAAAAIMK0E0AAAABgz3MQQAAAAGD7wRtAAAAAwOHgGUAAAACg9J8aQAAAAIBzcxhAAAAAYHEtH0AAAACABWUWQAAAAIA7TRRAAAAAQF3GGUAAAADgsEEdQAAAAMDCihJAAAAAgDpBFkAAAADAhPIRQAAAAAAWvhlAAAAAIKQKGEAAAABAzbkZQAAAAADuaRBAAAAAoF0aEEAAAACgNTcaQAAAAGDQrxVAAAAAIOzlEEAAAABAMQoYQAAAAOAkpRNAAAAAgAWDEUAAAACAfQsbQAAAAECp7hpAAAAAYEVGFkAAAADg0z4VQAAAAOChBBtAAAAAILdqGEAAAAAgRR8YQAAAAGBAch1AAAAAgJUjFkAAAACgM24BQAAAAEB5/xFAAAAAQIysGUAAAABgzFgaQAAAAEAQmBpAAAAAoAs2GkAAAABAPH0SQAAAACDmyxdAAAAAgMv+FkAAAAAA4LYNQAAAAABddBhAAAAAYCf7GEAAAABgDxUNQAAAAED7ixxAAAAAwJJzF0AAAADAayUQQAAAAKDSwR1AAAAAIE+9FUAAAABgNccTQAAAACAb1htAAAAA4MR3G0AAAAAARvkRQAAAAKCw2xFAAAAAIFlNFkAAAACA3QkZQAAAAKBESRVAAAAAoH+cE0AAAAAALUIeQAAAAGAW6BhAAAAAAP/2EUAAAACgk0ERQAAAAODqKBVAAAAAoM1xDUAAAACgxOoRQAAAAGCEyx5AAAAAYIf2F0AAAAAg64YbQAAAAED7xxlAAAAAwE13DEAAAABgwb0YQAAAAEBHfhBAAAAAwL0BGkAAAABA+8YWQAAAAADwRQ9AAAAAIKNhGEAAAACAqvwYQAAAAGCsJRlAAAAAYIlPHUAAAADgHcUbQAAAAEBpjRZAAAAAwLgmE0AAAAAABcsVQAAAAMCRuxVAAAAAgOpfFEAAAADgENYXQAAAAEDFthRAAAAAIDjcF0AAAABAhF0YQAAAAIBjTx5AAAAAQMgzFUAAAABAtSUVQAAAAEBAohlAAAAAgFJ1G0AAAADAqRMZQAAAAGCNURxAAAAAYCJuFEAAAAAAR3IcQAAAACDlMRpAAAAAAIRPG0AAAAAgaLsYQAAAAGAlORRAAAAAIBROFUAAAADAVuIWQAAAAOCK6RdAAAAAgJM8CUAAAAAAnQUVQA==",
          "dtype": "f8"
         },
         "y0": " ",
         "yaxis": "y"
        },
        {
         "alignmentgroup": "True",
         "customdata": [
          [
           "Mongolia"
          ],
          [
           "Portugal"
          ],
          [
           "Morocco"
          ],
          [
           "Costa Rica"
          ],
          [
           "Niger"
          ],
          [
           "Libya"
          ],
          [
           "Cyprus"
          ],
          [
           "Madagascar"
          ],
          [
           "Luxembourg"
          ],
          [
           "Nicaragua"
          ],
          [
           "Lithuania"
          ],
          [
           "Azerbaijan"
          ],
          [
           "Philippines"
          ],
          [
           "Japan"
          ],
          [
           "Israel"
          ],
          [
           "Armenia"
          ],
          [
           "Austria"
          ],
          [
           "Venezuela"
          ],
          [
           "Australia"
          ],
          [
           "Congo (Kinshasa)"
          ],
          [
           "Croatia"
          ],
          [
           "Taiwan Province of China"
          ],
          [
           "Czechia"
          ],
          [
           "Switzerland"
          ],
          [
           "Thailand"
          ],
          [
           "Comoros"
          ],
          [
           "Colombia"
          ],
          [
           "Tanzania"
          ],
          [
           "Jordan"
          ],
          [
           "Iran"
          ],
          [
           "Indonesia"
          ],
          [
           "Russia"
          ],
          [
           "Romania"
          ],
          [
           "Iraq"
          ],
          [
           "Moldova"
          ],
          [
           "Mozambique"
          ],
          [
           "Namibia"
          ],
          [
           "Liberia"
          ],
          [
           "Nigeria"
          ],
          [
           "Lesotho"
          ],
          [
           "Denmark"
          ],
          [
           "Malawi"
          ],
          [
           "New Zealand"
          ],
          [
           "Sweden"
          ],
          [
           "Belgium"
          ],
          [
           "Saudi Arabia"
          ],
          [
           "India"
          ],
          [
           "Uzbekistan"
          ],
          [
           "Bangladesh"
          ],
          [
           "Uruguay"
          ],
          [
           "Peru"
          ],
          [
           "Ecuador"
          ],
          [
           "State of Palestine"
          ],
          [
           "Dominican Republic"
          ],
          [
           "Lebanon"
          ],
          [
           "North Macedonia"
          ],
          [
           "El Salvador"
          ],
          [
           "Tunisia"
          ],
          [
           "Chile"
          ],
          [
           "Chad"
          ],
          [
           "Paraguay"
          ],
          [
           "Kazakhstan"
          ],
          [
           "Hong Kong S.A.R. of China"
          ],
          [
           "Senegal"
          ],
          [
           "Honduras"
          ],
          [
           "Iceland"
          ],
          [
           "Hungary"
          ],
          [
           "Myanmar"
          ],
          [
           "Mexico"
          ],
          [
           "Togo"
          ],
          [
           "Sri Lanka"
          ],
          [
           "Egypt"
          ],
          [
           "Estonia"
          ],
          [
           "Mali"
          ],
          [
           "Netherlands"
          ],
          [
           "Malaysia"
          ],
          [
           "Canada"
          ],
          [
           "Sierra Leone"
          ],
          [
           "Serbia"
          ],
          [
           "Guinea"
          ],
          [
           "United States"
          ],
          [
           "United Kingdom"
          ],
          [
           "Benin"
          ],
          [
           "Kenya"
          ],
          [
           "Spain"
          ],
          [
           "Ethiopia"
          ],
          [
           "Eswatini"
          ],
          [
           "Türkiye"
          ],
          [
           "Cameroon"
          ],
          [
           "Cambodia"
          ],
          [
           "Latvia"
          ],
          [
           "Singapore"
          ],
          [
           "Ghana"
          ],
          [
           "Kuwait"
          ],
          [
           "Kosovo"
          ],
          [
           "Panama"
          ],
          [
           "Guatemala"
          ],
          [
           "Nepal"
          ],
          [
           "Mauritius"
          ],
          [
           "Mauritania"
          ],
          [
           "Norway"
          ],
          [
           "Laos"
          ],
          [
           "France"
          ],
          [
           "South Korea"
          ],
          [
           "Finland"
          ],
          [
           "South Africa"
          ],
          [
           "Gabon"
          ],
          [
           "Malta"
          ],
          [
           "Slovenia"
          ],
          [
           "Gambia"
          ],
          [
           "United Arab Emirates"
          ],
          [
           "Bolivia"
          ],
          [
           "Botswana"
          ],
          [
           "Ukraine"
          ],
          [
           "Slovakia"
          ],
          [
           "Germany"
          ],
          [
           "Greece"
          ],
          [
           "Kyrgyzstan"
          ],
          [
           "Pakistan"
          ],
          [
           "Bosnia and Herzegovina"
          ],
          [
           "Bulgaria"
          ],
          [
           "Uganda"
          ],
          [
           "Brazil"
          ],
          [
           "Georgia"
          ],
          [
           "Montenegro"
          ],
          [
           "Argentina"
          ],
          [
           "Afghanistan"
          ],
          [
           "Zimbabwe"
          ],
          [
           "Albania"
          ],
          [
           "Congo (Brazzaville)"
          ],
          [
           "Tajikistan"
          ],
          [
           "Ireland"
          ],
          [
           "Italy"
          ],
          [
           "Algeria"
          ],
          [
           "Yemen"
          ],
          [
           "Zambia"
          ],
          [
           "Vietnam"
          ],
          [
           "Jamaica"
          ],
          [
           "Ivory Coast"
          ],
          [
           "Poland"
          ]
         ],
         "hovertemplate": "year=%{x}<br>Life Ladder=%{y}<br>Country name=%{customdata[0]}<extra></extra>",
         "legendgroup": "2022",
         "marker": {
          "color": "#00cc96"
         },
         "name": "2022",
         "notched": false,
         "offsetgroup": "2022",
         "orientation": "v",
         "showlegend": true,
         "type": "box",
         "x": {
          "bdata": "5gfmB+YH5gfmB+YH5gfmB+YH5gfmB+YH5gfmB+YH5gfmB+YH5gfmB+YH5gfmB+YH5gfmB+YH5gfmB+YH5gfmB+YH5gfmB+YH5gfmB+YH5gfmB+YH5gfmB+YH5gfmB+YH5gfmB+YH5gfmB+YH5gfmB+YH5gfmB+YH5gfmB+YH5gfmB+YH5gfmB+YH5gfmB+YH5gfmB+YH5gfmB+YH5gfmB+YH5gfmB+YH5gfmB+YH5gfmB+YH5gfmB+YH5gfmB+YH5gfmB+YH5gfmB+YH5gfmB+YH5gfmB+YH5gfmB+YH5gfmB+YH5gfmB+YH5gfmB+YH5gfmB+YH5gfmB+YH5gfmB+YH5gfmB+YH5gfmB+YH5gfmB+YH5gfmBw==",
          "dtype": "i2"
         },
         "x0": " ",
         "xaxis": "x",
         "y": {
          "bdata": "AAAAAL0mF0AAAABgZ88XQAAAAEBmYhJAAAAAgH9OHEAAAAAAXQESQAAAAECFChdAAAAAwIJ1F0AAAADglxMQQAAAAMBn6RxAAAAAAKyRGUAAAACgeiYcQAAAAMAcThJAAAAA4Nb6F0AAAABASLYYQAAAAIBLph5AAAAAAByHFUAAAAAg+f4bQAAAAKDEyxdAAAAAYIcjHEAAAADAVqgJQAAAAICUUBZAAAAAALhtGkAAAABgwscaQAAAAIAOiRtAAAAAwEkHGEAAAADAk1wMQAAAAAAdkRdAAAAAQEDtDEAAAAAgJGwRQAAAAIBx6BNAAAAA4LdWFkAAAABgIS0YQAAAAAB2vxlAAAAAgES2E0AAAAAgF78WQAAAAABu9RJAAAAA4LzLE0AAAABARisQQAAAACBPLRVAAAAAwEJ9CUAAAABACy4eQAAAAKAx2ApAAAAA4GLmG0AAAABAkLkdQAAAAIBwbRtAAAAA4MSGGUAAAACAQ3APQAAAAOCgEBhAAAAAQKBCC0AAAAAA9K4aQAAAAIB6kRdAAAAAYGyMF0AAAADgi6ETQAAAAKDbEhZAAAAAoMXRAkAAAAAA46oUQAAAAMD39xlAAAAAACELEUAAAADgKakZQAAAAGAqlhFAAAAAIOqMGEAAAAAgbgYYQAAAAODDPhVAAAAAYJWgE0AAAADAKroXQAAAAMCQyx1AAAAAANpxF0AAAAAAsG8RQAAAACBKJxxAAAAAwLf0EEAAAABg/uAPQAAAAGAgGBBAAAAAYK9tGUAAAADgmdcQQAAAAMD8jh1AAAAAoCgxGEAAAABA96sbQAAAAIDCewRAAAAAgK4uGkAAAADgHEUVQAAAAMBqxRpAAAAAQBrjGkAAAACgit4QQAAAAICyyhFAAAAA4PxYGUAAAABgSgYNQAAAACAaBAxAAAAAIK9fFEAAAACAgdkSQAAAAKBJABFAAAAAgCc4GEAAAAAAClUZQAAAAGBvwxBAAAAAYAQIG0AAAACgsKMYQAAAACDj6hdAAAAAgPCZGEAAAABgjuUVQAAAAOBF9hZAAAAA4D3lEkAAAADArC0dQAAAAIC82BNAAAAAwIl0GkAAAABg0MwXQAAAAIB+6h5AAAAAoPlSFkAAAABA2Y4UQAAAAIBrMhlAAAAAYMLkGkAAAADgJR4RQAAAAOBO8xpAAAAA4Cy3F0AAAACAcXsLQAAAACC8jBJAAAAAoERdGEAAAADAzW4aQAAAAAASmhdAAAAAgN6rFkAAAADAA7kTQAAAAAD8fBdAAAAA4G2DFUAAAABg47IRQAAAAOA/BxlAAAAAAMgrFUAAAADAcWYWQAAAAOBBCxlAAAAAIBaA9D8AAABgqF4KQAAAAGBO2RRAAAAAoDw4F0AAAAAgI7QUQAAAAKC9ehtAAAAAIK4IGUAAAACgFicWQAAAAGAYuQxAAAAAQCXTDUAAAACg5xAZQAAAAOASexdAAAAAwAplE0AAAABgQaoaQA==",
          "dtype": "f8"
         },
         "y0": " ",
         "yaxis": "y"
        },
        {
         "alignmentgroup": "True",
         "customdata": [
          [
           "Poland"
          ],
          [
           "Ivory Coast"
          ],
          [
           "Zambia"
          ],
          [
           "Vietnam"
          ],
          [
           "Yemen"
          ],
          [
           "Italy"
          ],
          [
           "Ireland"
          ],
          [
           "Costa Rica"
          ],
          [
           "Comoros"
          ],
          [
           "Tajikistan"
          ],
          [
           "Albania"
          ],
          [
           "Mongolia"
          ],
          [
           "Afghanistan"
          ],
          [
           "Argentina"
          ],
          [
           "Moldova"
          ],
          [
           "Portugal"
          ],
          [
           "Slovenia"
          ],
          [
           "Brazil"
          ],
          [
           "Uganda"
          ],
          [
           "Bosnia and Herzegovina"
          ],
          [
           "Georgia"
          ],
          [
           "Kuwait"
          ],
          [
           "Pakistan"
          ],
          [
           "Kyrgyzstan"
          ],
          [
           "France"
          ],
          [
           "Germany"
          ],
          [
           "Ukraine"
          ],
          [
           "Botswana"
          ],
          [
           "Bolivia"
          ],
          [
           "United Arab Emirates"
          ],
          [
           "Slovakia"
          ],
          [
           "Gambia"
          ],
          [
           "Burkina Faso"
          ],
          [
           "Nepal"
          ],
          [
           "Malta"
          ],
          [
           "Gabon"
          ],
          [
           "South Africa"
          ],
          [
           "Finland"
          ],
          [
           "South Korea"
          ],
          [
           "Laos"
          ],
          [
           "Mauritania"
          ],
          [
           "Mauritius"
          ],
          [
           "Guatemala"
          ],
          [
           "Panama"
          ],
          [
           "Kosovo"
          ],
          [
           "Ghana"
          ],
          [
           "Singapore"
          ],
          [
           "Norway"
          ],
          [
           "Latvia"
          ],
          [
           "Cambodia"
          ],
          [
           "Cameroon"
          ],
          [
           "Bulgaria"
          ],
          [
           "Türkiye"
          ],
          [
           "Ethiopia"
          ],
          [
           "El Salvador"
          ],
          [
           "Spain"
          ],
          [
           "Kazakhstan"
          ],
          [
           "Kenya"
          ],
          [
           "Benin"
          ],
          [
           "United Kingdom"
          ],
          [
           "United States"
          ],
          [
           "Guinea"
          ],
          [
           "Serbia"
          ],
          [
           "Greece"
          ],
          [
           "Sierra Leone"
          ],
          [
           "Canada"
          ],
          [
           "Malaysia"
          ],
          [
           "Netherlands"
          ],
          [
           "Mali"
          ],
          [
           "Estonia"
          ],
          [
           "Egypt"
          ],
          [
           "Sri Lanka"
          ],
          [
           "Togo"
          ],
          [
           "Myanmar"
          ],
          [
           "Bahrain"
          ],
          [
           "Hungary"
          ],
          [
           "Iceland"
          ],
          [
           "Honduras"
          ],
          [
           "Senegal"
          ],
          [
           "Paraguay"
          ],
          [
           "Chad"
          ],
          [
           "Tunisia"
          ],
          [
           "North Macedonia"
          ],
          [
           "Lebanon"
          ],
          [
           "Dominican Republic"
          ],
          [
           "State of Palestine"
          ],
          [
           "Ecuador"
          ],
          [
           "Jordan"
          ],
          [
           "Peru"
          ],
          [
           "Uruguay"
          ],
          [
           "Bangladesh"
          ],
          [
           "Austria"
          ],
          [
           "Uzbekistan"
          ],
          [
           "India"
          ],
          [
           "Saudi Arabia"
          ],
          [
           "Belgium"
          ],
          [
           "Sweden"
          ],
          [
           "Thailand"
          ],
          [
           "Madagascar"
          ],
          [
           "New Zealand"
          ],
          [
           "Malawi"
          ],
          [
           "Denmark"
          ],
          [
           "Nigeria"
          ],
          [
           "Liberia"
          ],
          [
           "Cyprus"
          ],
          [
           "Namibia"
          ],
          [
           "Mozambique"
          ],
          [
           "Mexico"
          ],
          [
           "Romania"
          ],
          [
           "Iraq"
          ],
          [
           "Russia"
          ],
          [
           "Indonesia"
          ],
          [
           "Tanzania"
          ],
          [
           "Colombia"
          ],
          [
           "Chile"
          ],
          [
           "Switzerland"
          ],
          [
           "Czechia"
          ],
          [
           "Taiwan Province of China"
          ],
          [
           "Congo (Brazzaville)"
          ],
          [
           "Australia"
          ],
          [
           "Venezuela"
          ],
          [
           "Armenia"
          ],
          [
           "Israel"
          ],
          [
           "Japan"
          ],
          [
           "Philippines"
          ],
          [
           "Iran"
          ],
          [
           "Azerbaijan"
          ],
          [
           "Congo (Kinshasa)"
          ],
          [
           "Lithuania"
          ],
          [
           "Nicaragua"
          ],
          [
           "Luxembourg"
          ],
          [
           "China"
          ],
          [
           "Croatia"
          ],
          [
           "Libya"
          ],
          [
           "Niger"
          ],
          [
           "Montenegro"
          ],
          [
           "Zimbabwe"
          ],
          [
           "Morocco"
          ]
         ],
         "hovertemplate": "year=%{x}<br>Life Ladder=%{y}<br>Country name=%{customdata[0]}<extra></extra>",
         "legendgroup": "2023",
         "marker": {
          "color": "#ab63fa"
         },
         "name": "2023",
         "notched": false,
         "offsetgroup": "2023",
         "orientation": "v",
         "showlegend": true,
         "type": "box",
         "x": {
          "bdata": "5wfnB+cH5wfnB+cH5wfnB+cH5wfnB+cH5wfnB+cH5wfnB+cH5wfnB+cH5wfnB+cH5wfnB+cH5wfnB+cH5wfnB+cH5wfnB+cH5wfnB+cH5wfnB+cH5wfnB+cH5wfnB+cH5wfnB+cH5wfnB+cH5wfnB+cH5wfnB+cH5wfnB+cH5wfnB+cH5wfnB+cH5wfnB+cH5wfnB+cH5wfnB+cH5wfnB+cH5wfnB+cH5wfnB+cH5wfnB+cH5wfnB+cH5wfnB+cH5wfnB+cH5wfnB+cH5wfnB+cH5wfnB+cH5wfnB+cH5wfnB+cH5wfnB+cH5wfnB+cH5wfnB+cH5wfnB+cH5wfnB+cH5wfnB+cH5wfnB+cH5wfnB+cH",
          "dtype": "i2"
         },
         "x0": " ",
         "xaxis": "x",
         "y": {
          "bdata": "AAAAoBW9GkAAAADgqVgVQAAAACALfA1AAAAAAOtMGUAAAACgqUAMQAAAAKD++hhAAAAAwCBEG0AAAABgSYkdQAAAAOBWtAxAAAAAAJSEFUAAAAAAXccVQAAAAKCIURZAAAAAAHEi9z8AAACAqpIZQAAAAOCZNBdAAAAAQOjQF0AAAADAqvsaQAAAAKD0NRpAAAAAILfdEUAAAACAyQgYQAAAAOAMZxVAAAAAQGmFHEAAAACAfzISQAAAAGBWoxdAAAAAoEk6GkAAAACggisbQAAAAGCVsBJAAAAAADenCkAAAAAAhnAXQAAAAIDd6RpAAAAAQMYKGUAAAACAV8MSQAAAAABN2RFAAAAAgAmOFUAAAABg7i0ZQAAAAMCfahRAAAAAYIlNFEAAAAAgtMseQAAAAOCachhAAAAAgAvyFUAAAACADisRQAAAAKBjCRdAAAAAoGevGUAAAAAgVCwaQAAAACDcghtAAAAAQJ0xEUAAAAAAo50aQAAAAMCk/hxAAAAAgL0uGUAAAABgqOIQQAAAACCMyBNAAAAA4L9bFkAAAAAgztkVQAAAAEDfXhBAAAAAQGntGUAAAABg+tIZQAAAAICeMhlAAAAAgCP8EUAAAAAA6a0RQAAAAADWoRpAAAAAgF8VGkAAAABACE8TQAAAACCZwxlAAAAAICsvF0AAAAAgjbsLQAAAAEBlXRtAAAAAwO94F0AAAACg6AQdQAAAAADbehFAAAAAoDC4GUAAAAAgjQsPQAAAAODT0QxAAAAAgLJ1EUAAAABAApARQAAAAAAW1hdAAAAAoFfcF0AAAACAFj8eQAAAAMA4cRdAAAAAYPNeFEAAAABg69oYQAAAAGAnLRJAAAAAwEMFEkAAAACAspwVQAAAAEAJtAxAAAAAYF+vF0AAAAAgnWcTQAAAACAyaBdAAAAAwAorEUAAAABAH74XQAAAAGCapRpAAAAAIEZ0EEAAAACA64oaQAAAAACcihlAAAAAoDu0EkAAAABAQdAbQAAAAMA+xhtAAAAAwKKkHEAAAAAgJCEZQAAAAIBkuxFAAAAA4GDnG0AAAACAPi0KQAAAACBLBB5AAAAAwMp5E0AAAADgxPkRQAAAAOBJSBhAAAAAQKY4FEAAAABAaNEWQAAAAIDeBRxAAAAA4FD0GUAAAADgx+YVQAAAAGCRdRdAAAAA4IvHFkAAAACACSsQQAAAACAcnhdAAAAAAFbrGEAAAADAFeAbQAAAAMDaThtAAAAAgBSfGkAAAACAntATQAAAACAsGRxAAAAAYLsPF0AAAABgY7cWQAAAAEA0IhtAAAAAYPWjF0AAAACA6rsYQAAAACBiBBRAAAAAQAfbFEAAAADAMhELQAAAAADrNRpAAAAA4NByGUAAAACgchAcQAAAAAA9lBhAAAAAQGHVF0AAAABgk+EXQAAAAABEbxJAAAAAgIRAF0AAAABAP5QMQAAAAMAw8hFA",
          "dtype": "f8"
         },
         "y0": " ",
         "yaxis": "y"
        }
       ],
       "layout": {
        "boxmode": "overlay",
        "legend": {
         "title": {
          "text": "year"
         },
         "tracegroupgap": 0
        },
        "template": {
         "data": {
          "bar": [
           {
            "error_x": {
             "color": "#2a3f5f"
            },
            "error_y": {
             "color": "#2a3f5f"
            },
            "marker": {
             "line": {
              "color": "#E5ECF6",
              "width": 0.5
             },
             "pattern": {
              "fillmode": "overlay",
              "size": 10,
              "solidity": 0.2
             }
            },
            "type": "bar"
           }
          ],
          "barpolar": [
           {
            "marker": {
             "line": {
              "color": "#E5ECF6",
              "width": 0.5
             },
             "pattern": {
              "fillmode": "overlay",
              "size": 10,
              "solidity": 0.2
             }
            },
            "type": "barpolar"
           }
          ],
          "carpet": [
           {
            "aaxis": {
             "endlinecolor": "#2a3f5f",
             "gridcolor": "white",
             "linecolor": "white",
             "minorgridcolor": "white",
             "startlinecolor": "#2a3f5f"
            },
            "baxis": {
             "endlinecolor": "#2a3f5f",
             "gridcolor": "white",
             "linecolor": "white",
             "minorgridcolor": "white",
             "startlinecolor": "#2a3f5f"
            },
            "type": "carpet"
           }
          ],
          "choropleth": [
           {
            "colorbar": {
             "outlinewidth": 0,
             "ticks": ""
            },
            "type": "choropleth"
           }
          ],
          "contour": [
           {
            "colorbar": {
             "outlinewidth": 0,
             "ticks": ""
            },
            "colorscale": [
             [
              0,
              "#0d0887"
             ],
             [
              0.1111111111111111,
              "#46039f"
             ],
             [
              0.2222222222222222,
              "#7201a8"
             ],
             [
              0.3333333333333333,
              "#9c179e"
             ],
             [
              0.4444444444444444,
              "#bd3786"
             ],
             [
              0.5555555555555556,
              "#d8576b"
             ],
             [
              0.6666666666666666,
              "#ed7953"
             ],
             [
              0.7777777777777778,
              "#fb9f3a"
             ],
             [
              0.8888888888888888,
              "#fdca26"
             ],
             [
              1,
              "#f0f921"
             ]
            ],
            "type": "contour"
           }
          ],
          "contourcarpet": [
           {
            "colorbar": {
             "outlinewidth": 0,
             "ticks": ""
            },
            "type": "contourcarpet"
           }
          ],
          "heatmap": [
           {
            "colorbar": {
             "outlinewidth": 0,
             "ticks": ""
            },
            "colorscale": [
             [
              0,
              "#0d0887"
             ],
             [
              0.1111111111111111,
              "#46039f"
             ],
             [
              0.2222222222222222,
              "#7201a8"
             ],
             [
              0.3333333333333333,
              "#9c179e"
             ],
             [
              0.4444444444444444,
              "#bd3786"
             ],
             [
              0.5555555555555556,
              "#d8576b"
             ],
             [
              0.6666666666666666,
              "#ed7953"
             ],
             [
              0.7777777777777778,
              "#fb9f3a"
             ],
             [
              0.8888888888888888,
              "#fdca26"
             ],
             [
              1,
              "#f0f921"
             ]
            ],
            "type": "heatmap"
           }
          ],
          "histogram": [
           {
            "marker": {
             "pattern": {
              "fillmode": "overlay",
              "size": 10,
              "solidity": 0.2
             }
            },
            "type": "histogram"
           }
          ],
          "histogram2d": [
           {
            "colorbar": {
             "outlinewidth": 0,
             "ticks": ""
            },
            "colorscale": [
             [
              0,
              "#0d0887"
             ],
             [
              0.1111111111111111,
              "#46039f"
             ],
             [
              0.2222222222222222,
              "#7201a8"
             ],
             [
              0.3333333333333333,
              "#9c179e"
             ],
             [
              0.4444444444444444,
              "#bd3786"
             ],
             [
              0.5555555555555556,
              "#d8576b"
             ],
             [
              0.6666666666666666,
              "#ed7953"
             ],
             [
              0.7777777777777778,
              "#fb9f3a"
             ],
             [
              0.8888888888888888,
              "#fdca26"
             ],
             [
              1,
              "#f0f921"
             ]
            ],
            "type": "histogram2d"
           }
          ],
          "histogram2dcontour": [
           {
            "colorbar": {
             "outlinewidth": 0,
             "ticks": ""
            },
            "colorscale": [
             [
              0,
              "#0d0887"
             ],
             [
              0.1111111111111111,
              "#46039f"
             ],
             [
              0.2222222222222222,
              "#7201a8"
             ],
             [
              0.3333333333333333,
              "#9c179e"
             ],
             [
              0.4444444444444444,
              "#bd3786"
             ],
             [
              0.5555555555555556,
              "#d8576b"
             ],
             [
              0.6666666666666666,
              "#ed7953"
             ],
             [
              0.7777777777777778,
              "#fb9f3a"
             ],
             [
              0.8888888888888888,
              "#fdca26"
             ],
             [
              1,
              "#f0f921"
             ]
            ],
            "type": "histogram2dcontour"
           }
          ],
          "mesh3d": [
           {
            "colorbar": {
             "outlinewidth": 0,
             "ticks": ""
            },
            "type": "mesh3d"
           }
          ],
          "parcoords": [
           {
            "line": {
             "colorbar": {
              "outlinewidth": 0,
              "ticks": ""
             }
            },
            "type": "parcoords"
           }
          ],
          "pie": [
           {
            "automargin": true,
            "type": "pie"
           }
          ],
          "scatter": [
           {
            "fillpattern": {
             "fillmode": "overlay",
             "size": 10,
             "solidity": 0.2
            },
            "type": "scatter"
           }
          ],
          "scatter3d": [
           {
            "line": {
             "colorbar": {
              "outlinewidth": 0,
              "ticks": ""
             }
            },
            "marker": {
             "colorbar": {
              "outlinewidth": 0,
              "ticks": ""
             }
            },
            "type": "scatter3d"
           }
          ],
          "scattercarpet": [
           {
            "marker": {
             "colorbar": {
              "outlinewidth": 0,
              "ticks": ""
             }
            },
            "type": "scattercarpet"
           }
          ],
          "scattergeo": [
           {
            "marker": {
             "colorbar": {
              "outlinewidth": 0,
              "ticks": ""
             }
            },
            "type": "scattergeo"
           }
          ],
          "scattergl": [
           {
            "marker": {
             "colorbar": {
              "outlinewidth": 0,
              "ticks": ""
             }
            },
            "type": "scattergl"
           }
          ],
          "scattermap": [
           {
            "marker": {
             "colorbar": {
              "outlinewidth": 0,
              "ticks": ""
             }
            },
            "type": "scattermap"
           }
          ],
          "scattermapbox": [
           {
            "marker": {
             "colorbar": {
              "outlinewidth": 0,
              "ticks": ""
             }
            },
            "type": "scattermapbox"
           }
          ],
          "scatterpolar": [
           {
            "marker": {
             "colorbar": {
              "outlinewidth": 0,
              "ticks": ""
             }
            },
            "type": "scatterpolar"
           }
          ],
          "scatterpolargl": [
           {
            "marker": {
             "colorbar": {
              "outlinewidth": 0,
              "ticks": ""
             }
            },
            "type": "scatterpolargl"
           }
          ],
          "scatterternary": [
           {
            "marker": {
             "colorbar": {
              "outlinewidth": 0,
              "ticks": ""
             }
            },
            "type": "scatterternary"
           }
          ],
          "surface": [
           {
            "colorbar": {
             "outlinewidth": 0,
             "ticks": ""
            },
            "colorscale": [
             [
              0,
              "#0d0887"
             ],
             [
              0.1111111111111111,
              "#46039f"
             ],
             [
              0.2222222222222222,
              "#7201a8"
             ],
             [
              0.3333333333333333,
              "#9c179e"
             ],
             [
              0.4444444444444444,
              "#bd3786"
             ],
             [
              0.5555555555555556,
              "#d8576b"
             ],
             [
              0.6666666666666666,
              "#ed7953"
             ],
             [
              0.7777777777777778,
              "#fb9f3a"
             ],
             [
              0.8888888888888888,
              "#fdca26"
             ],
             [
              1,
              "#f0f921"
             ]
            ],
            "type": "surface"
           }
          ],
          "table": [
           {
            "cells": {
             "fill": {
              "color": "#EBF0F8"
             },
             "line": {
              "color": "white"
             }
            },
            "header": {
             "fill": {
              "color": "#C8D4E3"
             },
             "line": {
              "color": "white"
             }
            },
            "type": "table"
           }
          ]
         },
         "layout": {
          "annotationdefaults": {
           "arrowcolor": "#2a3f5f",
           "arrowhead": 0,
           "arrowwidth": 1
          },
          "autotypenumbers": "strict",
          "coloraxis": {
           "colorbar": {
            "outlinewidth": 0,
            "ticks": ""
           }
          },
          "colorscale": {
           "diverging": [
            [
             0,
             "#8e0152"
            ],
            [
             0.1,
             "#c51b7d"
            ],
            [
             0.2,
             "#de77ae"
            ],
            [
             0.3,
             "#f1b6da"
            ],
            [
             0.4,
             "#fde0ef"
            ],
            [
             0.5,
             "#f7f7f7"
            ],
            [
             0.6,
             "#e6f5d0"
            ],
            [
             0.7,
             "#b8e186"
            ],
            [
             0.8,
             "#7fbc41"
            ],
            [
             0.9,
             "#4d9221"
            ],
            [
             1,
             "#276419"
            ]
           ],
           "sequential": [
            [
             0,
             "#0d0887"
            ],
            [
             0.1111111111111111,
             "#46039f"
            ],
            [
             0.2222222222222222,
             "#7201a8"
            ],
            [
             0.3333333333333333,
             "#9c179e"
            ],
            [
             0.4444444444444444,
             "#bd3786"
            ],
            [
             0.5555555555555556,
             "#d8576b"
            ],
            [
             0.6666666666666666,
             "#ed7953"
            ],
            [
             0.7777777777777778,
             "#fb9f3a"
            ],
            [
             0.8888888888888888,
             "#fdca26"
            ],
            [
             1,
             "#f0f921"
            ]
           ],
           "sequentialminus": [
            [
             0,
             "#0d0887"
            ],
            [
             0.1111111111111111,
             "#46039f"
            ],
            [
             0.2222222222222222,
             "#7201a8"
            ],
            [
             0.3333333333333333,
             "#9c179e"
            ],
            [
             0.4444444444444444,
             "#bd3786"
            ],
            [
             0.5555555555555556,
             "#d8576b"
            ],
            [
             0.6666666666666666,
             "#ed7953"
            ],
            [
             0.7777777777777778,
             "#fb9f3a"
            ],
            [
             0.8888888888888888,
             "#fdca26"
            ],
            [
             1,
             "#f0f921"
            ]
           ]
          },
          "colorway": [
           "#636efa",
           "#EF553B",
           "#00cc96",
           "#ab63fa",
           "#FFA15A",
           "#19d3f3",
           "#FF6692",
           "#B6E880",
           "#FF97FF",
           "#FECB52"
          ],
          "font": {
           "color": "#2a3f5f"
          },
          "geo": {
           "bgcolor": "white",
           "lakecolor": "white",
           "landcolor": "#E5ECF6",
           "showlakes": true,
           "showland": true,
           "subunitcolor": "white"
          },
          "hoverlabel": {
           "align": "left"
          },
          "hovermode": "closest",
          "mapbox": {
           "style": "light"
          },
          "paper_bgcolor": "white",
          "plot_bgcolor": "#E5ECF6",
          "polar": {
           "angularaxis": {
            "gridcolor": "white",
            "linecolor": "white",
            "ticks": ""
           },
           "bgcolor": "#E5ECF6",
           "radialaxis": {
            "gridcolor": "white",
            "linecolor": "white",
            "ticks": ""
           }
          },
          "scene": {
           "xaxis": {
            "backgroundcolor": "#E5ECF6",
            "gridcolor": "white",
            "gridwidth": 2,
            "linecolor": "white",
            "showbackground": true,
            "ticks": "",
            "zerolinecolor": "white"
           },
           "yaxis": {
            "backgroundcolor": "#E5ECF6",
            "gridcolor": "white",
            "gridwidth": 2,
            "linecolor": "white",
            "showbackground": true,
            "ticks": "",
            "zerolinecolor": "white"
           },
           "zaxis": {
            "backgroundcolor": "#E5ECF6",
            "gridcolor": "white",
            "gridwidth": 2,
            "linecolor": "white",
            "showbackground": true,
            "ticks": "",
            "zerolinecolor": "white"
           }
          },
          "shapedefaults": {
           "line": {
            "color": "#2a3f5f"
           }
          },
          "ternary": {
           "aaxis": {
            "gridcolor": "white",
            "linecolor": "white",
            "ticks": ""
           },
           "baxis": {
            "gridcolor": "white",
            "linecolor": "white",
            "ticks": ""
           },
           "bgcolor": "#E5ECF6",
           "caxis": {
            "gridcolor": "white",
            "linecolor": "white",
            "ticks": ""
           }
          },
          "title": {
           "x": 0.05
          },
          "xaxis": {
           "automargin": true,
           "gridcolor": "white",
           "linecolor": "white",
           "ticks": "",
           "title": {
            "standoff": 15
           },
           "zerolinecolor": "white",
           "zerolinewidth": 2
          },
          "yaxis": {
           "automargin": true,
           "gridcolor": "white",
           "linecolor": "white",
           "ticks": "",
           "title": {
            "standoff": 15
           },
           "zerolinecolor": "white",
           "zerolinewidth": 2
          }
         }
        },
        "title": {
         "text": "Indice de felicidad en los ultimos cuatro años"
        },
        "xaxis": {
         "anchor": "y",
         "categoryarray": [
          2020,
          2021,
          2022,
          2023
         ],
         "categoryorder": "array",
         "domain": [
          0,
          1
         ],
         "title": {
          "text": "year"
         }
        },
        "yaxis": {
         "anchor": "x",
         "domain": [
          0,
          1
         ],
         "title": {
          "text": "Life Ladder"
         }
        }
       }
      }
     },
     "metadata": {},
     "output_type": "display_data"
    }
   ],
   "source": [
    "# Eliminamos todas las columnas excepto las primeras 3\n",
    "happynes_data_last_years = world_happiness_data.iloc[:, :3]\n",
    "\n",
    "# Filtramos las filas donde el año sea 2023 o 2022\n",
    "happynes_data_last_years = happynes_data_last_years[happynes_data_last_years['year'].isin([2020, 2021, 2022, 2023])]\n",
    "fig = px.box(happynes_data_last_years, \n",
    "             x=\"year\", \n",
    "             y=\"Life Ladder\",\n",
    "             color=\"year\",\n",
    "             title='Indice de felicidad en los ultimos cuatro años',\n",
    "             hover_data=[\"Country name\"])\n",
    "\n",
    "# Mostrar el gráfico\n",
    "fig.show()\n"
   ]
  },
  {
   "cell_type": "code",
   "execution_count": null,
   "metadata": {},
   "outputs": [],
   "source": []
  }
 ],
 "metadata": {
  "kernelspec": {
   "display_name": "Python 3",
   "language": "python",
   "name": "python3"
  },
  "language_info": {
   "codemirror_mode": {
    "name": "ipython",
    "version": 3
   },
   "file_extension": ".py",
   "mimetype": "text/x-python",
   "name": "python",
   "nbconvert_exporter": "python",
   "pygments_lexer": "ipython3",
   "version": "3.13.1"
  }
 },
 "nbformat": 4,
 "nbformat_minor": 2
}
